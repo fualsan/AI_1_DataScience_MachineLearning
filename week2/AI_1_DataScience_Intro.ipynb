{
 "cells": [
  {
   "cell_type": "markdown",
   "id": "cf2d3a0d-0b40-430a-889c-a5aaa7b30a6d",
   "metadata": {},
   "source": [
    "# Artificial Intelligence I: Introduction to Data Science and Machine Learning\n",
    "# Chapter 2: Data Science Introduction\n",
    "### Scientific computing with Numpy"
   ]
  },
  {
   "cell_type": "markdown",
   "id": "a0b3c4ec-52bd-4f10-8a6d-66ebbd5cc652",
   "metadata": {},
   "source": [
    "* In data science and machine learning, we often deal with numerical (mathematical) operations such as: linear algebra, calculus, etc.\n",
    "* Python is a scripting langauage, not very efficient at numerical computations\n",
    "* Numpy is fast is scientific computation library\n",
    "* Numpy offers fast N-dimentional arrays and many math and linear algebra functions \n",
    "* Nearly all data science/machine learning libraries use it underneath\n",
    "    * Ex: Pandas, scikit-learn"
   ]
  },
  {
   "cell_type": "code",
   "execution_count": 1,
   "id": "9731716f-99c5-4d52-a813-11977ca07ec3",
   "metadata": {},
   "outputs": [],
   "source": [
    "# Uncomment below to install numpy\n",
    "#!pip install numpy"
   ]
  },
  {
   "cell_type": "code",
   "execution_count": 2,
   "id": "475f0134-c1f3-4676-a272-51e66d60b3d6",
   "metadata": {},
   "outputs": [],
   "source": [
    "import numpy as np"
   ]
  },
  {
   "cell_type": "markdown",
   "id": "75edd547-a389-43cd-b018-393355ed0183",
   "metadata": {},
   "source": [
    "### Numpy arrays\n",
    "* **ndarray:** N-dimentional arrays (N is any positive integer)\n",
    "* Can be initialized with Python data structures"
   ]
  },
  {
   "cell_type": "code",
   "execution_count": 3,
   "id": "92ffb238-a921-4bb0-98f3-e2af64134547",
   "metadata": {},
   "outputs": [
    {
     "data": {
      "text/plain": [
       "numpy.ndarray"
      ]
     },
     "execution_count": 3,
     "metadata": {},
     "output_type": "execute_result"
    }
   ],
   "source": [
    "# initialize using 1D tuple\n",
    "arr = np.array((1, 2, 3, 6, 1, 17, 1))\n",
    "# ndarray stands for N-dimentional array\n",
    "type(arr)"
   ]
  },
  {
   "cell_type": "code",
   "execution_count": 4,
   "id": "cc8376e3-e508-4e8c-b1a1-4fb78640ee9f",
   "metadata": {},
   "outputs": [
    {
     "data": {
      "text/plain": [
       "numpy.ndarray"
      ]
     },
     "execution_count": 4,
     "metadata": {},
     "output_type": "execute_result"
    }
   ],
   "source": [
    "# initialize using 1D list\n",
    "arr = np.array([1, 2, 3, 6, 1, 17, 1])\n",
    "# ndarray stands for N-dimentional array\n",
    "type(arr)"
   ]
  },
  {
   "cell_type": "code",
   "execution_count": 5,
   "id": "838bea44-96d3-44a3-bd23-05ecf3f5b931",
   "metadata": {},
   "outputs": [
    {
     "name": "stdout",
     "output_type": "stream",
     "text": [
      "Data type: int64\n",
      "Length of array: 7\n",
      "Number of bytes: 56\n",
      "Bytes per element: 8\n"
     ]
    }
   ],
   "source": [
    "print(f'Data type: {arr.dtype}')\n",
    "print(f'Length of array: {len(arr)}')\n",
    "print(f'Number of bytes: {arr.nbytes}')\n",
    "print(f'Bytes per element: {arr.nbytes//len(arr)}')"
   ]
  },
  {
   "cell_type": "code",
   "execution_count": 6,
   "id": "02f9f555-1ab2-47cb-9254-68a17cc24be3",
   "metadata": {},
   "outputs": [
    {
     "name": "stdout",
     "output_type": "stream",
     "text": [
      "Number of dimensions: 1\n",
      "Shape of dimensions: (7,)\n"
     ]
    }
   ],
   "source": [
    "print(f'Number of dimensions: {arr.ndim}')\n",
    "print(f'Shape of dimensions: {arr.shape}')"
   ]
  },
  {
   "cell_type": "markdown",
   "id": "fdfc845c-1a86-4946-a074-94c4c2af754b",
   "metadata": {},
   "source": [
    "#### Force data type"
   ]
  },
  {
   "cell_type": "code",
   "execution_count": 7,
   "id": "53c18bed-66e1-48e3-9d39-fd500d8e5874",
   "metadata": {},
   "outputs": [
    {
     "data": {
      "text/plain": [
       "array([2., 3., 5.], dtype=float32)"
      ]
     },
     "execution_count": 7,
     "metadata": {},
     "output_type": "execute_result"
    }
   ],
   "source": [
    "np.array([2, 3, 5], dtype=np.float32)"
   ]
  },
  {
   "cell_type": "markdown",
   "id": "544defda-064d-4f2d-9688-a311e65b95bf",
   "metadata": {},
   "source": [
    "#### Vectors\n",
    "* (Remember this is the 2D list notation)"
   ]
  },
  {
   "cell_type": "code",
   "execution_count": 8,
   "id": "3cc2d6c2-4aac-44b8-ae27-1b6b06693574",
   "metadata": {},
   "outputs": [
    {
     "data": {
      "text/plain": [
       "array([[1],\n",
       "       [2],\n",
       "       [3],\n",
       "       [4]])"
      ]
     },
     "execution_count": 8,
     "metadata": {},
     "output_type": "execute_result"
    }
   ],
   "source": [
    "column_vector = np.array([[1], [2], [3], [4]])\n",
    "column_vector"
   ]
  },
  {
   "cell_type": "code",
   "execution_count": 9,
   "id": "4ff4ded9-3c95-4637-b918-aab6927bc544",
   "metadata": {},
   "outputs": [
    {
     "data": {
      "text/plain": [
       "array([[1, 2, 3, 4]])"
      ]
     },
     "execution_count": 9,
     "metadata": {},
     "output_type": "execute_result"
    }
   ],
   "source": [
    "row_vector = np.array([[1, 2, 3, 4]])\n",
    "row_vector"
   ]
  },
  {
   "cell_type": "code",
   "execution_count": 10,
   "id": "2c5a5ca6-3d27-4f68-8624-0fa7bb559f24",
   "metadata": {},
   "outputs": [
    {
     "name": "stdout",
     "output_type": "stream",
     "text": [
      "Row vector shape: (1, 4)\n",
      "Column vector shape: (4, 1)\n"
     ]
    }
   ],
   "source": [
    "print(f'Row vector shape: {row_vector.shape}')\n",
    "print(f'Column vector shape: {column_vector.shape}')"
   ]
  },
  {
   "cell_type": "markdown",
   "id": "9b6f4cd9-dd74-4717-8929-ddca4f0a5602",
   "metadata": {},
   "source": [
    "#### Matrix (2D arrays)\n",
    "* (Remember this is the 2D list notation)"
   ]
  },
  {
   "cell_type": "code",
   "execution_count": 11,
   "id": "20696d45-f550-4e49-ba94-a1c58bea0734",
   "metadata": {},
   "outputs": [
    {
     "data": {
      "text/plain": [
       "array([[1, 2, 3],\n",
       "       [4, 5, 6],\n",
       "       [7, 8, 9]])"
      ]
     },
     "execution_count": 11,
     "metadata": {},
     "output_type": "execute_result"
    }
   ],
   "source": [
    "# A (3x3) matrix\n",
    "matrix = np.array([[1, 2, 3], [4, 5, 6], [7, 8, 9]])\n",
    "matrix"
   ]
  },
  {
   "cell_type": "code",
   "execution_count": 12,
   "id": "728196ed-b0f9-42eb-9cd8-fba54a35af19",
   "metadata": {},
   "outputs": [
    {
     "name": "stdout",
     "output_type": "stream",
     "text": [
      "Number of dimensions: 2\n",
      "Shape of dimensions: (3, 3)\n"
     ]
    }
   ],
   "source": [
    "print(f'Number of dimensions: {matrix.ndim}')\n",
    "print(f'Shape of dimensions: {matrix.shape}')"
   ]
  },
  {
   "cell_type": "markdown",
   "id": "77961916-ff90-4778-bb1b-64ae5c0adef4",
   "metadata": {},
   "source": [
    "#### Broadcasting\n",
    "* Highly recommended reading: https://numpy.org/doc/stable/user/basics.broadcasting.html\n",
    "* Highly recommended watch: https://www.youtube.com/watch?v=oG1t3qlzq14"
   ]
  },
  {
   "cell_type": "code",
   "execution_count": 13,
   "id": "9c3891f4-1fd4-4c3f-9ac1-692cfcc3f105",
   "metadata": {},
   "outputs": [
    {
     "data": {
      "text/plain": [
       "array([[ 4,  5,  6],\n",
       "       [ 7,  8,  9],\n",
       "       [10, 11, 12]])"
      ]
     },
     "execution_count": 13,
     "metadata": {},
     "output_type": "execute_result"
    }
   ],
   "source": [
    "# 3 is stretched along all axis\n",
    "matrix + 3"
   ]
  },
  {
   "cell_type": "code",
   "execution_count": 14,
   "id": "c1830116-9ae9-40bc-86a7-05c70a636789",
   "metadata": {},
   "outputs": [
    {
     "data": {
      "text/plain": [
       "array([[ 3,  6,  9],\n",
       "       [12, 15, 18],\n",
       "       [21, 24, 27]])"
      ]
     },
     "execution_count": 14,
     "metadata": {},
     "output_type": "execute_result"
    }
   ],
   "source": [
    "matrix * 3"
   ]
  },
  {
   "cell_type": "code",
   "execution_count": 15,
   "id": "13d338b7-cdef-47ef-a42e-0e18c26494aa",
   "metadata": {},
   "outputs": [
    {
     "data": {
      "text/plain": [
       "array([[ 3,  6,  9],\n",
       "       [12, 15, 18],\n",
       "       [21, 24, 27]])"
      ]
     },
     "execution_count": 15,
     "metadata": {},
     "output_type": "execute_result"
    }
   ],
   "source": [
    "# Broadcasting is equalivent to this\n",
    "matrix * np.array([[3, 3, 3], [3, 3, 3], [3, 3, 3]])"
   ]
  },
  {
   "cell_type": "markdown",
   "id": "c7b44b55-1cd1-41df-bc42-49f0a35dd11a",
   "metadata": {},
   "source": [
    "### Linear Algebra wih Numpy Arrays"
   ]
  },
  {
   "cell_type": "markdown",
   "id": "50d3baa4-6be1-4fe8-97ed-5b688172caae",
   "metadata": {},
   "source": [
    "#### Dot Product\n",
    "* Basic vector multiplication\n",
    "\n",
    "$ \n",
    "  \\begin{bmatrix}\n",
    "    w_0 & w_1 & w_2 & w_3\n",
    "  \\end{bmatrix} \\cdot\n",
    "  \\begin{bmatrix}\n",
    "     1     \\\\\n",
    "     x_1   \\\\\n",
    "     x_2   \\\\\n",
    "     x_3\n",
    "  \\end{bmatrix} = w_0 + w_1 x_1 + w_2 x_2 + w_3 x_3\n",
    "$"
   ]
  },
  {
   "cell_type": "code",
   "execution_count": 16,
   "id": "d7c35b88-9244-4178-8242-ef8bbe8856c1",
   "metadata": {},
   "outputs": [
    {
     "data": {
      "text/plain": [
       "array([[30]])"
      ]
     },
     "execution_count": 16,
     "metadata": {},
     "output_type": "execute_result"
    }
   ],
   "source": [
    "# Row vector shape: (1, 4)\n",
    "# Column vector shape: (4, 1)\n",
    "# (1x4) * (4x1) -> (1x1)\n",
    "np.dot(row_vector, column_vector)"
   ]
  },
  {
   "cell_type": "code",
   "execution_count": 17,
   "id": "efaf06fc-f592-456d-b420-d58275ea9ba6",
   "metadata": {},
   "outputs": [
    {
     "name": "stdout",
     "output_type": "stream",
     "text": [
      "matrix_1 shape: (2, 2)\n",
      "matrix_2 shape: (2, 2)\n"
     ]
    }
   ],
   "source": [
    "# 2x2 matrix\n",
    "matrix_1 = np.array([\n",
    "    [1, 2], \n",
    "    [3, 4]\n",
    "])\n",
    "\n",
    "matrix_2 = np.array([\n",
    "    [5, 6], \n",
    "    [7, 8]\n",
    "])\n",
    "\n",
    "print(f'matrix_1 shape: {matrix_1.shape}')\n",
    "print(f'matrix_2 shape: {matrix_2.shape}')"
   ]
  },
  {
   "cell_type": "markdown",
   "id": "5186d872-9425-449a-8a09-5b694febbc6e",
   "metadata": {},
   "source": [
    "#### Elementwise (Hadamard, $\\odot$) multiplication\n",
    "* Multiply each element in first matrix with corresponding element in the second matrix\n",
    "* Both matrices should be the same shape\n",
    "\n",
    "\n",
    "$\n",
    " \\begin{bmatrix}\n",
    "    w_0 & w_1 \\\\ w_2 & w_3\n",
    " \\end{bmatrix} \\odot\n",
    " \\begin{bmatrix}\n",
    "    x_0 & x_1 \\\\ x_2 & x_3\n",
    " \\end{bmatrix} = \n",
    " \\begin{bmatrix}\n",
    "    w_0 x_0 & w_1 x_1 \\\\ w_2 x_2 & w_3 x_3\n",
    "  \\end{bmatrix}\n",
    "$"
   ]
  },
  {
   "cell_type": "code",
   "execution_count": 18,
   "id": "c3122b08-191b-47ed-9638-6339f7eb5b78",
   "metadata": {},
   "outputs": [
    {
     "data": {
      "text/plain": [
       "array([[ 5, 12],\n",
       "       [21, 32]])"
      ]
     },
     "execution_count": 18,
     "metadata": {},
     "output_type": "execute_result"
    }
   ],
   "source": [
    "matrix_1 * matrix_2"
   ]
  },
  {
   "cell_type": "code",
   "execution_count": 19,
   "id": "a7e52c10-88a1-421d-b094-da0684a30ebc",
   "metadata": {},
   "outputs": [
    {
     "data": {
      "text/plain": [
       "array([[ 5, 12],\n",
       "       [21, 32]])"
      ]
     },
     "execution_count": 19,
     "metadata": {},
     "output_type": "execute_result"
    }
   ],
   "source": [
    "np.multiply(matrix_1, matrix_2)"
   ]
  },
  {
   "cell_type": "markdown",
   "id": "f6fa8f05-6994-4f2d-8907-cfe1114e17e2",
   "metadata": {},
   "source": [
    "#### Matrix multiplication\n",
    "* Dot product for each row/column combination\n",
    "* column shape of the first matrix should be the same as row shape of the second matrix\n",
    "\n",
    "$\n",
    " \\begin{bmatrix}\n",
    "    w_0 & w_1 \\\\ w_2 & w_3\n",
    " \\end{bmatrix} \\cdot\n",
    " \\begin{bmatrix}\n",
    "    x_0 & x_1 \\\\ x_2 & x_3\n",
    " \\end{bmatrix} = \n",
    " \\begin{bmatrix}\n",
    "    w_0 x_0 + w_1 x_2 & w_0 x_1 + w_1 x_3 \\\\ w_2 x_0 + w_3 x_2 & w_2 x_1 + w_3 x_3\n",
    "  \\end{bmatrix}\n",
    "$"
   ]
  },
  {
   "cell_type": "code",
   "execution_count": 20,
   "id": "505882f2-b9d4-432e-b293-6ff6ca4c2343",
   "metadata": {},
   "outputs": [
    {
     "data": {
      "text/plain": [
       "array([[19, 22],\n",
       "       [43, 50]])"
      ]
     },
     "execution_count": 20,
     "metadata": {},
     "output_type": "execute_result"
    }
   ],
   "source": [
    "# # (2x2) * (2x2) -> (2x2)\n",
    "np.matmul(matrix_1, matrix_2)"
   ]
  },
  {
   "cell_type": "markdown",
   "id": "b50783f1-4348-4c45-9b0f-0ff6a1e375f4",
   "metadata": {},
   "source": [
    "#### Transpose\n",
    "* turns rows into columns or vice versa\n",
    "\n",
    "* Vector example:\n",
    "\n",
    "    $\n",
    "    \\begin{bmatrix}\n",
    "      x_1 \\\\\n",
    "      x_2 \\\\\n",
    "      x_3     \n",
    "    \\end{bmatrix}^\\top =\n",
    "      \\begin{bmatrix}\n",
    "      x_1 & x_2 & x_3\n",
    "    \\end{bmatrix}\n",
    "$\n",
    "\n",
    "* Matrix Example:\n",
    "\n",
    "    $\n",
    "    \\begin{bmatrix}\n",
    "      x_1 & x_2 \\\\\n",
    "      x_3 & x_4 \\\\\n",
    "      x_5 & x_6    \n",
    "    \\end{bmatrix}^\\top =\n",
    "      \\begin{bmatrix}\n",
    "      x_1 & x_3 & x_5 \\\\\n",
    "      x_2 & x_4 & x_6    \n",
    "    \\end{bmatrix}\n",
    "    $"
   ]
  },
  {
   "cell_type": "code",
   "execution_count": 21,
   "id": "29622b98-1d11-48f1-908e-358e5a2738c0",
   "metadata": {},
   "outputs": [
    {
     "name": "stdout",
     "output_type": "stream",
     "text": [
      "[[1 3]\n",
      " [2 4]]\n"
     ]
    }
   ],
   "source": [
    "# Remember:\n",
    "# matrix_1 = np.array([\n",
    "#    [1, 2], \n",
    "#    [3, 4]\n",
    "# ])\n",
    "\n",
    "print(matrix_1.T)"
   ]
  },
  {
   "cell_type": "markdown",
   "id": "e828ed63-7acb-446e-b31e-5767f3736d1d",
   "metadata": {},
   "source": [
    "### Why Vectors and Matrices are Important ? \n",
    "* They can represent your data and models\n",
    "* Ex: vector can be considered as linear combination of featues\n",
    "* Ex: matrices can represent multiple samples of a linear combination of featues\n",
    "* Ex: vectors and matrices can be layers of a artificial neural network"
   ]
  },
  {
   "cell_type": "markdown",
   "id": "d18719fa-6cfd-450d-b7b9-cf89cc4b6e0a",
   "metadata": {},
   "source": [
    "#### Generate zeros with any dimension"
   ]
  },
  {
   "cell_type": "code",
   "execution_count": 22,
   "id": "916b38d0-f355-43dc-9b1a-2d22146ab035",
   "metadata": {},
   "outputs": [
    {
     "data": {
      "text/plain": [
       "array([0., 0., 0.])"
      ]
     },
     "execution_count": 22,
     "metadata": {},
     "output_type": "execute_result"
    }
   ],
   "source": [
    "# Generates 3 zeros in an array \n",
    "zeros = np.zeros(3)\n",
    "zeros"
   ]
  },
  {
   "cell_type": "code",
   "execution_count": 23,
   "id": "fa21ed5d-e6c9-42a4-91bc-a4fd514c207f",
   "metadata": {},
   "outputs": [
    {
     "data": {
      "text/plain": [
       "array([[[0., 0.],\n",
       "        [0., 0.],\n",
       "        [0., 0.],\n",
       "        [0., 0.],\n",
       "        [0., 0.]],\n",
       "\n",
       "       [[0., 0.],\n",
       "        [0., 0.],\n",
       "        [0., 0.],\n",
       "        [0., 0.],\n",
       "        [0., 0.]]])"
      ]
     },
     "execution_count": 23,
     "metadata": {},
     "output_type": "execute_result"
    }
   ],
   "source": [
    "# Multi dimentional zeros\n",
    "# Pass a tuple of desired dimensions\n",
    "multi_zeros = np.zeros((2, 5, 2))\n",
    "#multi_zeros = np.zeros(shape=(2, 5, 2))\n",
    "multi_zeros"
   ]
  },
  {
   "cell_type": "code",
   "execution_count": 24,
   "id": "f0394341-f6e8-48ab-a64e-f575ef358054",
   "metadata": {},
   "outputs": [
    {
     "data": {
      "text/plain": [
       "(2, 5, 2)"
      ]
     },
     "execution_count": 24,
     "metadata": {},
     "output_type": "execute_result"
    }
   ],
   "source": [
    "# Shape (dimensions) of the array\n",
    "multi_zeros.shape"
   ]
  },
  {
   "cell_type": "code",
   "execution_count": 25,
   "id": "b56ee396-0ea7-4c4d-a407-7a5f06416af2",
   "metadata": {},
   "outputs": [
    {
     "name": "stdout",
     "output_type": "stream",
     "text": [
      "Shape before: (20,)\n",
      "Shape after: (2, 5, 2)\n"
     ]
    }
   ],
   "source": [
    "# Use reshape() to convert to the desired dimensions\n",
    "multi_zeros_flat = np.zeros(2*5*2)\n",
    "# NOT like multi_zeros_flat = np.zeros((2, 5, 2))\n",
    "print(f'Shape before: {multi_zeros_flat.shape}')\n",
    "\n",
    "multi_zeros_reshaped = np.zeros(2*5*2).reshape(2, 5, 2)\n",
    "# Below gives error!!\n",
    "#multi_zeros_reshaped = np.zeros(2*5*2).reshape(2, 5, 4)\n",
    "print(f'Shape after: {multi_zeros_reshaped.shape}')"
   ]
  },
  {
   "cell_type": "markdown",
   "id": "5662e683-ba34-4652-916e-ba3d314f5294",
   "metadata": {},
   "source": [
    "#### Automaticially infer dimension\n",
    "* -1 means automatically infer the dimension"
   ]
  },
  {
   "cell_type": "code",
   "execution_count": 26,
   "id": "125cf347-0bda-4bc6-9a93-763423fa51bf",
   "metadata": {},
   "outputs": [
    {
     "name": "stdout",
     "output_type": "stream",
     "text": [
      "Shape inferred: (2, 5, 20)\n"
     ]
    }
   ],
   "source": [
    "multi_zeros_reshaped = np.zeros(2*5*20).reshape(2, 5, -1)\n",
    "print(f'Shape inferred: {multi_zeros_reshaped.shape}')"
   ]
  },
  {
   "cell_type": "code",
   "execution_count": 27,
   "id": "f64fc068-7284-4693-b37e-0edcb071793e",
   "metadata": {},
   "outputs": [
    {
     "name": "stdout",
     "output_type": "stream",
     "text": [
      "Shape inferred: (2, 5, 40)\n"
     ]
    }
   ],
   "source": [
    "multi_zeros_reshaped = np.zeros(2*5*40).reshape(2, 5, -1)\n",
    "print(f'Shape inferred: {multi_zeros_reshaped.shape}')"
   ]
  },
  {
   "cell_type": "code",
   "execution_count": 28,
   "id": "d0b261ec-b97b-4b7b-a937-510720316ec4",
   "metadata": {},
   "outputs": [
    {
     "name": "stdout",
     "output_type": "stream",
     "text": [
      "Shape inferred: (2, 200)\n"
     ]
    }
   ],
   "source": [
    "multi_zeros_reshaped = np.zeros(2*5*40).reshape(2, -1)\n",
    "print(f'Shape inferred: {multi_zeros_reshaped.shape}')"
   ]
  },
  {
   "cell_type": "code",
   "execution_count": 29,
   "id": "75c68470-8325-468c-b43d-80925a254afb",
   "metadata": {},
   "outputs": [
    {
     "data": {
      "text/plain": [
       "(2, 5, 40)"
      ]
     },
     "execution_count": 29,
     "metadata": {},
     "output_type": "execute_result"
    }
   ],
   "source": [
    "np.zeros((2, 5, 40)).shape"
   ]
  },
  {
   "cell_type": "code",
   "execution_count": 30,
   "id": "589a3c3e-d9f4-4d4b-8b83-02768b00d546",
   "metadata": {},
   "outputs": [
    {
     "data": {
      "text/plain": [
       "(1, 400)"
      ]
     },
     "execution_count": 30,
     "metadata": {},
     "output_type": "execute_result"
    }
   ],
   "source": [
    "np.zeros((2, 5, 40)).reshape(1, -1).shape"
   ]
  },
  {
   "cell_type": "markdown",
   "id": "853376e1-157a-44d4-bd92-112b0acee03a",
   "metadata": {},
   "source": [
    "#### Generate normally distributed random numbers\n",
    "$x \\sim \\mathcal{N}(\\mu,\\,\\sigma^{2})$\n",
    "* $\\mu$: mean of the random variables\n",
    "* $\\sigma^{2}$: variance of the random variables\n",
    "* NumPy's **randn** generates zero mean, unit (1) variance ($x \\sim \\mathcal{N}(0,\\, 1)$) random numbers"
   ]
  },
  {
   "cell_type": "code",
   "execution_count": 31,
   "id": "0ba24706-a9be-4c07-a1de-3aa0fca68068",
   "metadata": {},
   "outputs": [
    {
     "name": "stdout",
     "output_type": "stream",
     "text": [
      "Shape: (1000, 2000)\n",
      "Mean: -0.0014\n",
      "Variance: 1.0008\n"
     ]
    }
   ],
   "source": [
    "# Note: as you increase the size, distribution will convergence to N(0, 1)\n",
    "x_normal = np.random.randn(1000, 2000) # rand normal\n",
    "print(f'Shape: {x_normal.shape}')\n",
    "print(f'Mean: {x_normal.mean():.4f}')\n",
    "print(f'Variance: {x_normal.var():.4f}')"
   ]
  },
  {
   "cell_type": "markdown",
   "id": "4e82a47c-1e08-4e4e-8a9b-95a5db18c7e8",
   "metadata": {},
   "source": [
    "#### Generate random numbers with specified mean, variance \n",
    "* For example, code below will generate: $x \\sim \\mathcal{N}(2,\\, 9)$"
   ]
  },
  {
   "cell_type": "code",
   "execution_count": 32,
   "id": "4f8cdf4a-04ef-4d5a-8660-5026ef5f7f9b",
   "metadata": {},
   "outputs": [
    {
     "name": "stdout",
     "output_type": "stream",
     "text": [
      "Shape: (1000, 2000)\n",
      "Mean: 1.9982\n",
      "Variance: 9.0013\n"
     ]
    }
   ],
   "source": [
    "mu = 2\n",
    "sigma = 3 # remember sigma^2 is 9 \n",
    "x_normal2 = mu + sigma*np.random.randn(1000, 2000)\n",
    "\n",
    "print(f'Shape: {x_normal2.shape}')\n",
    "print(f'Mean: {x_normal2.mean():.4f}')\n",
    "print(f'Variance: {x_normal2.var():.4f}')"
   ]
  },
  {
   "cell_type": "markdown",
   "id": "8fa91fe2-d51a-4ae8-9286-d159947940b1",
   "metadata": {},
   "source": [
    "#### When working with machine learning models, we prefer to have two dimentional arrays \n",
    "* rows: number of samples (batch size)\n",
    "* columns: number of features "
   ]
  },
  {
   "cell_type": "code",
   "execution_count": 33,
   "id": "72b3daa4-43f6-4b97-9151-f2545671b43a",
   "metadata": {},
   "outputs": [
    {
     "name": "stdout",
     "output_type": "stream",
     "text": [
      "Original shape: (2000,)\n",
      "Shape with extra dimention: (2000, 1)\n"
     ]
    }
   ],
   "source": [
    "# Generate toy data with random numbers\n",
    "# Imagine you have 2000 samples of a single feature\n",
    "data = np.random.randn(2000)\n",
    "print(f'Original shape: {data.shape}')\n",
    "\n",
    "# Add dummy dimension \n",
    "data = data.reshape(-1, 1)\n",
    "print(f'Shape with extra dimention: {data.shape}')"
   ]
  },
  {
   "cell_type": "markdown",
   "id": "bb6e5ccf-60b4-49fc-8bae-cd703b4cb0ea",
   "metadata": {},
   "source": [
    "#### Generate ones with any dimension"
   ]
  },
  {
   "cell_type": "code",
   "execution_count": 34,
   "id": "26aa1d1d-a47a-40fc-abb8-da4bca9b2f10",
   "metadata": {},
   "outputs": [
    {
     "data": {
      "text/plain": [
       "array([1., 1., 1., 1.])"
      ]
     },
     "execution_count": 34,
     "metadata": {},
     "output_type": "execute_result"
    }
   ],
   "source": [
    "# Generates 4 ones in an array \n",
    "ones = np.ones(4)\n",
    "ones"
   ]
  },
  {
   "cell_type": "markdown",
   "id": "a0c56c80-f45a-4ccd-a30e-80546361b8d2",
   "metadata": {},
   "source": [
    "#### Generate identity matrix with any diagonal elements"
   ]
  },
  {
   "cell_type": "code",
   "execution_count": 35,
   "id": "147062d0-51e3-4505-a99d-66fec89d2035",
   "metadata": {},
   "outputs": [
    {
     "data": {
      "text/plain": [
       "array([[1., 0., 0., 0.],\n",
       "       [0., 1., 0., 0.],\n",
       "       [0., 0., 1., 0.],\n",
       "       [0., 0., 0., 1.]])"
      ]
     },
     "execution_count": 35,
     "metadata": {},
     "output_type": "execute_result"
    }
   ],
   "source": [
    "# Identity matrix (4x4)\n",
    "identity_matrix = np.eye(4)\n",
    "# NOT REQUIRED: identity_matrix = np.eye(4, 4)\n",
    "identity_matrix"
   ]
  },
  {
   "cell_type": "markdown",
   "id": "373c2e3b-7220-4295-8d1b-36d9ec242465",
   "metadata": {},
   "source": [
    "#### Range based data generation"
   ]
  },
  {
   "cell_type": "code",
   "execution_count": 36,
   "id": "553b63e7-7436-4964-a305-f05388847582",
   "metadata": {},
   "outputs": [
    {
     "data": {
      "text/plain": [
       "array([20, 23, 26, 29, 32, 35, 38, 41, 44, 47, 50, 53, 56, 59, 62, 65, 68,\n",
       "       71, 74, 77, 80, 83, 86, 89, 92, 95, 98])"
      ]
     },
     "execution_count": 36,
     "metadata": {},
     "output_type": "execute_result"
    }
   ],
   "source": [
    "# Generate integers starting from 20, until 100, increment by 3\n",
    "# Works similar to built-in range() function\n",
    "np.arange(20, 100, 3)"
   ]
  },
  {
   "cell_type": "markdown",
   "id": "4e170b85-9326-4cbc-a1ea-f8163a7e511a",
   "metadata": {},
   "source": [
    "#### Equally spaced numbers"
   ]
  },
  {
   "cell_type": "code",
   "execution_count": 37,
   "id": "7f17ff9f-d646-46be-9654-8eef8f44e124",
   "metadata": {},
   "outputs": [
    {
     "data": {
      "text/plain": [
       "array([0.  , 0.25, 0.5 , 0.75, 1.  ])"
      ]
     },
     "execution_count": 37,
     "metadata": {},
     "output_type": "execute_result"
    }
   ],
   "source": [
    "# 5 numbers from 0 to 1\n",
    "np.linspace(0, 1, 5)"
   ]
  },
  {
   "cell_type": "code",
   "execution_count": 38,
   "id": "e796e3b2-06ad-4bc4-9997-491c5ba01b8c",
   "metadata": {},
   "outputs": [
    {
     "data": {
      "text/plain": [
       "array([0.        , 0.11111111, 0.22222222, 0.33333333, 0.44444444,\n",
       "       0.55555556, 0.66666667, 0.77777778, 0.88888889, 1.        ])"
      ]
     },
     "execution_count": 38,
     "metadata": {},
     "output_type": "execute_result"
    }
   ],
   "source": [
    "# 10 numbers from 0 to 1\n",
    "np.linspace(0, 1, 10)"
   ]
  },
  {
   "cell_type": "code",
   "execution_count": 39,
   "id": "477c0fd7-9619-4537-98e1-281b4fb92278",
   "metadata": {},
   "outputs": [
    {
     "data": {
      "text/plain": [
       "array([-5.        , -3.88888889, -2.77777778, -1.66666667, -0.55555556,\n",
       "        0.55555556,  1.66666667,  2.77777778,  3.88888889,  5.        ])"
      ]
     },
     "execution_count": 39,
     "metadata": {},
     "output_type": "execute_result"
    }
   ],
   "source": [
    "# 10 numbers from -5 to 5\n",
    "np.linspace(-5, 5, 10)"
   ]
  },
  {
   "cell_type": "markdown",
   "id": "d245aee5-0375-4aaa-900f-33f4eb923861",
   "metadata": {},
   "source": [
    "#### Reshaping"
   ]
  },
  {
   "cell_type": "code",
   "execution_count": 40,
   "id": "4267978f-c1b7-4e2e-a4e0-42d93fd2237e",
   "metadata": {},
   "outputs": [
    {
     "name": "stdout",
     "output_type": "stream",
     "text": [
      "(4, 25)\n"
     ]
    }
   ],
   "source": [
    "reshaped_range = np.arange(100).reshape(4, -1)\n",
    "print(reshaped_range.shape)"
   ]
  },
  {
   "cell_type": "markdown",
   "id": "638c79be-c580-40af-9e92-e96c7dfa3f0c",
   "metadata": {},
   "source": [
    "#### Save/Load Numpy Arrays"
   ]
  },
  {
   "cell_type": "code",
   "execution_count": 41,
   "id": "c33604b2-6e6b-41e9-981e-edcf1eb2472f",
   "metadata": {},
   "outputs": [
    {
     "data": {
      "text/plain": [
       "array([[ 0,  1,  2,  3,  4,  5,  6,  7,  8,  9, 10, 11, 12, 13, 14, 15,\n",
       "        16, 17, 18, 19, 20, 21, 22, 23, 24],\n",
       "       [25, 26, 27, 28, 29, 30, 31, 32, 33, 34, 35, 36, 37, 38, 39, 40,\n",
       "        41, 42, 43, 44, 45, 46, 47, 48, 49],\n",
       "       [50, 51, 52, 53, 54, 55, 56, 57, 58, 59, 60, 61, 62, 63, 64, 65,\n",
       "        66, 67, 68, 69, 70, 71, 72, 73, 74],\n",
       "       [75, 76, 77, 78, 79, 80, 81, 82, 83, 84, 85, 86, 87, 88, 89, 90,\n",
       "        91, 92, 93, 94, 95, 96, 97, 98, 99]])"
      ]
     },
     "execution_count": 41,
     "metadata": {},
     "output_type": "execute_result"
    }
   ],
   "source": [
    "# Saved as my_data.npy\n",
    "np.save('my_data', reshaped_range)\n",
    "# Load from file (don't forget to add .npy)\n",
    "loaded_data = np.load('my_data.npy')\n",
    "loaded_data"
   ]
  },
  {
   "cell_type": "markdown",
   "id": "35d23221-71b5-422f-b704-81ae1676af4e",
   "metadata": {},
   "source": [
    "#### Select elements based on condition"
   ]
  },
  {
   "cell_type": "code",
   "execution_count": 42,
   "id": "7e61262c-79fd-40b2-8911-effe404a5e18",
   "metadata": {},
   "outputs": [
    {
     "data": {
      "text/plain": [
       "array([ 1,  2,  3,  6,  1, 17,  1])"
      ]
     },
     "execution_count": 42,
     "metadata": {},
     "output_type": "execute_result"
    }
   ],
   "source": [
    "arr = np.array([1, 2, 3, 6, 1, 17, 1])\n",
    "arr"
   ]
  },
  {
   "cell_type": "code",
   "execution_count": 43,
   "id": "00ccd3a8-ed4c-48e6-87ec-a7b7dde563fb",
   "metadata": {},
   "outputs": [
    {
     "data": {
      "text/plain": [
       "array([False, False, False,  True, False,  True, False])"
      ]
     },
     "execution_count": 43,
     "metadata": {},
     "output_type": "execute_result"
    }
   ],
   "source": [
    "# You can use boolean expressions for selecting elements from array\n",
    "indices = arr > 5\n",
    "indices"
   ]
  },
  {
   "cell_type": "code",
   "execution_count": 44,
   "id": "7fea8b79-0cd8-4b69-979e-25b8a47f8222",
   "metadata": {},
   "outputs": [
    {
     "data": {
      "text/plain": [
       "array([ 6, 17])"
      ]
     },
     "execution_count": 44,
     "metadata": {},
     "output_type": "execute_result"
    }
   ],
   "source": [
    "arr[indices]"
   ]
  },
  {
   "cell_type": "markdown",
   "id": "e25b471e-bc6e-4eca-b952-13ba97bc08dd",
   "metadata": {},
   "source": [
    "#### Slicing works almost the same as Python built-ins"
   ]
  },
  {
   "cell_type": "code",
   "execution_count": 45,
   "id": "4863aa4c-6635-45d4-9c02-a38dd7e27d8f",
   "metadata": {},
   "outputs": [
    {
     "name": "stdout",
     "output_type": "stream",
     "text": [
      "Elements starting from second:\n",
      "[ 2  3  6  1 17  1]\n",
      "Elements from second to fifth:\n",
      "[2 3 6 1]\n",
      "Last element in the array:\n",
      "1\n",
      "From beginning to end but steps with 2:\n",
      "[1 3 1 1]\n",
      "Reversed:\n",
      "[ 1 17  1  6  3  2  1]\n"
     ]
    }
   ],
   "source": [
    "# indexes:      0  1  2  3  4   5  6\n",
    "arr = np.array([1, 2, 3, 6, 1, 17, 1])\n",
    "\n",
    "print('Elements starting from second:')\n",
    "print(arr[1:])\n",
    "\n",
    "print('Elements from second to fifth:')\n",
    "print(arr[1:5])\n",
    "\n",
    "print('Last element in the array:')\n",
    "print(arr[-1])\n",
    "\n",
    "print('From beginning to end but steps with 2:')\n",
    "print(arr[::2])\n",
    "\n",
    "print('Reversed:')\n",
    "print(arr[::-1])"
   ]
  },
  {
   "cell_type": "markdown",
   "id": "39510752-d923-448e-b132-74c487b6ac2a",
   "metadata": {},
   "source": [
    "#### Multi-dim slicing\n",
    "* **\":\"** operator selects all elements in that dim"
   ]
  },
  {
   "cell_type": "code",
   "execution_count": 46,
   "id": "c0913410-d525-4e8a-af77-27d44bcaa209",
   "metadata": {
    "scrolled": true
   },
   "outputs": [
    {
     "name": "stdout",
     "output_type": "stream",
     "text": [
      "All of first row, only first column:\n",
      "[1. 3.]\n",
      "All of first row, only second column:\n",
      "[2. 4.]\n",
      "All of first column, only first row:\n",
      "[1. 2.]\n",
      "All of first column, only second row:\n",
      "[3. 4.]\n"
     ]
    }
   ],
   "source": [
    "test_array = np.array([\n",
    "    [1.0, 2.0], \n",
    "    [3.0, 4.0]\n",
    "])\n",
    "\n",
    " \n",
    "print('All of first row, only first column:')\n",
    "print(test_array[:, 0]) # : select all of first column\n",
    "\n",
    "print('All of first row, only second column:')\n",
    "print(test_array[:, 1]) # rows samples, select all samples of second column \n",
    "\n",
    "print('All of first column, only first row:')\n",
    "print(test_array[0, :])\n",
    "\n",
    "print('All of first column, only second row:')\n",
    "print(test_array[1, :]) # selecting samples of all features"
   ]
  },
  {
   "cell_type": "markdown",
   "id": "9be102ef-8f5b-4e50-b7e9-d4869fef1c5b",
   "metadata": {},
   "source": [
    "#### Mean (average) of the array"
   ]
  },
  {
   "cell_type": "code",
   "execution_count": 47,
   "id": "4fce4cba-3563-44e4-af4c-bfd43a0b19d1",
   "metadata": {},
   "outputs": [
    {
     "data": {
      "text/plain": [
       "2.5"
      ]
     },
     "execution_count": 47,
     "metadata": {},
     "output_type": "execute_result"
    }
   ],
   "source": [
    "test_array = np.array([\n",
    "    [1.0, 2.0], \n",
    "    [3.0, 4.0]\n",
    "])\n",
    "\n",
    "np.mean(test_array)"
   ]
  },
  {
   "cell_type": "markdown",
   "id": "f9ffc380-24dc-43f3-ade2-b4294804ee8f",
   "metadata": {},
   "source": [
    "#### Column-wise mean"
   ]
  },
  {
   "cell_type": "code",
   "execution_count": 48,
   "id": "4623c67f-8891-4cc6-9c52-362322c0ca96",
   "metadata": {},
   "outputs": [
    {
     "data": {
      "text/plain": [
       "array([2., 3.])"
      ]
     },
     "execution_count": 48,
     "metadata": {},
     "output_type": "execute_result"
    }
   ],
   "source": [
    "np.mean(test_array, axis=0)"
   ]
  },
  {
   "cell_type": "markdown",
   "id": "1dd618d8-1ac1-4850-aed9-bf355971c449",
   "metadata": {},
   "source": [
    "#### Row-wise mean"
   ]
  },
  {
   "cell_type": "code",
   "execution_count": 49,
   "id": "00df3cb8-f51c-4dde-8b33-ba09846e3c1a",
   "metadata": {},
   "outputs": [
    {
     "data": {
      "text/plain": [
       "array([1.5, 3.5])"
      ]
     },
     "execution_count": 49,
     "metadata": {},
     "output_type": "execute_result"
    }
   ],
   "source": [
    "np.mean(test_array, axis=1)"
   ]
  },
  {
   "cell_type": "markdown",
   "id": "1e482392-439b-4569-971e-c04331cbd8a2",
   "metadata": {},
   "source": [
    "#### Example: Mean Squarred Error\n",
    "\n",
    "$$\n",
    "MSE =  \\frac{1}{N}\\sum_{i=1}^{N}(y_i-\\hat{y_i})^2\n",
    "$$\n",
    "\n",
    "* Used for evaluating machine learning models (measure of prediction error)\n",
    "* $N$ is number of samples (n_samples)\n",
    "* $y_i$ is the targets values (from dataset)\n",
    "* $\\hat{y_i}$ is the predicted values (from model)"
   ]
  },
  {
   "cell_type": "code",
   "execution_count": 50,
   "id": "fb54b678-0c63-4075-88e2-b2723c813047",
   "metadata": {},
   "outputs": [
    {
     "name": "stdout",
     "output_type": "stream",
     "text": [
      "MSE: 5.763\n"
     ]
    }
   ],
   "source": [
    "y = np.array([\n",
    "    [1.0, 2.0], \n",
    "    [3.0, 4.0]\n",
    "])\n",
    "\n",
    "y_hat = np.array([\n",
    "    [1.0, -1.0], \n",
    "    [0.3, 1.4]\n",
    "])\n",
    "\n",
    "#mse = np.mean((y - y_hat)**2)\n",
    "mse = np.mean(np.square(y - y_hat))\n",
    "print(f'MSE: {mse:.4}')"
   ]
  },
  {
   "cell_type": "markdown",
   "id": "fcb2d47b-63cd-4cbb-b72e-0ad09fde439f",
   "metadata": {},
   "source": [
    "#### Example: Standart scaler\n",
    "\n",
    "$$\n",
    "x_{scaled} =  \\frac{x - \\mu}{\\sigma}\n",
    "$$\n",
    "\n",
    "* Removes the mean and scales to unit variance.\n",
    "* x is the original data\n",
    "* $x_{scaled}$ is the standart scaled data\n",
    "* $\\mu$ is the mean of the data\n",
    "* $\\sigma$ is the standart deviation"
   ]
  },
  {
   "cell_type": "code",
   "execution_count": 51,
   "id": "083eac77-5812-4f6e-9076-337a7c424cc0",
   "metadata": {},
   "outputs": [
    {
     "name": "stdout",
     "output_type": "stream",
     "text": [
      "Original data:\n",
      "[[1. 2.]\n",
      " [3. 4.]]\n",
      "Scaled data:\n",
      "[[-1.34164079 -0.4472136 ]\n",
      " [ 0.4472136   1.34164079]]\n"
     ]
    }
   ],
   "source": [
    "x = np.array([\n",
    "    [1.0, 2.0], \n",
    "    [3.0, 4.0]\n",
    "])\n",
    "\n",
    "mean = x.mean()\n",
    "sigma = x.std()\n",
    "x_scaled = (x - mean) / sigma\n",
    "\n",
    "print('Original data:')\n",
    "print(x)\n",
    "print('Scaled data:')\n",
    "print(x_scaled)"
   ]
  },
  {
   "cell_type": "markdown",
   "id": "863c4a13-8978-4cbb-b938-d0e49e05a4fd",
   "metadata": {},
   "source": [
    "### Combining Arrays\n",
    "#### Horizontal (column-wise) Stacking"
   ]
  },
  {
   "cell_type": "code",
   "execution_count": 52,
   "id": "39a576c7-3d63-4a94-9ecf-f61c4e51cbe3",
   "metadata": {},
   "outputs": [
    {
     "data": {
      "text/plain": [
       "array([[ 1.,  2.,  3.,  7.,  8.,  9.],\n",
       "       [ 4.,  5.,  6., 10., 11., 12.]])"
      ]
     },
     "execution_count": 52,
     "metadata": {},
     "output_type": "execute_result"
    }
   ],
   "source": [
    "array_1 = np.array([\n",
    "    [1.0, 2.0, 3.0],\n",
    "    [4.0, 5.0, 6.0]\n",
    "])\n",
    "\n",
    "array_2 = np.array([\n",
    "    [7.0, 8.0, 9.0],\n",
    "    [10.0, 11.0, 12.0]\n",
    "])\n",
    "\n",
    "np.hstack((array_1, array_2))"
   ]
  },
  {
   "cell_type": "markdown",
   "id": "34ae8841-9a9b-4f5c-a3fd-f491a8d4705a",
   "metadata": {},
   "source": [
    "#### Vertical (row-wise) Stacking"
   ]
  },
  {
   "cell_type": "code",
   "execution_count": 53,
   "id": "f117be8d-c899-41d2-8f9e-2d8bd2e2206d",
   "metadata": {},
   "outputs": [
    {
     "data": {
      "text/plain": [
       "array([[ 1.,  2.,  3.],\n",
       "       [ 4.,  5.,  6.],\n",
       "       [ 7.,  8.,  9.],\n",
       "       [10., 11., 12.]])"
      ]
     },
     "execution_count": 53,
     "metadata": {},
     "output_type": "execute_result"
    }
   ],
   "source": [
    "np.vstack((array_1, array_2))"
   ]
  },
  {
   "cell_type": "markdown",
   "id": "8b3117e4-eb00-47c6-9df7-f40fd1d8bc1f",
   "metadata": {},
   "source": [
    "## Why we need Numpy ? Faster!\n",
    "* Most of the scientific computation libraries in Python use NumPy underneath to speed up computations\n",
    "* Examples: pandas, scikit-learn, etc."
   ]
  },
  {
   "cell_type": "code",
   "execution_count": 54,
   "id": "a03dd950-07f4-4ce6-9a42-b1f8927cc5be",
   "metadata": {},
   "outputs": [
    {
     "name": "stdout",
     "output_type": "stream",
     "text": [
      "39.5 ms ± 417 µs per loop (mean ± std. dev. of 7 runs, 10 loops each)\n",
      "142 µs ± 3.33 µs per loop (mean ± std. dev. of 7 runs, 10,000 loops each)\n"
     ]
    }
   ],
   "source": [
    "arr_random = np.random.rand(1000000)\n",
    "# Measure the speed of plain Python\n",
    "%timeit sum(arr_random)\n",
    "# Measure the speed of Numpy\n",
    "%timeit np.sum(arr_random)"
   ]
  },
  {
   "cell_type": "markdown",
   "id": "6b026e3d-38fd-4a34-b0d3-34d1f747ea64",
   "metadata": {},
   "source": [
    "# Data Frames with pandas\n",
    "* DataFrame: 2D data\n",
    "    * rows: number of samples\n",
    "    * columns: number of features\n",
    "* Series: 1D dataframe"
   ]
  },
  {
   "cell_type": "code",
   "execution_count": 55,
   "id": "49719455-0ad8-43ff-8575-71b44bea03c3",
   "metadata": {},
   "outputs": [],
   "source": [
    "# Uncomment below to install pandas\n",
    "#!pip install pandas"
   ]
  },
  {
   "cell_type": "code",
   "execution_count": 56,
   "id": "0d1c0ba5-525c-42c3-ab20-2f9c248c9993",
   "metadata": {},
   "outputs": [],
   "source": [
    "import pandas as pd"
   ]
  },
  {
   "cell_type": "markdown",
   "id": "40e87f5a-10c7-4fce-8db7-23851a34104f",
   "metadata": {},
   "source": [
    "#### Initialize Series"
   ]
  },
  {
   "cell_type": "code",
   "execution_count": 57,
   "id": "1088f775-5866-4a36-9d2f-cb050ee7f180",
   "metadata": {},
   "outputs": [
    {
     "data": {
      "text/plain": [
       "0     0.56\n",
       "1    15.39\n",
       "2   -36.32\n",
       "3    24.00\n",
       "dtype: float64"
      ]
     },
     "execution_count": 57,
     "metadata": {},
     "output_type": "execute_result"
    }
   ],
   "source": [
    "init_list = [0.56, 15.39, -36.32, 24.0]\n",
    " \n",
    "# create series form a list\n",
    "series = pd.Series(data=init_list)\n",
    "series.head()"
   ]
  },
  {
   "cell_type": "markdown",
   "id": "3f1deaad-4227-4c1c-8a5c-b9f4c5ce8593",
   "metadata": {},
   "source": [
    "#### Initialize Dataframe with Python dict"
   ]
  },
  {
   "cell_type": "code",
   "execution_count": 58,
   "id": "6a1b7f81-390e-4511-b8fc-72352c8800c2",
   "metadata": {},
   "outputs": [
    {
     "data": {
      "text/html": [
       "<div>\n",
       "<style scoped>\n",
       "    .dataframe tbody tr th:only-of-type {\n",
       "        vertical-align: middle;\n",
       "    }\n",
       "\n",
       "    .dataframe tbody tr th {\n",
       "        vertical-align: top;\n",
       "    }\n",
       "\n",
       "    .dataframe thead th {\n",
       "        text-align: right;\n",
       "    }\n",
       "</style>\n",
       "<table border=\"1\" class=\"dataframe\">\n",
       "  <thead>\n",
       "    <tr style=\"text-align: right;\">\n",
       "      <th></th>\n",
       "      <th>Name</th>\n",
       "      <th>Age</th>\n",
       "      <th>Occupation</th>\n",
       "    </tr>\n",
       "  </thead>\n",
       "  <tbody>\n",
       "    <tr>\n",
       "      <th>0</th>\n",
       "      <td>Kolby Vico</td>\n",
       "      <td>51</td>\n",
       "      <td>Developer</td>\n",
       "    </tr>\n",
       "    <tr>\n",
       "      <th>1</th>\n",
       "      <td>Jenna Hayden</td>\n",
       "      <td>40</td>\n",
       "      <td>Data Scientist</td>\n",
       "    </tr>\n",
       "    <tr>\n",
       "      <th>2</th>\n",
       "      <td>Navy Keighley</td>\n",
       "      <td>35</td>\n",
       "      <td>Professor</td>\n",
       "    </tr>\n",
       "    <tr>\n",
       "      <th>3</th>\n",
       "      <td>Jane Derrick</td>\n",
       "      <td>18</td>\n",
       "      <td>Security Guard</td>\n",
       "    </tr>\n",
       "  </tbody>\n",
       "</table>\n",
       "</div>"
      ],
      "text/plain": [
       "            Name  Age      Occupation\n",
       "0     Kolby Vico   51       Developer\n",
       "1   Jenna Hayden   40  Data Scientist\n",
       "2  Navy Keighley   35       Professor\n",
       "3   Jane Derrick   18  Security Guard"
      ]
     },
     "execution_count": 58,
     "metadata": {},
     "output_type": "execute_result"
    }
   ],
   "source": [
    "init_data = {\n",
    "    'Name': ['Kolby Vico', 'Jenna Hayden', 'Navy Keighley', 'Jane Derrick'],\n",
    "    'Age': [51, 40, 35, 18],\n",
    "    'Occupation': ['Developer', 'Data Scientist', 'Professor', 'Security Guard']\n",
    "}\n",
    "  \n",
    "# Create DataFrame\n",
    "df = pd.DataFrame(data=init_data)\n",
    "df.head(5) # by default prints first 5 rows"
   ]
  },
  {
   "cell_type": "markdown",
   "id": "fa56dcb3-9ec4-4821-99f3-9895ffa9e98f",
   "metadata": {},
   "source": [
    "### UCI Machine Learning Repositary, wine quality dataset\n",
    "#### Link: https://archive.ics.uci.edu/ml/datasets/Wine+Quality"
   ]
  },
  {
   "cell_type": "code",
   "execution_count": 59,
   "id": "291781c9-b41c-48c5-a110-cd29bc0b3d96",
   "metadata": {},
   "outputs": [
    {
     "data": {
      "text/html": [
       "<div>\n",
       "<style scoped>\n",
       "    .dataframe tbody tr th:only-of-type {\n",
       "        vertical-align: middle;\n",
       "    }\n",
       "\n",
       "    .dataframe tbody tr th {\n",
       "        vertical-align: top;\n",
       "    }\n",
       "\n",
       "    .dataframe thead th {\n",
       "        text-align: right;\n",
       "    }\n",
       "</style>\n",
       "<table border=\"1\" class=\"dataframe\">\n",
       "  <thead>\n",
       "    <tr style=\"text-align: right;\">\n",
       "      <th></th>\n",
       "      <th>fixed acidity</th>\n",
       "      <th>volatile acidity</th>\n",
       "      <th>citric acid</th>\n",
       "      <th>residual sugar</th>\n",
       "      <th>chlorides</th>\n",
       "      <th>free sulfur dioxide</th>\n",
       "      <th>total sulfur dioxide</th>\n",
       "      <th>density</th>\n",
       "      <th>pH</th>\n",
       "      <th>sulphates</th>\n",
       "      <th>alcohol</th>\n",
       "      <th>quality</th>\n",
       "    </tr>\n",
       "  </thead>\n",
       "  <tbody>\n",
       "    <tr>\n",
       "      <th>0</th>\n",
       "      <td>7.4</td>\n",
       "      <td>0.70</td>\n",
       "      <td>0.00</td>\n",
       "      <td>1.9</td>\n",
       "      <td>0.076</td>\n",
       "      <td>11.0</td>\n",
       "      <td>34.0</td>\n",
       "      <td>0.9978</td>\n",
       "      <td>3.51</td>\n",
       "      <td>0.56</td>\n",
       "      <td>9.4</td>\n",
       "      <td>5</td>\n",
       "    </tr>\n",
       "    <tr>\n",
       "      <th>1</th>\n",
       "      <td>7.8</td>\n",
       "      <td>0.88</td>\n",
       "      <td>0.00</td>\n",
       "      <td>2.6</td>\n",
       "      <td>0.098</td>\n",
       "      <td>25.0</td>\n",
       "      <td>67.0</td>\n",
       "      <td>0.9968</td>\n",
       "      <td>3.20</td>\n",
       "      <td>0.68</td>\n",
       "      <td>9.8</td>\n",
       "      <td>5</td>\n",
       "    </tr>\n",
       "    <tr>\n",
       "      <th>2</th>\n",
       "      <td>7.8</td>\n",
       "      <td>0.76</td>\n",
       "      <td>0.04</td>\n",
       "      <td>2.3</td>\n",
       "      <td>0.092</td>\n",
       "      <td>15.0</td>\n",
       "      <td>54.0</td>\n",
       "      <td>0.9970</td>\n",
       "      <td>3.26</td>\n",
       "      <td>0.65</td>\n",
       "      <td>9.8</td>\n",
       "      <td>5</td>\n",
       "    </tr>\n",
       "    <tr>\n",
       "      <th>3</th>\n",
       "      <td>11.2</td>\n",
       "      <td>0.28</td>\n",
       "      <td>0.56</td>\n",
       "      <td>1.9</td>\n",
       "      <td>0.075</td>\n",
       "      <td>17.0</td>\n",
       "      <td>60.0</td>\n",
       "      <td>0.9980</td>\n",
       "      <td>3.16</td>\n",
       "      <td>0.58</td>\n",
       "      <td>9.8</td>\n",
       "      <td>6</td>\n",
       "    </tr>\n",
       "    <tr>\n",
       "      <th>4</th>\n",
       "      <td>7.4</td>\n",
       "      <td>0.70</td>\n",
       "      <td>0.00</td>\n",
       "      <td>1.9</td>\n",
       "      <td>0.076</td>\n",
       "      <td>11.0</td>\n",
       "      <td>34.0</td>\n",
       "      <td>0.9978</td>\n",
       "      <td>3.51</td>\n",
       "      <td>0.56</td>\n",
       "      <td>9.4</td>\n",
       "      <td>5</td>\n",
       "    </tr>\n",
       "  </tbody>\n",
       "</table>\n",
       "</div>"
      ],
      "text/plain": [
       "   fixed acidity  volatile acidity  citric acid  residual sugar  chlorides  \\\n",
       "0            7.4              0.70         0.00             1.9      0.076   \n",
       "1            7.8              0.88         0.00             2.6      0.098   \n",
       "2            7.8              0.76         0.04             2.3      0.092   \n",
       "3           11.2              0.28         0.56             1.9      0.075   \n",
       "4            7.4              0.70         0.00             1.9      0.076   \n",
       "\n",
       "   free sulfur dioxide  total sulfur dioxide  density    pH  sulphates  \\\n",
       "0                 11.0                  34.0   0.9978  3.51       0.56   \n",
       "1                 25.0                  67.0   0.9968  3.20       0.68   \n",
       "2                 15.0                  54.0   0.9970  3.26       0.65   \n",
       "3                 17.0                  60.0   0.9980  3.16       0.58   \n",
       "4                 11.0                  34.0   0.9978  3.51       0.56   \n",
       "\n",
       "   alcohol  quality  \n",
       "0      9.4        5  \n",
       "1      9.8        5  \n",
       "2      9.8        5  \n",
       "3      9.8        6  \n",
       "4      9.4        5  "
      ]
     },
     "execution_count": 59,
     "metadata": {},
     "output_type": "execute_result"
    }
   ],
   "source": [
    "df = pd.read_csv('winequality-red.csv', delimiter=';')\n",
    "# Don't forget the delimiter, below is imcomplete\n",
    "#df = pd.read_csv('winequality-red.csv')\n",
    "\n",
    "# By default head() only shows first 5 rows\n",
    "df.head()\n",
    "#df.head(10)"
   ]
  },
  {
   "cell_type": "markdown",
   "id": "96a2c22f-99c0-40c7-8172-742bfc1694ad",
   "metadata": {},
   "source": [
    "#### Summary of statistics"
   ]
  },
  {
   "cell_type": "code",
   "execution_count": 60,
   "id": "c15bb077-8d25-466a-a333-ee0827b57d87",
   "metadata": {},
   "outputs": [
    {
     "data": {
      "text/html": [
       "<div>\n",
       "<style scoped>\n",
       "    .dataframe tbody tr th:only-of-type {\n",
       "        vertical-align: middle;\n",
       "    }\n",
       "\n",
       "    .dataframe tbody tr th {\n",
       "        vertical-align: top;\n",
       "    }\n",
       "\n",
       "    .dataframe thead th {\n",
       "        text-align: right;\n",
       "    }\n",
       "</style>\n",
       "<table border=\"1\" class=\"dataframe\">\n",
       "  <thead>\n",
       "    <tr style=\"text-align: right;\">\n",
       "      <th></th>\n",
       "      <th>fixed acidity</th>\n",
       "      <th>volatile acidity</th>\n",
       "      <th>citric acid</th>\n",
       "      <th>residual sugar</th>\n",
       "      <th>chlorides</th>\n",
       "      <th>free sulfur dioxide</th>\n",
       "      <th>total sulfur dioxide</th>\n",
       "      <th>density</th>\n",
       "      <th>pH</th>\n",
       "      <th>sulphates</th>\n",
       "      <th>alcohol</th>\n",
       "      <th>quality</th>\n",
       "    </tr>\n",
       "  </thead>\n",
       "  <tbody>\n",
       "    <tr>\n",
       "      <th>count</th>\n",
       "      <td>1599.000000</td>\n",
       "      <td>1599.000000</td>\n",
       "      <td>1599.000000</td>\n",
       "      <td>1599.000000</td>\n",
       "      <td>1599.000000</td>\n",
       "      <td>1599.000000</td>\n",
       "      <td>1599.000000</td>\n",
       "      <td>1599.000000</td>\n",
       "      <td>1599.000000</td>\n",
       "      <td>1599.000000</td>\n",
       "      <td>1599.000000</td>\n",
       "      <td>1599.000000</td>\n",
       "    </tr>\n",
       "    <tr>\n",
       "      <th>mean</th>\n",
       "      <td>8.319637</td>\n",
       "      <td>0.527821</td>\n",
       "      <td>0.270976</td>\n",
       "      <td>2.538806</td>\n",
       "      <td>0.087467</td>\n",
       "      <td>15.874922</td>\n",
       "      <td>46.467792</td>\n",
       "      <td>0.996747</td>\n",
       "      <td>3.311113</td>\n",
       "      <td>0.658149</td>\n",
       "      <td>10.422983</td>\n",
       "      <td>5.636023</td>\n",
       "    </tr>\n",
       "    <tr>\n",
       "      <th>std</th>\n",
       "      <td>1.741096</td>\n",
       "      <td>0.179060</td>\n",
       "      <td>0.194801</td>\n",
       "      <td>1.409928</td>\n",
       "      <td>0.047065</td>\n",
       "      <td>10.460157</td>\n",
       "      <td>32.895324</td>\n",
       "      <td>0.001887</td>\n",
       "      <td>0.154386</td>\n",
       "      <td>0.169507</td>\n",
       "      <td>1.065668</td>\n",
       "      <td>0.807569</td>\n",
       "    </tr>\n",
       "    <tr>\n",
       "      <th>min</th>\n",
       "      <td>4.600000</td>\n",
       "      <td>0.120000</td>\n",
       "      <td>0.000000</td>\n",
       "      <td>0.900000</td>\n",
       "      <td>0.012000</td>\n",
       "      <td>1.000000</td>\n",
       "      <td>6.000000</td>\n",
       "      <td>0.990070</td>\n",
       "      <td>2.740000</td>\n",
       "      <td>0.330000</td>\n",
       "      <td>8.400000</td>\n",
       "      <td>3.000000</td>\n",
       "    </tr>\n",
       "    <tr>\n",
       "      <th>25%</th>\n",
       "      <td>7.100000</td>\n",
       "      <td>0.390000</td>\n",
       "      <td>0.090000</td>\n",
       "      <td>1.900000</td>\n",
       "      <td>0.070000</td>\n",
       "      <td>7.000000</td>\n",
       "      <td>22.000000</td>\n",
       "      <td>0.995600</td>\n",
       "      <td>3.210000</td>\n",
       "      <td>0.550000</td>\n",
       "      <td>9.500000</td>\n",
       "      <td>5.000000</td>\n",
       "    </tr>\n",
       "    <tr>\n",
       "      <th>50%</th>\n",
       "      <td>7.900000</td>\n",
       "      <td>0.520000</td>\n",
       "      <td>0.260000</td>\n",
       "      <td>2.200000</td>\n",
       "      <td>0.079000</td>\n",
       "      <td>14.000000</td>\n",
       "      <td>38.000000</td>\n",
       "      <td>0.996750</td>\n",
       "      <td>3.310000</td>\n",
       "      <td>0.620000</td>\n",
       "      <td>10.200000</td>\n",
       "      <td>6.000000</td>\n",
       "    </tr>\n",
       "    <tr>\n",
       "      <th>75%</th>\n",
       "      <td>9.200000</td>\n",
       "      <td>0.640000</td>\n",
       "      <td>0.420000</td>\n",
       "      <td>2.600000</td>\n",
       "      <td>0.090000</td>\n",
       "      <td>21.000000</td>\n",
       "      <td>62.000000</td>\n",
       "      <td>0.997835</td>\n",
       "      <td>3.400000</td>\n",
       "      <td>0.730000</td>\n",
       "      <td>11.100000</td>\n",
       "      <td>6.000000</td>\n",
       "    </tr>\n",
       "    <tr>\n",
       "      <th>max</th>\n",
       "      <td>15.900000</td>\n",
       "      <td>1.580000</td>\n",
       "      <td>1.000000</td>\n",
       "      <td>15.500000</td>\n",
       "      <td>0.611000</td>\n",
       "      <td>72.000000</td>\n",
       "      <td>289.000000</td>\n",
       "      <td>1.003690</td>\n",
       "      <td>4.010000</td>\n",
       "      <td>2.000000</td>\n",
       "      <td>14.900000</td>\n",
       "      <td>8.000000</td>\n",
       "    </tr>\n",
       "  </tbody>\n",
       "</table>\n",
       "</div>"
      ],
      "text/plain": [
       "       fixed acidity  volatile acidity  citric acid  residual sugar  \\\n",
       "count    1599.000000       1599.000000  1599.000000     1599.000000   \n",
       "mean        8.319637          0.527821     0.270976        2.538806   \n",
       "std         1.741096          0.179060     0.194801        1.409928   \n",
       "min         4.600000          0.120000     0.000000        0.900000   \n",
       "25%         7.100000          0.390000     0.090000        1.900000   \n",
       "50%         7.900000          0.520000     0.260000        2.200000   \n",
       "75%         9.200000          0.640000     0.420000        2.600000   \n",
       "max        15.900000          1.580000     1.000000       15.500000   \n",
       "\n",
       "         chlorides  free sulfur dioxide  total sulfur dioxide      density  \\\n",
       "count  1599.000000          1599.000000           1599.000000  1599.000000   \n",
       "mean      0.087467            15.874922             46.467792     0.996747   \n",
       "std       0.047065            10.460157             32.895324     0.001887   \n",
       "min       0.012000             1.000000              6.000000     0.990070   \n",
       "25%       0.070000             7.000000             22.000000     0.995600   \n",
       "50%       0.079000            14.000000             38.000000     0.996750   \n",
       "75%       0.090000            21.000000             62.000000     0.997835   \n",
       "max       0.611000            72.000000            289.000000     1.003690   \n",
       "\n",
       "                pH    sulphates      alcohol      quality  \n",
       "count  1599.000000  1599.000000  1599.000000  1599.000000  \n",
       "mean      3.311113     0.658149    10.422983     5.636023  \n",
       "std       0.154386     0.169507     1.065668     0.807569  \n",
       "min       2.740000     0.330000     8.400000     3.000000  \n",
       "25%       3.210000     0.550000     9.500000     5.000000  \n",
       "50%       3.310000     0.620000    10.200000     6.000000  \n",
       "75%       3.400000     0.730000    11.100000     6.000000  \n",
       "max       4.010000     2.000000    14.900000     8.000000  "
      ]
     },
     "execution_count": 60,
     "metadata": {},
     "output_type": "execute_result"
    }
   ],
   "source": [
    "df.describe()"
   ]
  },
  {
   "cell_type": "markdown",
   "id": "f23b8977-38b3-40b3-82e9-3375479fbb72",
   "metadata": {},
   "source": [
    "#### Information about data types"
   ]
  },
  {
   "cell_type": "code",
   "execution_count": 61,
   "id": "efdff7b7-dba7-4779-af14-22f0de8e4bfd",
   "metadata": {},
   "outputs": [
    {
     "name": "stdout",
     "output_type": "stream",
     "text": [
      "<class 'pandas.core.frame.DataFrame'>\n",
      "RangeIndex: 1599 entries, 0 to 1598\n",
      "Data columns (total 12 columns):\n",
      " #   Column                Non-Null Count  Dtype  \n",
      "---  ------                --------------  -----  \n",
      " 0   fixed acidity         1599 non-null   float64\n",
      " 1   volatile acidity      1599 non-null   float64\n",
      " 2   citric acid           1599 non-null   float64\n",
      " 3   residual sugar        1599 non-null   float64\n",
      " 4   chlorides             1599 non-null   float64\n",
      " 5   free sulfur dioxide   1599 non-null   float64\n",
      " 6   total sulfur dioxide  1599 non-null   float64\n",
      " 7   density               1599 non-null   float64\n",
      " 8   pH                    1599 non-null   float64\n",
      " 9   sulphates             1599 non-null   float64\n",
      " 10  alcohol               1599 non-null   float64\n",
      " 11  quality               1599 non-null   int64  \n",
      "dtypes: float64(11), int64(1)\n",
      "memory usage: 150.0 KB\n"
     ]
    }
   ],
   "source": [
    "df.info()"
   ]
  },
  {
   "cell_type": "code",
   "execution_count": 62,
   "id": "c97f60e0-208f-4fb1-ada7-fed6f530f620",
   "metadata": {},
   "outputs": [
    {
     "data": {
      "text/plain": [
       "['fixed acidity',\n",
       " 'volatile acidity',\n",
       " 'citric acid',\n",
       " 'residual sugar',\n",
       " 'chlorides',\n",
       " 'free sulfur dioxide',\n",
       " 'total sulfur dioxide',\n",
       " 'density',\n",
       " 'pH',\n",
       " 'sulphates',\n",
       " 'alcohol',\n",
       " 'quality']"
      ]
     },
     "execution_count": 62,
     "metadata": {},
     "output_type": "execute_result"
    }
   ],
   "source": [
    "list(df.columns)"
   ]
  },
  {
   "cell_type": "code",
   "execution_count": 63,
   "id": "201b5274-7d5a-4fbf-bac7-9237204e1125",
   "metadata": {},
   "outputs": [
    {
     "data": {
      "text/plain": [
       "0        7.4\n",
       "1        7.8\n",
       "2        7.8\n",
       "3       11.2\n",
       "4        7.4\n",
       "        ... \n",
       "1594     6.2\n",
       "1595     5.9\n",
       "1596     6.3\n",
       "1597     5.9\n",
       "1598     6.0\n",
       "Name: fixed acidity, Length: 1599, dtype: float64"
      ]
     },
     "execution_count": 63,
     "metadata": {},
     "output_type": "execute_result"
    }
   ],
   "source": [
    "df['fixed acidity']"
   ]
  },
  {
   "cell_type": "markdown",
   "id": "9aec4ffa-b79a-42f3-83d8-d1af1b781272",
   "metadata": {},
   "source": [
    "#### Note that single column is actually a Series rather than Dataframe"
   ]
  },
  {
   "cell_type": "code",
   "execution_count": 64,
   "id": "bf907433-d392-4185-8022-a61fc90edd0a",
   "metadata": {},
   "outputs": [
    {
     "data": {
      "text/plain": [
       "pandas.core.series.Series"
      ]
     },
     "execution_count": 64,
     "metadata": {},
     "output_type": "execute_result"
    }
   ],
   "source": [
    "type(df['fixed acidity'])"
   ]
  },
  {
   "cell_type": "markdown",
   "id": "666347ec-ed47-4896-bf55-d4abddecc7d2",
   "metadata": {},
   "source": [
    "#### Convert to Python list"
   ]
  },
  {
   "cell_type": "code",
   "execution_count": 65,
   "id": "bc5aab4f-91f0-4713-be09-e32a600f80ed",
   "metadata": {},
   "outputs": [
    {
     "data": {
      "text/plain": [
       "[7.4, 7.8, 7.8, 11.2, 7.4]"
      ]
     },
     "execution_count": 65,
     "metadata": {},
     "output_type": "execute_result"
    }
   ],
   "source": [
    "# It is a long list, display only first 5 elements\n",
    "df['fixed acidity'].to_list()[:5]"
   ]
  },
  {
   "cell_type": "markdown",
   "id": "7b5ad0bf-b4ef-475c-bd8a-2a9e6e0aa920",
   "metadata": {},
   "source": [
    "### Mutiple Column select"
   ]
  },
  {
   "cell_type": "code",
   "execution_count": 66,
   "id": "bc7f8653-2677-4b43-94df-011aa3aff5fc",
   "metadata": {},
   "outputs": [
    {
     "data": {
      "text/html": [
       "<div>\n",
       "<style scoped>\n",
       "    .dataframe tbody tr th:only-of-type {\n",
       "        vertical-align: middle;\n",
       "    }\n",
       "\n",
       "    .dataframe tbody tr th {\n",
       "        vertical-align: top;\n",
       "    }\n",
       "\n",
       "    .dataframe thead th {\n",
       "        text-align: right;\n",
       "    }\n",
       "</style>\n",
       "<table border=\"1\" class=\"dataframe\">\n",
       "  <thead>\n",
       "    <tr style=\"text-align: right;\">\n",
       "      <th></th>\n",
       "      <th>fixed acidity</th>\n",
       "      <th>residual sugar</th>\n",
       "      <th>free sulfur dioxide</th>\n",
       "      <th>total sulfur dioxide</th>\n",
       "      <th>quality</th>\n",
       "    </tr>\n",
       "  </thead>\n",
       "  <tbody>\n",
       "    <tr>\n",
       "      <th>0</th>\n",
       "      <td>7.4</td>\n",
       "      <td>1.9</td>\n",
       "      <td>11.0</td>\n",
       "      <td>34.0</td>\n",
       "      <td>5</td>\n",
       "    </tr>\n",
       "    <tr>\n",
       "      <th>1</th>\n",
       "      <td>7.8</td>\n",
       "      <td>2.6</td>\n",
       "      <td>25.0</td>\n",
       "      <td>67.0</td>\n",
       "      <td>5</td>\n",
       "    </tr>\n",
       "    <tr>\n",
       "      <th>2</th>\n",
       "      <td>7.8</td>\n",
       "      <td>2.3</td>\n",
       "      <td>15.0</td>\n",
       "      <td>54.0</td>\n",
       "      <td>5</td>\n",
       "    </tr>\n",
       "    <tr>\n",
       "      <th>3</th>\n",
       "      <td>11.2</td>\n",
       "      <td>1.9</td>\n",
       "      <td>17.0</td>\n",
       "      <td>60.0</td>\n",
       "      <td>6</td>\n",
       "    </tr>\n",
       "    <tr>\n",
       "      <th>4</th>\n",
       "      <td>7.4</td>\n",
       "      <td>1.9</td>\n",
       "      <td>11.0</td>\n",
       "      <td>34.0</td>\n",
       "      <td>5</td>\n",
       "    </tr>\n",
       "  </tbody>\n",
       "</table>\n",
       "</div>"
      ],
      "text/plain": [
       "   fixed acidity  residual sugar  free sulfur dioxide  total sulfur dioxide  \\\n",
       "0            7.4             1.9                 11.0                  34.0   \n",
       "1            7.8             2.6                 25.0                  67.0   \n",
       "2            7.8             2.3                 15.0                  54.0   \n",
       "3           11.2             1.9                 17.0                  60.0   \n",
       "4            7.4             1.9                 11.0                  34.0   \n",
       "\n",
       "   quality  \n",
       "0        5  \n",
       "1        5  \n",
       "2        5  \n",
       "3        6  \n",
       "4        5  "
      ]
     },
     "execution_count": 66,
     "metadata": {},
     "output_type": "execute_result"
    }
   ],
   "source": [
    "df_selected = df[['fixed acidity', 'residual sugar', 'free sulfur dioxide', 'total sulfur dioxide', 'quality']]\n",
    "\n",
    "# Alternatively you can do:\n",
    "#columns = ['fixed acidity', 'residual sugar', 'free sulfur dioxide', 'total sulfur dioxide', 'quality']\n",
    "#df_selected = df[columns]\n",
    "\n",
    "df_selected.head()"
   ]
  },
  {
   "cell_type": "markdown",
   "id": "84fb2237-dd6e-459d-8093-bcdaa7bcfad6",
   "metadata": {},
   "source": [
    "#### Note that mutiple column select results in dataframe rather than series"
   ]
  },
  {
   "cell_type": "code",
   "execution_count": 67,
   "id": "f551dfa0-b795-4ab4-ad82-56e71fc443e2",
   "metadata": {},
   "outputs": [
    {
     "data": {
      "text/plain": [
       "pandas.core.frame.DataFrame"
      ]
     },
     "execution_count": 67,
     "metadata": {},
     "output_type": "execute_result"
    }
   ],
   "source": [
    "type(df_selected)"
   ]
  },
  {
   "cell_type": "markdown",
   "id": "185ef429-46c5-4e1c-87b6-b44f900c26cd",
   "metadata": {},
   "source": [
    "#### Convert to Numpy array"
   ]
  },
  {
   "cell_type": "code",
   "execution_count": 68,
   "id": "a45945a7-a66c-430d-9886-034c549873a7",
   "metadata": {},
   "outputs": [
    {
     "data": {
      "text/plain": [
       "array([[ 7.4  ,  0.7  ,  0.   , ...,  0.56 ,  9.4  ,  5.   ],\n",
       "       [ 7.8  ,  0.88 ,  0.   , ...,  0.68 ,  9.8  ,  5.   ],\n",
       "       [ 7.8  ,  0.76 ,  0.04 , ...,  0.65 ,  9.8  ,  5.   ],\n",
       "       ...,\n",
       "       [ 6.3  ,  0.51 ,  0.13 , ...,  0.75 , 11.   ,  6.   ],\n",
       "       [ 5.9  ,  0.645,  0.12 , ...,  0.71 , 10.2  ,  5.   ],\n",
       "       [ 6.   ,  0.31 ,  0.47 , ...,  0.66 , 11.   ,  6.   ]])"
      ]
     },
     "execution_count": 68,
     "metadata": {},
     "output_type": "execute_result"
    }
   ],
   "source": [
    "df.to_numpy()"
   ]
  },
  {
   "cell_type": "code",
   "execution_count": 69,
   "id": "fabf7707-71cb-40a5-96a9-9c72fa720021",
   "metadata": {},
   "outputs": [
    {
     "data": {
      "text/plain": [
       "array([[ 7.4  ,  0.7  ,  0.   , ...,  0.56 ,  9.4  ,  5.   ],\n",
       "       [ 7.8  ,  0.88 ,  0.   , ...,  0.68 ,  9.8  ,  5.   ],\n",
       "       [ 7.8  ,  0.76 ,  0.04 , ...,  0.65 ,  9.8  ,  5.   ],\n",
       "       ...,\n",
       "       [ 6.3  ,  0.51 ,  0.13 , ...,  0.75 , 11.   ,  6.   ],\n",
       "       [ 5.9  ,  0.645,  0.12 , ...,  0.71 , 10.2  ,  5.   ],\n",
       "       [ 6.   ,  0.31 ,  0.47 , ...,  0.66 , 11.   ,  6.   ]])"
      ]
     },
     "execution_count": 69,
     "metadata": {},
     "output_type": "execute_result"
    }
   ],
   "source": [
    "df.values"
   ]
  },
  {
   "cell_type": "code",
   "execution_count": 70,
   "id": "5844565c-1382-4e5d-b152-55e1901e05c9",
   "metadata": {},
   "outputs": [
    {
     "data": {
      "text/plain": [
       "(1599, 12)"
      ]
     },
     "execution_count": 70,
     "metadata": {},
     "output_type": "execute_result"
    }
   ],
   "source": [
    "# 2D, as expected\n",
    "df.values.shape"
   ]
  },
  {
   "cell_type": "markdown",
   "id": "495c6ab5-b91e-4572-8614-77352fbfd613",
   "metadata": {},
   "source": [
    "## Data with missing values\n",
    "#### NaN (not a number) values are missing data"
   ]
  },
  {
   "cell_type": "code",
   "execution_count": 71,
   "id": "23c00c9b-d61f-45f3-b5d7-b7ae8c611098",
   "metadata": {},
   "outputs": [
    {
     "data": {
      "text/html": [
       "<div>\n",
       "<style scoped>\n",
       "    .dataframe tbody tr th:only-of-type {\n",
       "        vertical-align: middle;\n",
       "    }\n",
       "\n",
       "    .dataframe tbody tr th {\n",
       "        vertical-align: top;\n",
       "    }\n",
       "\n",
       "    .dataframe thead th {\n",
       "        text-align: right;\n",
       "    }\n",
       "</style>\n",
       "<table border=\"1\" class=\"dataframe\">\n",
       "  <thead>\n",
       "    <tr style=\"text-align: right;\">\n",
       "      <th></th>\n",
       "      <th>PID</th>\n",
       "      <th>ST_NUM</th>\n",
       "      <th>ST_NAME</th>\n",
       "      <th>OWN_OCCUPIED</th>\n",
       "      <th>NUM_BEDROOMS</th>\n",
       "      <th>NUM_BATH</th>\n",
       "      <th>SQ_FT</th>\n",
       "    </tr>\n",
       "  </thead>\n",
       "  <tbody>\n",
       "    <tr>\n",
       "      <th>0</th>\n",
       "      <td>100001000</td>\n",
       "      <td>104.0</td>\n",
       "      <td>PUTNAM</td>\n",
       "      <td>Y</td>\n",
       "      <td>3.0</td>\n",
       "      <td>1.0</td>\n",
       "      <td>1000</td>\n",
       "    </tr>\n",
       "    <tr>\n",
       "      <th>1</th>\n",
       "      <td>100002000</td>\n",
       "      <td>197.0</td>\n",
       "      <td>LEXINGTON</td>\n",
       "      <td>N</td>\n",
       "      <td>3.0</td>\n",
       "      <td>1.5</td>\n",
       "      <td>1200</td>\n",
       "    </tr>\n",
       "    <tr>\n",
       "      <th>2</th>\n",
       "      <td>100003000</td>\n",
       "      <td>205.0</td>\n",
       "      <td>LEXINGTON</td>\n",
       "      <td>N</td>\n",
       "      <td>NaN</td>\n",
       "      <td>1.0</td>\n",
       "      <td>850</td>\n",
       "    </tr>\n",
       "    <tr>\n",
       "      <th>3</th>\n",
       "      <td>100004000</td>\n",
       "      <td>201.0</td>\n",
       "      <td>BERKELEY</td>\n",
       "      <td>Y</td>\n",
       "      <td>1.0</td>\n",
       "      <td>NaN</td>\n",
       "      <td>700</td>\n",
       "    </tr>\n",
       "    <tr>\n",
       "      <th>4</th>\n",
       "      <td>100005000</td>\n",
       "      <td>203.0</td>\n",
       "      <td>BERKELEY</td>\n",
       "      <td>Y</td>\n",
       "      <td>3.0</td>\n",
       "      <td>2.0</td>\n",
       "      <td>1600</td>\n",
       "    </tr>\n",
       "    <tr>\n",
       "      <th>5</th>\n",
       "      <td>100006000</td>\n",
       "      <td>207.0</td>\n",
       "      <td>BERKELEY</td>\n",
       "      <td>Y</td>\n",
       "      <td>NaN</td>\n",
       "      <td>1.0</td>\n",
       "      <td>800</td>\n",
       "    </tr>\n",
       "    <tr>\n",
       "      <th>6</th>\n",
       "      <td>100007000</td>\n",
       "      <td>NaN</td>\n",
       "      <td>WASHINGTON</td>\n",
       "      <td>N</td>\n",
       "      <td>2.0</td>\n",
       "      <td>1.0</td>\n",
       "      <td>950</td>\n",
       "    </tr>\n",
       "    <tr>\n",
       "      <th>7</th>\n",
       "      <td>100008000</td>\n",
       "      <td>213.0</td>\n",
       "      <td>TREMONT</td>\n",
       "      <td>Y</td>\n",
       "      <td>1.0</td>\n",
       "      <td>1.0</td>\n",
       "      <td>1000</td>\n",
       "    </tr>\n",
       "    <tr>\n",
       "      <th>8</th>\n",
       "      <td>100009000</td>\n",
       "      <td>215.0</td>\n",
       "      <td>TREMONT</td>\n",
       "      <td>Y</td>\n",
       "      <td>NaN</td>\n",
       "      <td>2.0</td>\n",
       "      <td>1800</td>\n",
       "    </tr>\n",
       "  </tbody>\n",
       "</table>\n",
       "</div>"
      ],
      "text/plain": [
       "         PID  ST_NUM     ST_NAME OWN_OCCUPIED  NUM_BEDROOMS  NUM_BATH  SQ_FT\n",
       "0  100001000   104.0      PUTNAM            Y           3.0       1.0   1000\n",
       "1  100002000   197.0   LEXINGTON            N           3.0       1.5   1200\n",
       "2  100003000   205.0   LEXINGTON            N           NaN       1.0    850\n",
       "3  100004000   201.0    BERKELEY            Y           1.0       NaN    700\n",
       "4  100005000   203.0    BERKELEY            Y           3.0       2.0   1600\n",
       "5  100006000   207.0    BERKELEY            Y           NaN       1.0    800\n",
       "6  100007000     NaN  WASHINGTON            N           2.0       1.0    950\n",
       "7  100008000   213.0     TREMONT            Y           1.0       1.0   1000\n",
       "8  100009000   215.0     TREMONT            Y           NaN       2.0   1800"
      ]
     },
     "execution_count": 71,
     "metadata": {},
     "output_type": "execute_result"
    }
   ],
   "source": [
    "df_missing = pd.read_csv('properity_data.csv')\n",
    "df_missing.head(10)"
   ]
  },
  {
   "cell_type": "code",
   "execution_count": 72,
   "id": "4902e481-6ffa-47c7-9311-4bdf75746ff2",
   "metadata": {},
   "outputs": [
    {
     "name": "stdout",
     "output_type": "stream",
     "text": [
      "<class 'pandas.core.frame.DataFrame'>\n",
      "RangeIndex: 9 entries, 0 to 8\n",
      "Data columns (total 7 columns):\n",
      " #   Column        Non-Null Count  Dtype  \n",
      "---  ------        --------------  -----  \n",
      " 0   PID           9 non-null      int64  \n",
      " 1   ST_NUM        8 non-null      float64\n",
      " 2   ST_NAME       9 non-null      object \n",
      " 3   OWN_OCCUPIED  9 non-null      object \n",
      " 4   NUM_BEDROOMS  6 non-null      float64\n",
      " 5   NUM_BATH      8 non-null      float64\n",
      " 6   SQ_FT         9 non-null      int64  \n",
      "dtypes: float64(3), int64(2), object(2)\n",
      "memory usage: 636.0+ bytes\n"
     ]
    }
   ],
   "source": [
    "df_missing.info()"
   ]
  },
  {
   "cell_type": "code",
   "execution_count": 73,
   "id": "fc4e96d4-31bb-4309-9b2e-ed6ad59b99cf",
   "metadata": {},
   "outputs": [
    {
     "data": {
      "text/plain": [
       "0    False\n",
       "1    False\n",
       "2     True\n",
       "3    False\n",
       "4    False\n",
       "5     True\n",
       "6    False\n",
       "7    False\n",
       "8     True\n",
       "Name: NUM_BEDROOMS, dtype: bool"
      ]
     },
     "execution_count": 73,
     "metadata": {},
     "output_type": "execute_result"
    }
   ],
   "source": [
    "# Check which rows are null in the column NUM_BEDROOMS\n",
    "df_missing['NUM_BEDROOMS'].isnull()"
   ]
  },
  {
   "cell_type": "markdown",
   "id": "aad754cf-dbe8-4b1f-96bf-cf68b4bb4db4",
   "metadata": {},
   "source": [
    "### Loop over columns"
   ]
  },
  {
   "cell_type": "code",
   "execution_count": 74,
   "id": "e8aac73a-e66f-4d70-b013-ed211351970d",
   "metadata": {},
   "outputs": [
    {
     "name": "stdout",
     "output_type": "stream",
     "text": [
      "PID, 0% missing\n",
      "ST_NUM, 11% missing\n",
      "ST_NAME, 0% missing\n",
      "OWN_OCCUPIED, 0% missing\n",
      "NUM_BEDROOMS, 33% missing\n",
      "NUM_BATH, 11% missing\n",
      "SQ_FT, 0% missing\n"
     ]
    }
   ],
   "source": [
    "for column_name in df_missing.columns:\n",
    "    # Calculate the mean\n",
    "    missing = np.mean(df_missing[column_name].isnull())\n",
    "    print(f'{column_name}, {round(missing*100)}% missing')"
   ]
  },
  {
   "cell_type": "markdown",
   "id": "d2cf645d-61fe-445f-9cf3-71ff4db141aa",
   "metadata": {},
   "source": [
    "### Handling missing data"
   ]
  },
  {
   "cell_type": "code",
   "execution_count": 75,
   "id": "cda52028-c85b-45c9-9733-6d37b5faa29f",
   "metadata": {},
   "outputs": [
    {
     "data": {
      "text/html": [
       "<div>\n",
       "<style scoped>\n",
       "    .dataframe tbody tr th:only-of-type {\n",
       "        vertical-align: middle;\n",
       "    }\n",
       "\n",
       "    .dataframe tbody tr th {\n",
       "        vertical-align: top;\n",
       "    }\n",
       "\n",
       "    .dataframe thead th {\n",
       "        text-align: right;\n",
       "    }\n",
       "</style>\n",
       "<table border=\"1\" class=\"dataframe\">\n",
       "  <thead>\n",
       "    <tr style=\"text-align: right;\">\n",
       "      <th></th>\n",
       "      <th>PID</th>\n",
       "      <th>ST_NUM</th>\n",
       "      <th>ST_NAME</th>\n",
       "      <th>OWN_OCCUPIED</th>\n",
       "      <th>NUM_BEDROOMS</th>\n",
       "      <th>NUM_BATH</th>\n",
       "      <th>SQ_FT</th>\n",
       "    </tr>\n",
       "  </thead>\n",
       "  <tbody>\n",
       "    <tr>\n",
       "      <th>0</th>\n",
       "      <td>100001000</td>\n",
       "      <td>104.0</td>\n",
       "      <td>PUTNAM</td>\n",
       "      <td>Y</td>\n",
       "      <td>3.0</td>\n",
       "      <td>1.0</td>\n",
       "      <td>1000</td>\n",
       "    </tr>\n",
       "    <tr>\n",
       "      <th>1</th>\n",
       "      <td>100002000</td>\n",
       "      <td>197.0</td>\n",
       "      <td>LEXINGTON</td>\n",
       "      <td>N</td>\n",
       "      <td>3.0</td>\n",
       "      <td>1.5</td>\n",
       "      <td>1200</td>\n",
       "    </tr>\n",
       "    <tr>\n",
       "      <th>4</th>\n",
       "      <td>100005000</td>\n",
       "      <td>203.0</td>\n",
       "      <td>BERKELEY</td>\n",
       "      <td>Y</td>\n",
       "      <td>3.0</td>\n",
       "      <td>2.0</td>\n",
       "      <td>1600</td>\n",
       "    </tr>\n",
       "    <tr>\n",
       "      <th>7</th>\n",
       "      <td>100008000</td>\n",
       "      <td>213.0</td>\n",
       "      <td>TREMONT</td>\n",
       "      <td>Y</td>\n",
       "      <td>1.0</td>\n",
       "      <td>1.0</td>\n",
       "      <td>1000</td>\n",
       "    </tr>\n",
       "  </tbody>\n",
       "</table>\n",
       "</div>"
      ],
      "text/plain": [
       "         PID  ST_NUM    ST_NAME OWN_OCCUPIED  NUM_BEDROOMS  NUM_BATH  SQ_FT\n",
       "0  100001000   104.0     PUTNAM            Y           3.0       1.0   1000\n",
       "1  100002000   197.0  LEXINGTON            N           3.0       1.5   1200\n",
       "4  100005000   203.0   BERKELEY            Y           3.0       2.0   1600\n",
       "7  100008000   213.0    TREMONT            Y           1.0       1.0   1000"
      ]
     },
     "execution_count": 75,
     "metadata": {},
     "output_type": "execute_result"
    }
   ],
   "source": [
    "# Remove rows with missing data\n",
    "df_missing.dropna()"
   ]
  },
  {
   "cell_type": "code",
   "execution_count": 76,
   "id": "8a77f03a-9cae-4b4f-858b-061983ddf05e",
   "metadata": {},
   "outputs": [
    {
     "data": {
      "text/html": [
       "<div>\n",
       "<style scoped>\n",
       "    .dataframe tbody tr th:only-of-type {\n",
       "        vertical-align: middle;\n",
       "    }\n",
       "\n",
       "    .dataframe tbody tr th {\n",
       "        vertical-align: top;\n",
       "    }\n",
       "\n",
       "    .dataframe thead th {\n",
       "        text-align: right;\n",
       "    }\n",
       "</style>\n",
       "<table border=\"1\" class=\"dataframe\">\n",
       "  <thead>\n",
       "    <tr style=\"text-align: right;\">\n",
       "      <th></th>\n",
       "      <th>PID</th>\n",
       "      <th>ST_NAME</th>\n",
       "      <th>OWN_OCCUPIED</th>\n",
       "      <th>SQ_FT</th>\n",
       "    </tr>\n",
       "  </thead>\n",
       "  <tbody>\n",
       "    <tr>\n",
       "      <th>0</th>\n",
       "      <td>100001000</td>\n",
       "      <td>PUTNAM</td>\n",
       "      <td>Y</td>\n",
       "      <td>1000</td>\n",
       "    </tr>\n",
       "    <tr>\n",
       "      <th>1</th>\n",
       "      <td>100002000</td>\n",
       "      <td>LEXINGTON</td>\n",
       "      <td>N</td>\n",
       "      <td>1200</td>\n",
       "    </tr>\n",
       "    <tr>\n",
       "      <th>2</th>\n",
       "      <td>100003000</td>\n",
       "      <td>LEXINGTON</td>\n",
       "      <td>N</td>\n",
       "      <td>850</td>\n",
       "    </tr>\n",
       "    <tr>\n",
       "      <th>3</th>\n",
       "      <td>100004000</td>\n",
       "      <td>BERKELEY</td>\n",
       "      <td>Y</td>\n",
       "      <td>700</td>\n",
       "    </tr>\n",
       "    <tr>\n",
       "      <th>4</th>\n",
       "      <td>100005000</td>\n",
       "      <td>BERKELEY</td>\n",
       "      <td>Y</td>\n",
       "      <td>1600</td>\n",
       "    </tr>\n",
       "    <tr>\n",
       "      <th>5</th>\n",
       "      <td>100006000</td>\n",
       "      <td>BERKELEY</td>\n",
       "      <td>Y</td>\n",
       "      <td>800</td>\n",
       "    </tr>\n",
       "    <tr>\n",
       "      <th>6</th>\n",
       "      <td>100007000</td>\n",
       "      <td>WASHINGTON</td>\n",
       "      <td>N</td>\n",
       "      <td>950</td>\n",
       "    </tr>\n",
       "    <tr>\n",
       "      <th>7</th>\n",
       "      <td>100008000</td>\n",
       "      <td>TREMONT</td>\n",
       "      <td>Y</td>\n",
       "      <td>1000</td>\n",
       "    </tr>\n",
       "    <tr>\n",
       "      <th>8</th>\n",
       "      <td>100009000</td>\n",
       "      <td>TREMONT</td>\n",
       "      <td>Y</td>\n",
       "      <td>1800</td>\n",
       "    </tr>\n",
       "  </tbody>\n",
       "</table>\n",
       "</div>"
      ],
      "text/plain": [
       "         PID     ST_NAME OWN_OCCUPIED  SQ_FT\n",
       "0  100001000      PUTNAM            Y   1000\n",
       "1  100002000   LEXINGTON            N   1200\n",
       "2  100003000   LEXINGTON            N    850\n",
       "3  100004000    BERKELEY            Y    700\n",
       "4  100005000    BERKELEY            Y   1600\n",
       "5  100006000    BERKELEY            Y    800\n",
       "6  100007000  WASHINGTON            N    950\n",
       "7  100008000     TREMONT            Y   1000\n",
       "8  100009000     TREMONT            Y   1800"
      ]
     },
     "execution_count": 76,
     "metadata": {},
     "output_type": "execute_result"
    }
   ],
   "source": [
    "# Remove columns with missing data\n",
    "# (axis 0 is rows, 1 is columns)\n",
    "df_missing.dropna(axis=1)"
   ]
  },
  {
   "cell_type": "code",
   "execution_count": 77,
   "id": "89c1c3c2-0033-4231-a679-61e9ca0c69b7",
   "metadata": {},
   "outputs": [
    {
     "data": {
      "text/html": [
       "<div>\n",
       "<style scoped>\n",
       "    .dataframe tbody tr th:only-of-type {\n",
       "        vertical-align: middle;\n",
       "    }\n",
       "\n",
       "    .dataframe tbody tr th {\n",
       "        vertical-align: top;\n",
       "    }\n",
       "\n",
       "    .dataframe thead th {\n",
       "        text-align: right;\n",
       "    }\n",
       "</style>\n",
       "<table border=\"1\" class=\"dataframe\">\n",
       "  <thead>\n",
       "    <tr style=\"text-align: right;\">\n",
       "      <th></th>\n",
       "      <th>PID</th>\n",
       "      <th>ST_NUM</th>\n",
       "      <th>ST_NAME</th>\n",
       "      <th>OWN_OCCUPIED</th>\n",
       "      <th>NUM_BEDROOMS</th>\n",
       "      <th>NUM_BATH</th>\n",
       "      <th>SQ_FT</th>\n",
       "    </tr>\n",
       "  </thead>\n",
       "  <tbody>\n",
       "    <tr>\n",
       "      <th>0</th>\n",
       "      <td>100001000</td>\n",
       "      <td>104.0</td>\n",
       "      <td>PUTNAM</td>\n",
       "      <td>Y</td>\n",
       "      <td>3.0</td>\n",
       "      <td>1.0</td>\n",
       "      <td>1000</td>\n",
       "    </tr>\n",
       "    <tr>\n",
       "      <th>1</th>\n",
       "      <td>100002000</td>\n",
       "      <td>197.0</td>\n",
       "      <td>LEXINGTON</td>\n",
       "      <td>N</td>\n",
       "      <td>3.0</td>\n",
       "      <td>1.5</td>\n",
       "      <td>1200</td>\n",
       "    </tr>\n",
       "    <tr>\n",
       "      <th>2</th>\n",
       "      <td>100003000</td>\n",
       "      <td>205.0</td>\n",
       "      <td>LEXINGTON</td>\n",
       "      <td>N</td>\n",
       "      <td>0.0</td>\n",
       "      <td>1.0</td>\n",
       "      <td>850</td>\n",
       "    </tr>\n",
       "    <tr>\n",
       "      <th>3</th>\n",
       "      <td>100004000</td>\n",
       "      <td>201.0</td>\n",
       "      <td>BERKELEY</td>\n",
       "      <td>Y</td>\n",
       "      <td>1.0</td>\n",
       "      <td>0.0</td>\n",
       "      <td>700</td>\n",
       "    </tr>\n",
       "    <tr>\n",
       "      <th>4</th>\n",
       "      <td>100005000</td>\n",
       "      <td>203.0</td>\n",
       "      <td>BERKELEY</td>\n",
       "      <td>Y</td>\n",
       "      <td>3.0</td>\n",
       "      <td>2.0</td>\n",
       "      <td>1600</td>\n",
       "    </tr>\n",
       "    <tr>\n",
       "      <th>5</th>\n",
       "      <td>100006000</td>\n",
       "      <td>207.0</td>\n",
       "      <td>BERKELEY</td>\n",
       "      <td>Y</td>\n",
       "      <td>0.0</td>\n",
       "      <td>1.0</td>\n",
       "      <td>800</td>\n",
       "    </tr>\n",
       "    <tr>\n",
       "      <th>6</th>\n",
       "      <td>100007000</td>\n",
       "      <td>0.0</td>\n",
       "      <td>WASHINGTON</td>\n",
       "      <td>N</td>\n",
       "      <td>2.0</td>\n",
       "      <td>1.0</td>\n",
       "      <td>950</td>\n",
       "    </tr>\n",
       "    <tr>\n",
       "      <th>7</th>\n",
       "      <td>100008000</td>\n",
       "      <td>213.0</td>\n",
       "      <td>TREMONT</td>\n",
       "      <td>Y</td>\n",
       "      <td>1.0</td>\n",
       "      <td>1.0</td>\n",
       "      <td>1000</td>\n",
       "    </tr>\n",
       "    <tr>\n",
       "      <th>8</th>\n",
       "      <td>100009000</td>\n",
       "      <td>215.0</td>\n",
       "      <td>TREMONT</td>\n",
       "      <td>Y</td>\n",
       "      <td>0.0</td>\n",
       "      <td>2.0</td>\n",
       "      <td>1800</td>\n",
       "    </tr>\n",
       "  </tbody>\n",
       "</table>\n",
       "</div>"
      ],
      "text/plain": [
       "         PID  ST_NUM     ST_NAME OWN_OCCUPIED  NUM_BEDROOMS  NUM_BATH  SQ_FT\n",
       "0  100001000   104.0      PUTNAM            Y           3.0       1.0   1000\n",
       "1  100002000   197.0   LEXINGTON            N           3.0       1.5   1200\n",
       "2  100003000   205.0   LEXINGTON            N           0.0       1.0    850\n",
       "3  100004000   201.0    BERKELEY            Y           1.0       0.0    700\n",
       "4  100005000   203.0    BERKELEY            Y           3.0       2.0   1600\n",
       "5  100006000   207.0    BERKELEY            Y           0.0       1.0    800\n",
       "6  100007000     0.0  WASHINGTON            N           2.0       1.0    950\n",
       "7  100008000   213.0     TREMONT            Y           1.0       1.0   1000\n",
       "8  100009000   215.0     TREMONT            Y           0.0       2.0   1800"
      ]
     },
     "execution_count": 77,
     "metadata": {},
     "output_type": "execute_result"
    }
   ],
   "source": [
    "# Fill missing data with a number (0 in this case)\n",
    "df_missing.fillna(0)"
   ]
  },
  {
   "cell_type": "markdown",
   "id": "977aa310-dcdc-406a-87f1-b8f98afb0261",
   "metadata": {},
   "source": [
    "#### Forward fill\n",
    "* Fills the missing values with first non-missing value that occurs before it"
   ]
  },
  {
   "cell_type": "code",
   "execution_count": 78,
   "id": "9f5244ad-8417-4d1a-8680-7b308cc0b7ec",
   "metadata": {},
   "outputs": [
    {
     "name": "stderr",
     "output_type": "stream",
     "text": [
      "/tmp/ipykernel_3922/2732632913.py:1: FutureWarning: DataFrame.fillna with 'method' is deprecated and will raise in a future version. Use obj.ffill() or obj.bfill() instead.\n",
      "  df_missing.fillna(method='ffill')\n"
     ]
    },
    {
     "data": {
      "text/html": [
       "<div>\n",
       "<style scoped>\n",
       "    .dataframe tbody tr th:only-of-type {\n",
       "        vertical-align: middle;\n",
       "    }\n",
       "\n",
       "    .dataframe tbody tr th {\n",
       "        vertical-align: top;\n",
       "    }\n",
       "\n",
       "    .dataframe thead th {\n",
       "        text-align: right;\n",
       "    }\n",
       "</style>\n",
       "<table border=\"1\" class=\"dataframe\">\n",
       "  <thead>\n",
       "    <tr style=\"text-align: right;\">\n",
       "      <th></th>\n",
       "      <th>PID</th>\n",
       "      <th>ST_NUM</th>\n",
       "      <th>ST_NAME</th>\n",
       "      <th>OWN_OCCUPIED</th>\n",
       "      <th>NUM_BEDROOMS</th>\n",
       "      <th>NUM_BATH</th>\n",
       "      <th>SQ_FT</th>\n",
       "    </tr>\n",
       "  </thead>\n",
       "  <tbody>\n",
       "    <tr>\n",
       "      <th>0</th>\n",
       "      <td>100001000</td>\n",
       "      <td>104.0</td>\n",
       "      <td>PUTNAM</td>\n",
       "      <td>Y</td>\n",
       "      <td>3.0</td>\n",
       "      <td>1.0</td>\n",
       "      <td>1000</td>\n",
       "    </tr>\n",
       "    <tr>\n",
       "      <th>1</th>\n",
       "      <td>100002000</td>\n",
       "      <td>197.0</td>\n",
       "      <td>LEXINGTON</td>\n",
       "      <td>N</td>\n",
       "      <td>3.0</td>\n",
       "      <td>1.5</td>\n",
       "      <td>1200</td>\n",
       "    </tr>\n",
       "    <tr>\n",
       "      <th>2</th>\n",
       "      <td>100003000</td>\n",
       "      <td>205.0</td>\n",
       "      <td>LEXINGTON</td>\n",
       "      <td>N</td>\n",
       "      <td>3.0</td>\n",
       "      <td>1.0</td>\n",
       "      <td>850</td>\n",
       "    </tr>\n",
       "    <tr>\n",
       "      <th>3</th>\n",
       "      <td>100004000</td>\n",
       "      <td>201.0</td>\n",
       "      <td>BERKELEY</td>\n",
       "      <td>Y</td>\n",
       "      <td>1.0</td>\n",
       "      <td>1.0</td>\n",
       "      <td>700</td>\n",
       "    </tr>\n",
       "    <tr>\n",
       "      <th>4</th>\n",
       "      <td>100005000</td>\n",
       "      <td>203.0</td>\n",
       "      <td>BERKELEY</td>\n",
       "      <td>Y</td>\n",
       "      <td>3.0</td>\n",
       "      <td>2.0</td>\n",
       "      <td>1600</td>\n",
       "    </tr>\n",
       "    <tr>\n",
       "      <th>5</th>\n",
       "      <td>100006000</td>\n",
       "      <td>207.0</td>\n",
       "      <td>BERKELEY</td>\n",
       "      <td>Y</td>\n",
       "      <td>3.0</td>\n",
       "      <td>1.0</td>\n",
       "      <td>800</td>\n",
       "    </tr>\n",
       "    <tr>\n",
       "      <th>6</th>\n",
       "      <td>100007000</td>\n",
       "      <td>207.0</td>\n",
       "      <td>WASHINGTON</td>\n",
       "      <td>N</td>\n",
       "      <td>2.0</td>\n",
       "      <td>1.0</td>\n",
       "      <td>950</td>\n",
       "    </tr>\n",
       "    <tr>\n",
       "      <th>7</th>\n",
       "      <td>100008000</td>\n",
       "      <td>213.0</td>\n",
       "      <td>TREMONT</td>\n",
       "      <td>Y</td>\n",
       "      <td>1.0</td>\n",
       "      <td>1.0</td>\n",
       "      <td>1000</td>\n",
       "    </tr>\n",
       "    <tr>\n",
       "      <th>8</th>\n",
       "      <td>100009000</td>\n",
       "      <td>215.0</td>\n",
       "      <td>TREMONT</td>\n",
       "      <td>Y</td>\n",
       "      <td>1.0</td>\n",
       "      <td>2.0</td>\n",
       "      <td>1800</td>\n",
       "    </tr>\n",
       "  </tbody>\n",
       "</table>\n",
       "</div>"
      ],
      "text/plain": [
       "         PID  ST_NUM     ST_NAME OWN_OCCUPIED  NUM_BEDROOMS  NUM_BATH  SQ_FT\n",
       "0  100001000   104.0      PUTNAM            Y           3.0       1.0   1000\n",
       "1  100002000   197.0   LEXINGTON            N           3.0       1.5   1200\n",
       "2  100003000   205.0   LEXINGTON            N           3.0       1.0    850\n",
       "3  100004000   201.0    BERKELEY            Y           1.0       1.0    700\n",
       "4  100005000   203.0    BERKELEY            Y           3.0       2.0   1600\n",
       "5  100006000   207.0    BERKELEY            Y           3.0       1.0    800\n",
       "6  100007000   207.0  WASHINGTON            N           2.0       1.0    950\n",
       "7  100008000   213.0     TREMONT            Y           1.0       1.0   1000\n",
       "8  100009000   215.0     TREMONT            Y           1.0       2.0   1800"
      ]
     },
     "execution_count": 78,
     "metadata": {},
     "output_type": "execute_result"
    }
   ],
   "source": [
    "df_missing.fillna(method='ffill')"
   ]
  },
  {
   "cell_type": "markdown",
   "id": "653989a3-08f1-4a75-98f2-d2206f2d7746",
   "metadata": {},
   "source": [
    "#### Backward fill\n",
    "* Fills the missing values with first non-missing value that occurs after it\n",
    "* Note that is the if last value is NaN, it won't be filled"
   ]
  },
  {
   "cell_type": "code",
   "execution_count": 79,
   "id": "e06c3ad3-0c14-4344-b5dd-d35b1d1619ad",
   "metadata": {},
   "outputs": [
    {
     "name": "stderr",
     "output_type": "stream",
     "text": [
      "/tmp/ipykernel_3922/3330847387.py:1: FutureWarning: DataFrame.fillna with 'method' is deprecated and will raise in a future version. Use obj.ffill() or obj.bfill() instead.\n",
      "  df_missing.fillna(method='bfill')\n"
     ]
    },
    {
     "data": {
      "text/html": [
       "<div>\n",
       "<style scoped>\n",
       "    .dataframe tbody tr th:only-of-type {\n",
       "        vertical-align: middle;\n",
       "    }\n",
       "\n",
       "    .dataframe tbody tr th {\n",
       "        vertical-align: top;\n",
       "    }\n",
       "\n",
       "    .dataframe thead th {\n",
       "        text-align: right;\n",
       "    }\n",
       "</style>\n",
       "<table border=\"1\" class=\"dataframe\">\n",
       "  <thead>\n",
       "    <tr style=\"text-align: right;\">\n",
       "      <th></th>\n",
       "      <th>PID</th>\n",
       "      <th>ST_NUM</th>\n",
       "      <th>ST_NAME</th>\n",
       "      <th>OWN_OCCUPIED</th>\n",
       "      <th>NUM_BEDROOMS</th>\n",
       "      <th>NUM_BATH</th>\n",
       "      <th>SQ_FT</th>\n",
       "    </tr>\n",
       "  </thead>\n",
       "  <tbody>\n",
       "    <tr>\n",
       "      <th>0</th>\n",
       "      <td>100001000</td>\n",
       "      <td>104.0</td>\n",
       "      <td>PUTNAM</td>\n",
       "      <td>Y</td>\n",
       "      <td>3.0</td>\n",
       "      <td>1.0</td>\n",
       "      <td>1000</td>\n",
       "    </tr>\n",
       "    <tr>\n",
       "      <th>1</th>\n",
       "      <td>100002000</td>\n",
       "      <td>197.0</td>\n",
       "      <td>LEXINGTON</td>\n",
       "      <td>N</td>\n",
       "      <td>3.0</td>\n",
       "      <td>1.5</td>\n",
       "      <td>1200</td>\n",
       "    </tr>\n",
       "    <tr>\n",
       "      <th>2</th>\n",
       "      <td>100003000</td>\n",
       "      <td>205.0</td>\n",
       "      <td>LEXINGTON</td>\n",
       "      <td>N</td>\n",
       "      <td>1.0</td>\n",
       "      <td>1.0</td>\n",
       "      <td>850</td>\n",
       "    </tr>\n",
       "    <tr>\n",
       "      <th>3</th>\n",
       "      <td>100004000</td>\n",
       "      <td>201.0</td>\n",
       "      <td>BERKELEY</td>\n",
       "      <td>Y</td>\n",
       "      <td>1.0</td>\n",
       "      <td>2.0</td>\n",
       "      <td>700</td>\n",
       "    </tr>\n",
       "    <tr>\n",
       "      <th>4</th>\n",
       "      <td>100005000</td>\n",
       "      <td>203.0</td>\n",
       "      <td>BERKELEY</td>\n",
       "      <td>Y</td>\n",
       "      <td>3.0</td>\n",
       "      <td>2.0</td>\n",
       "      <td>1600</td>\n",
       "    </tr>\n",
       "    <tr>\n",
       "      <th>5</th>\n",
       "      <td>100006000</td>\n",
       "      <td>207.0</td>\n",
       "      <td>BERKELEY</td>\n",
       "      <td>Y</td>\n",
       "      <td>2.0</td>\n",
       "      <td>1.0</td>\n",
       "      <td>800</td>\n",
       "    </tr>\n",
       "    <tr>\n",
       "      <th>6</th>\n",
       "      <td>100007000</td>\n",
       "      <td>213.0</td>\n",
       "      <td>WASHINGTON</td>\n",
       "      <td>N</td>\n",
       "      <td>2.0</td>\n",
       "      <td>1.0</td>\n",
       "      <td>950</td>\n",
       "    </tr>\n",
       "    <tr>\n",
       "      <th>7</th>\n",
       "      <td>100008000</td>\n",
       "      <td>213.0</td>\n",
       "      <td>TREMONT</td>\n",
       "      <td>Y</td>\n",
       "      <td>1.0</td>\n",
       "      <td>1.0</td>\n",
       "      <td>1000</td>\n",
       "    </tr>\n",
       "    <tr>\n",
       "      <th>8</th>\n",
       "      <td>100009000</td>\n",
       "      <td>215.0</td>\n",
       "      <td>TREMONT</td>\n",
       "      <td>Y</td>\n",
       "      <td>NaN</td>\n",
       "      <td>2.0</td>\n",
       "      <td>1800</td>\n",
       "    </tr>\n",
       "  </tbody>\n",
       "</table>\n",
       "</div>"
      ],
      "text/plain": [
       "         PID  ST_NUM     ST_NAME OWN_OCCUPIED  NUM_BEDROOMS  NUM_BATH  SQ_FT\n",
       "0  100001000   104.0      PUTNAM            Y           3.0       1.0   1000\n",
       "1  100002000   197.0   LEXINGTON            N           3.0       1.5   1200\n",
       "2  100003000   205.0   LEXINGTON            N           1.0       1.0    850\n",
       "3  100004000   201.0    BERKELEY            Y           1.0       2.0    700\n",
       "4  100005000   203.0    BERKELEY            Y           3.0       2.0   1600\n",
       "5  100006000   207.0    BERKELEY            Y           2.0       1.0    800\n",
       "6  100007000   213.0  WASHINGTON            N           2.0       1.0    950\n",
       "7  100008000   213.0     TREMONT            Y           1.0       1.0   1000\n",
       "8  100009000   215.0     TREMONT            Y           NaN       2.0   1800"
      ]
     },
     "execution_count": 79,
     "metadata": {},
     "output_type": "execute_result"
    }
   ],
   "source": [
    "df_missing.fillna(method='bfill')"
   ]
  },
  {
   "cell_type": "markdown",
   "id": "429b9bc0-a4af-43b4-8b89-7c9815affd2a",
   "metadata": {},
   "source": [
    "#### Fill with the mean values\n",
    "* Fills the missing values with first non-missing value that occurs after it\n",
    "* Note that is the if last value is NaN, it won't be filled"
   ]
  },
  {
   "cell_type": "code",
   "execution_count": 80,
   "id": "5af31ff5-8a5f-4ef4-be25-aaa1617a9e3c",
   "metadata": {},
   "outputs": [
    {
     "data": {
      "text/plain": [
       "0    3.000000\n",
       "1    3.000000\n",
       "2    2.166667\n",
       "3    1.000000\n",
       "4    3.000000\n",
       "5    2.166667\n",
       "6    2.000000\n",
       "7    1.000000\n",
       "8    2.166667\n",
       "Name: NUM_BEDROOMS, dtype: float64"
      ]
     },
     "execution_count": 80,
     "metadata": {},
     "output_type": "execute_result"
    }
   ],
   "source": [
    "df_missing['NUM_BEDROOMS'].fillna(df_missing['NUM_BEDROOMS'].mean())"
   ]
  },
  {
   "cell_type": "markdown",
   "id": "4ff3d4de-1937-499a-86db-261d9eb5c96d",
   "metadata": {},
   "source": [
    "#### IMPORTANT NOTE: \n",
    "* operations in pandas are doesn't alter the original data, makes a seperate copy of it\n",
    "* If you want to change the dataframe, you need to explicitly assign it\n",
    "* Ex: df_missing = df_missing.fillna(0)\n",
    "* Some functions support in-place operation \n",
    "* Ex: df_missing.fillna(method='ffill', **inplace=True**)\n",
    "* Inplace operations alter the original data, no need to assign"
   ]
  },
  {
   "cell_type": "markdown",
   "id": "838fbabf-fece-43da-a9db-6889540c2f60",
   "metadata": {},
   "source": [
    "#### Selecting data with .loc, .iloc\n",
    "* **.loc:** label (row/column name) based selection. Also accepts integers \n",
    "  * Ex: **df.loc[:, 'column_name']** --> all rows of 'column_name'\n",
    "* **.iloc:** index based selection. Integer positions (starting from 0) of data must be used \n",
    "  * Ex: **df.iloc[:, 1:4]** --> all rows of columns from first to third"
   ]
  },
  {
   "cell_type": "code",
   "execution_count": 81,
   "id": "c6b06db7-3cfd-48be-8ac2-c6b5ed4b89d4",
   "metadata": {},
   "outputs": [
    {
     "data": {
      "text/html": [
       "<div>\n",
       "<style scoped>\n",
       "    .dataframe tbody tr th:only-of-type {\n",
       "        vertical-align: middle;\n",
       "    }\n",
       "\n",
       "    .dataframe tbody tr th {\n",
       "        vertical-align: top;\n",
       "    }\n",
       "\n",
       "    .dataframe thead th {\n",
       "        text-align: right;\n",
       "    }\n",
       "</style>\n",
       "<table border=\"1\" class=\"dataframe\">\n",
       "  <thead>\n",
       "    <tr style=\"text-align: right;\">\n",
       "      <th></th>\n",
       "      <th>PID</th>\n",
       "      <th>ST_NUM</th>\n",
       "      <th>ST_NAME</th>\n",
       "      <th>OWN_OCCUPIED</th>\n",
       "      <th>NUM_BEDROOMS</th>\n",
       "      <th>NUM_BATH</th>\n",
       "      <th>SQ_FT</th>\n",
       "    </tr>\n",
       "  </thead>\n",
       "  <tbody>\n",
       "    <tr>\n",
       "      <th>0</th>\n",
       "      <td>100001000</td>\n",
       "      <td>104.000</td>\n",
       "      <td>PUTNAM</td>\n",
       "      <td>Y</td>\n",
       "      <td>3.000000</td>\n",
       "      <td>1.0000</td>\n",
       "      <td>1000</td>\n",
       "    </tr>\n",
       "    <tr>\n",
       "      <th>1</th>\n",
       "      <td>100002000</td>\n",
       "      <td>197.000</td>\n",
       "      <td>LEXINGTON</td>\n",
       "      <td>N</td>\n",
       "      <td>3.000000</td>\n",
       "      <td>1.5000</td>\n",
       "      <td>1200</td>\n",
       "    </tr>\n",
       "    <tr>\n",
       "      <th>2</th>\n",
       "      <td>100003000</td>\n",
       "      <td>205.000</td>\n",
       "      <td>LEXINGTON</td>\n",
       "      <td>N</td>\n",
       "      <td>2.166667</td>\n",
       "      <td>1.0000</td>\n",
       "      <td>850</td>\n",
       "    </tr>\n",
       "    <tr>\n",
       "      <th>3</th>\n",
       "      <td>100004000</td>\n",
       "      <td>201.000</td>\n",
       "      <td>BERKELEY</td>\n",
       "      <td>Y</td>\n",
       "      <td>1.000000</td>\n",
       "      <td>1.3125</td>\n",
       "      <td>700</td>\n",
       "    </tr>\n",
       "    <tr>\n",
       "      <th>4</th>\n",
       "      <td>100005000</td>\n",
       "      <td>203.000</td>\n",
       "      <td>BERKELEY</td>\n",
       "      <td>Y</td>\n",
       "      <td>3.000000</td>\n",
       "      <td>2.0000</td>\n",
       "      <td>1600</td>\n",
       "    </tr>\n",
       "    <tr>\n",
       "      <th>5</th>\n",
       "      <td>100006000</td>\n",
       "      <td>207.000</td>\n",
       "      <td>BERKELEY</td>\n",
       "      <td>Y</td>\n",
       "      <td>2.166667</td>\n",
       "      <td>1.0000</td>\n",
       "      <td>800</td>\n",
       "    </tr>\n",
       "    <tr>\n",
       "      <th>6</th>\n",
       "      <td>100007000</td>\n",
       "      <td>193.125</td>\n",
       "      <td>WASHINGTON</td>\n",
       "      <td>N</td>\n",
       "      <td>2.000000</td>\n",
       "      <td>1.0000</td>\n",
       "      <td>950</td>\n",
       "    </tr>\n",
       "    <tr>\n",
       "      <th>7</th>\n",
       "      <td>100008000</td>\n",
       "      <td>213.000</td>\n",
       "      <td>TREMONT</td>\n",
       "      <td>Y</td>\n",
       "      <td>1.000000</td>\n",
       "      <td>1.0000</td>\n",
       "      <td>1000</td>\n",
       "    </tr>\n",
       "    <tr>\n",
       "      <th>8</th>\n",
       "      <td>100009000</td>\n",
       "      <td>215.000</td>\n",
       "      <td>TREMONT</td>\n",
       "      <td>Y</td>\n",
       "      <td>2.166667</td>\n",
       "      <td>2.0000</td>\n",
       "      <td>1800</td>\n",
       "    </tr>\n",
       "  </tbody>\n",
       "</table>\n",
       "</div>"
      ],
      "text/plain": [
       "         PID   ST_NUM     ST_NAME OWN_OCCUPIED  NUM_BEDROOMS  NUM_BATH  SQ_FT\n",
       "0  100001000  104.000      PUTNAM            Y      3.000000    1.0000   1000\n",
       "1  100002000  197.000   LEXINGTON            N      3.000000    1.5000   1200\n",
       "2  100003000  205.000   LEXINGTON            N      2.166667    1.0000    850\n",
       "3  100004000  201.000    BERKELEY            Y      1.000000    1.3125    700\n",
       "4  100005000  203.000    BERKELEY            Y      3.000000    2.0000   1600\n",
       "5  100006000  207.000    BERKELEY            Y      2.166667    1.0000    800\n",
       "6  100007000  193.125  WASHINGTON            N      2.000000    1.0000    950\n",
       "7  100008000  213.000     TREMONT            Y      1.000000    1.0000   1000\n",
       "8  100009000  215.000     TREMONT            Y      2.166667    2.0000   1800"
      ]
     },
     "execution_count": 81,
     "metadata": {},
     "output_type": "execute_result"
    }
   ],
   "source": [
    "df_missing['ST_NUM'] = df_missing['ST_NUM'].fillna(df_missing['ST_NUM'].mean())\n",
    "df_missing['NUM_BEDROOMS'] = df_missing['NUM_BEDROOMS'].fillna(df_missing['NUM_BEDROOMS'].mean())\n",
    "df_missing['NUM_BATH'] = df_missing['NUM_BATH'].fillna(df_missing['NUM_BATH'].mean())\n",
    "df_missing.head(10)"
   ]
  },
  {
   "cell_type": "code",
   "execution_count": 82,
   "id": "59323a2c-b43b-4ad6-95cb-d0f97aac3091",
   "metadata": {},
   "outputs": [
    {
     "name": "stdout",
     "output_type": "stream",
     "text": [
      "<class 'pandas.core.frame.DataFrame'>\n",
      "RangeIndex: 9 entries, 0 to 8\n",
      "Data columns (total 7 columns):\n",
      " #   Column        Non-Null Count  Dtype  \n",
      "---  ------        --------------  -----  \n",
      " 0   PID           9 non-null      int64  \n",
      " 1   ST_NUM        9 non-null      float64\n",
      " 2   ST_NAME       9 non-null      object \n",
      " 3   OWN_OCCUPIED  9 non-null      object \n",
      " 4   NUM_BEDROOMS  9 non-null      float64\n",
      " 5   NUM_BATH      9 non-null      float64\n",
      " 6   SQ_FT         9 non-null      int64  \n",
      "dtypes: float64(3), int64(2), object(2)\n",
      "memory usage: 636.0+ bytes\n"
     ]
    }
   ],
   "source": [
    "df_missing.info()"
   ]
  },
  {
   "cell_type": "markdown",
   "id": "9162362c-8dae-46f9-88fd-d4df2bfb7766",
   "metadata": {},
   "source": [
    "### Apply a function to a column"
   ]
  },
  {
   "cell_type": "code",
   "execution_count": 83,
   "id": "a2d64a33-ddc4-4e21-a744-cfd9cc5db55d",
   "metadata": {},
   "outputs": [
    {
     "data": {
      "text/html": [
       "<div>\n",
       "<style scoped>\n",
       "    .dataframe tbody tr th:only-of-type {\n",
       "        vertical-align: middle;\n",
       "    }\n",
       "\n",
       "    .dataframe tbody tr th {\n",
       "        vertical-align: top;\n",
       "    }\n",
       "\n",
       "    .dataframe thead th {\n",
       "        text-align: right;\n",
       "    }\n",
       "</style>\n",
       "<table border=\"1\" class=\"dataframe\">\n",
       "  <thead>\n",
       "    <tr style=\"text-align: right;\">\n",
       "      <th></th>\n",
       "      <th>PID</th>\n",
       "      <th>ST_NUM</th>\n",
       "      <th>ST_NAME</th>\n",
       "      <th>OWN_OCCUPIED</th>\n",
       "      <th>NUM_BEDROOMS</th>\n",
       "      <th>NUM_BATH</th>\n",
       "      <th>SQ_FT</th>\n",
       "    </tr>\n",
       "  </thead>\n",
       "  <tbody>\n",
       "    <tr>\n",
       "      <th>0</th>\n",
       "      <td>100001000</td>\n",
       "      <td>104</td>\n",
       "      <td>PUTNAM</td>\n",
       "      <td>Y</td>\n",
       "      <td>3</td>\n",
       "      <td>1</td>\n",
       "      <td>1000</td>\n",
       "    </tr>\n",
       "    <tr>\n",
       "      <th>1</th>\n",
       "      <td>100002000</td>\n",
       "      <td>197</td>\n",
       "      <td>LEXINGTON</td>\n",
       "      <td>N</td>\n",
       "      <td>3</td>\n",
       "      <td>1</td>\n",
       "      <td>1200</td>\n",
       "    </tr>\n",
       "    <tr>\n",
       "      <th>2</th>\n",
       "      <td>100003000</td>\n",
       "      <td>205</td>\n",
       "      <td>LEXINGTON</td>\n",
       "      <td>N</td>\n",
       "      <td>2</td>\n",
       "      <td>1</td>\n",
       "      <td>850</td>\n",
       "    </tr>\n",
       "    <tr>\n",
       "      <th>3</th>\n",
       "      <td>100004000</td>\n",
       "      <td>201</td>\n",
       "      <td>BERKELEY</td>\n",
       "      <td>Y</td>\n",
       "      <td>1</td>\n",
       "      <td>1</td>\n",
       "      <td>700</td>\n",
       "    </tr>\n",
       "    <tr>\n",
       "      <th>4</th>\n",
       "      <td>100005000</td>\n",
       "      <td>203</td>\n",
       "      <td>BERKELEY</td>\n",
       "      <td>Y</td>\n",
       "      <td>3</td>\n",
       "      <td>2</td>\n",
       "      <td>1600</td>\n",
       "    </tr>\n",
       "    <tr>\n",
       "      <th>5</th>\n",
       "      <td>100006000</td>\n",
       "      <td>207</td>\n",
       "      <td>BERKELEY</td>\n",
       "      <td>Y</td>\n",
       "      <td>2</td>\n",
       "      <td>1</td>\n",
       "      <td>800</td>\n",
       "    </tr>\n",
       "    <tr>\n",
       "      <th>6</th>\n",
       "      <td>100007000</td>\n",
       "      <td>193</td>\n",
       "      <td>WASHINGTON</td>\n",
       "      <td>N</td>\n",
       "      <td>2</td>\n",
       "      <td>1</td>\n",
       "      <td>950</td>\n",
       "    </tr>\n",
       "    <tr>\n",
       "      <th>7</th>\n",
       "      <td>100008000</td>\n",
       "      <td>213</td>\n",
       "      <td>TREMONT</td>\n",
       "      <td>Y</td>\n",
       "      <td>1</td>\n",
       "      <td>1</td>\n",
       "      <td>1000</td>\n",
       "    </tr>\n",
       "    <tr>\n",
       "      <th>8</th>\n",
       "      <td>100009000</td>\n",
       "      <td>215</td>\n",
       "      <td>TREMONT</td>\n",
       "      <td>Y</td>\n",
       "      <td>2</td>\n",
       "      <td>2</td>\n",
       "      <td>1800</td>\n",
       "    </tr>\n",
       "  </tbody>\n",
       "</table>\n",
       "</div>"
      ],
      "text/plain": [
       "         PID  ST_NUM     ST_NAME OWN_OCCUPIED  NUM_BEDROOMS  NUM_BATH  SQ_FT\n",
       "0  100001000     104      PUTNAM            Y             3         1   1000\n",
       "1  100002000     197   LEXINGTON            N             3         1   1200\n",
       "2  100003000     205   LEXINGTON            N             2         1    850\n",
       "3  100004000     201    BERKELEY            Y             1         1    700\n",
       "4  100005000     203    BERKELEY            Y             3         2   1600\n",
       "5  100006000     207    BERKELEY            Y             2         1    800\n",
       "6  100007000     193  WASHINGTON            N             2         1    950\n",
       "7  100008000     213     TREMONT            Y             1         1   1000\n",
       "8  100009000     215     TREMONT            Y             2         2   1800"
      ]
     },
     "execution_count": 83,
     "metadata": {},
     "output_type": "execute_result"
    }
   ],
   "source": [
    "def convert_to_integer(number):\n",
    "    return int(number)\n",
    "    \n",
    "df_missing['ST_NUM'] = df_missing['ST_NUM'].apply(convert_to_integer)\n",
    "df_missing['NUM_BEDROOMS'] = df_missing['NUM_BEDROOMS'].apply(convert_to_integer)\n",
    "df_missing['NUM_BATH'] = df_missing['NUM_BATH'].apply(convert_to_integer)\n",
    "\n",
    "df_missing.head(10)"
   ]
  },
  {
   "cell_type": "markdown",
   "id": "40eeee36-c7b9-4c0a-ad21-151c54586375",
   "metadata": {},
   "source": [
    "### Change column names"
   ]
  },
  {
   "cell_type": "code",
   "execution_count": 84,
   "id": "40579ec4-26c5-404c-b819-2af7b851d081",
   "metadata": {},
   "outputs": [
    {
     "data": {
      "text/html": [
       "<div>\n",
       "<style scoped>\n",
       "    .dataframe tbody tr th:only-of-type {\n",
       "        vertical-align: middle;\n",
       "    }\n",
       "\n",
       "    .dataframe tbody tr th {\n",
       "        vertical-align: top;\n",
       "    }\n",
       "\n",
       "    .dataframe thead th {\n",
       "        text-align: right;\n",
       "    }\n",
       "</style>\n",
       "<table border=\"1\" class=\"dataframe\">\n",
       "  <thead>\n",
       "    <tr style=\"text-align: right;\">\n",
       "      <th></th>\n",
       "      <th>Properity ID</th>\n",
       "      <th>Street number</th>\n",
       "      <th>Street name</th>\n",
       "      <th>Occupied</th>\n",
       "      <th>Bedrooms</th>\n",
       "      <th>Bathrooms</th>\n",
       "      <th>Sqaure feet</th>\n",
       "    </tr>\n",
       "  </thead>\n",
       "  <tbody>\n",
       "    <tr>\n",
       "      <th>0</th>\n",
       "      <td>100001000</td>\n",
       "      <td>104</td>\n",
       "      <td>PUTNAM</td>\n",
       "      <td>Y</td>\n",
       "      <td>3</td>\n",
       "      <td>1</td>\n",
       "      <td>1000</td>\n",
       "    </tr>\n",
       "    <tr>\n",
       "      <th>1</th>\n",
       "      <td>100002000</td>\n",
       "      <td>197</td>\n",
       "      <td>LEXINGTON</td>\n",
       "      <td>N</td>\n",
       "      <td>3</td>\n",
       "      <td>1</td>\n",
       "      <td>1200</td>\n",
       "    </tr>\n",
       "    <tr>\n",
       "      <th>2</th>\n",
       "      <td>100003000</td>\n",
       "      <td>205</td>\n",
       "      <td>LEXINGTON</td>\n",
       "      <td>N</td>\n",
       "      <td>2</td>\n",
       "      <td>1</td>\n",
       "      <td>850</td>\n",
       "    </tr>\n",
       "    <tr>\n",
       "      <th>3</th>\n",
       "      <td>100004000</td>\n",
       "      <td>201</td>\n",
       "      <td>BERKELEY</td>\n",
       "      <td>Y</td>\n",
       "      <td>1</td>\n",
       "      <td>1</td>\n",
       "      <td>700</td>\n",
       "    </tr>\n",
       "    <tr>\n",
       "      <th>4</th>\n",
       "      <td>100005000</td>\n",
       "      <td>203</td>\n",
       "      <td>BERKELEY</td>\n",
       "      <td>Y</td>\n",
       "      <td>3</td>\n",
       "      <td>2</td>\n",
       "      <td>1600</td>\n",
       "    </tr>\n",
       "    <tr>\n",
       "      <th>5</th>\n",
       "      <td>100006000</td>\n",
       "      <td>207</td>\n",
       "      <td>BERKELEY</td>\n",
       "      <td>Y</td>\n",
       "      <td>2</td>\n",
       "      <td>1</td>\n",
       "      <td>800</td>\n",
       "    </tr>\n",
       "    <tr>\n",
       "      <th>6</th>\n",
       "      <td>100007000</td>\n",
       "      <td>193</td>\n",
       "      <td>WASHINGTON</td>\n",
       "      <td>N</td>\n",
       "      <td>2</td>\n",
       "      <td>1</td>\n",
       "      <td>950</td>\n",
       "    </tr>\n",
       "    <tr>\n",
       "      <th>7</th>\n",
       "      <td>100008000</td>\n",
       "      <td>213</td>\n",
       "      <td>TREMONT</td>\n",
       "      <td>Y</td>\n",
       "      <td>1</td>\n",
       "      <td>1</td>\n",
       "      <td>1000</td>\n",
       "    </tr>\n",
       "    <tr>\n",
       "      <th>8</th>\n",
       "      <td>100009000</td>\n",
       "      <td>215</td>\n",
       "      <td>TREMONT</td>\n",
       "      <td>Y</td>\n",
       "      <td>2</td>\n",
       "      <td>2</td>\n",
       "      <td>1800</td>\n",
       "    </tr>\n",
       "  </tbody>\n",
       "</table>\n",
       "</div>"
      ],
      "text/plain": [
       "   Properity ID  Street number Street name Occupied  Bedrooms  Bathrooms  \\\n",
       "0     100001000            104      PUTNAM        Y         3          1   \n",
       "1     100002000            197   LEXINGTON        N         3          1   \n",
       "2     100003000            205   LEXINGTON        N         2          1   \n",
       "3     100004000            201    BERKELEY        Y         1          1   \n",
       "4     100005000            203    BERKELEY        Y         3          2   \n",
       "5     100006000            207    BERKELEY        Y         2          1   \n",
       "6     100007000            193  WASHINGTON        N         2          1   \n",
       "7     100008000            213     TREMONT        Y         1          1   \n",
       "8     100009000            215     TREMONT        Y         2          2   \n",
       "\n",
       "   Sqaure feet  \n",
       "0         1000  \n",
       "1         1200  \n",
       "2          850  \n",
       "3          700  \n",
       "4         1600  \n",
       "5          800  \n",
       "6          950  \n",
       "7         1000  \n",
       "8         1800  "
      ]
     },
     "execution_count": 84,
     "metadata": {},
     "output_type": "execute_result"
    }
   ],
   "source": [
    "# keys: old column names\n",
    "# values: new column names\n",
    "new_names = {\n",
    "    'PID': 'Properity ID',\n",
    "    'ST_NUM': 'Street number',\n",
    "    'ST_NAME': 'Street name',\n",
    "    'OWN_OCCUPIED': 'Occupied',\n",
    "    'NUM_BEDROOMS': 'Bedrooms',\n",
    "    'NUM_BATH': 'Bathrooms',\n",
    "    'SQ_FT': 'Sqaure feet',\n",
    "}\n",
    "\n",
    "df_missing = df_missing.rename(columns=new_names)\n",
    "df_missing"
   ]
  },
  {
   "cell_type": "markdown",
   "id": "ca369c8a-f69e-4afd-80ec-3e44d200aff2",
   "metadata": {},
   "source": [
    "#### Condition based select"
   ]
  },
  {
   "cell_type": "code",
   "execution_count": 85,
   "id": "952f3c17-2ceb-432a-b0d9-392071e8a50c",
   "metadata": {},
   "outputs": [
    {
     "data": {
      "text/html": [
       "<div>\n",
       "<style scoped>\n",
       "    .dataframe tbody tr th:only-of-type {\n",
       "        vertical-align: middle;\n",
       "    }\n",
       "\n",
       "    .dataframe tbody tr th {\n",
       "        vertical-align: top;\n",
       "    }\n",
       "\n",
       "    .dataframe thead th {\n",
       "        text-align: right;\n",
       "    }\n",
       "</style>\n",
       "<table border=\"1\" class=\"dataframe\">\n",
       "  <thead>\n",
       "    <tr style=\"text-align: right;\">\n",
       "      <th></th>\n",
       "      <th>Properity ID</th>\n",
       "      <th>Street number</th>\n",
       "      <th>Street name</th>\n",
       "      <th>Occupied</th>\n",
       "      <th>Bedrooms</th>\n",
       "      <th>Bathrooms</th>\n",
       "      <th>Sqaure feet</th>\n",
       "    </tr>\n",
       "  </thead>\n",
       "  <tbody>\n",
       "    <tr>\n",
       "      <th>0</th>\n",
       "      <td>100001000</td>\n",
       "      <td>104</td>\n",
       "      <td>PUTNAM</td>\n",
       "      <td>Y</td>\n",
       "      <td>3</td>\n",
       "      <td>1</td>\n",
       "      <td>1000</td>\n",
       "    </tr>\n",
       "    <tr>\n",
       "      <th>1</th>\n",
       "      <td>100002000</td>\n",
       "      <td>197</td>\n",
       "      <td>LEXINGTON</td>\n",
       "      <td>N</td>\n",
       "      <td>3</td>\n",
       "      <td>1</td>\n",
       "      <td>1200</td>\n",
       "    </tr>\n",
       "    <tr>\n",
       "      <th>2</th>\n",
       "      <td>100003000</td>\n",
       "      <td>205</td>\n",
       "      <td>LEXINGTON</td>\n",
       "      <td>N</td>\n",
       "      <td>2</td>\n",
       "      <td>1</td>\n",
       "      <td>850</td>\n",
       "    </tr>\n",
       "    <tr>\n",
       "      <th>4</th>\n",
       "      <td>100005000</td>\n",
       "      <td>203</td>\n",
       "      <td>BERKELEY</td>\n",
       "      <td>Y</td>\n",
       "      <td>3</td>\n",
       "      <td>2</td>\n",
       "      <td>1600</td>\n",
       "    </tr>\n",
       "    <tr>\n",
       "      <th>5</th>\n",
       "      <td>100006000</td>\n",
       "      <td>207</td>\n",
       "      <td>BERKELEY</td>\n",
       "      <td>Y</td>\n",
       "      <td>2</td>\n",
       "      <td>1</td>\n",
       "      <td>800</td>\n",
       "    </tr>\n",
       "    <tr>\n",
       "      <th>6</th>\n",
       "      <td>100007000</td>\n",
       "      <td>193</td>\n",
       "      <td>WASHINGTON</td>\n",
       "      <td>N</td>\n",
       "      <td>2</td>\n",
       "      <td>1</td>\n",
       "      <td>950</td>\n",
       "    </tr>\n",
       "    <tr>\n",
       "      <th>8</th>\n",
       "      <td>100009000</td>\n",
       "      <td>215</td>\n",
       "      <td>TREMONT</td>\n",
       "      <td>Y</td>\n",
       "      <td>2</td>\n",
       "      <td>2</td>\n",
       "      <td>1800</td>\n",
       "    </tr>\n",
       "  </tbody>\n",
       "</table>\n",
       "</div>"
      ],
      "text/plain": [
       "   Properity ID  Street number Street name Occupied  Bedrooms  Bathrooms  \\\n",
       "0     100001000            104      PUTNAM        Y         3          1   \n",
       "1     100002000            197   LEXINGTON        N         3          1   \n",
       "2     100003000            205   LEXINGTON        N         2          1   \n",
       "4     100005000            203    BERKELEY        Y         3          2   \n",
       "5     100006000            207    BERKELEY        Y         2          1   \n",
       "6     100007000            193  WASHINGTON        N         2          1   \n",
       "8     100009000            215     TREMONT        Y         2          2   \n",
       "\n",
       "   Sqaure feet  \n",
       "0         1000  \n",
       "1         1200  \n",
       "2          850  \n",
       "4         1600  \n",
       "5          800  \n",
       "6          950  \n",
       "8         1800  "
      ]
     },
     "execution_count": 85,
     "metadata": {},
     "output_type": "execute_result"
    }
   ],
   "source": [
    "df_missing[df_missing['Bedrooms'] >= 2]"
   ]
  },
  {
   "cell_type": "code",
   "execution_count": 86,
   "id": "292a02d1-3afa-49ce-9944-77403a04db29",
   "metadata": {},
   "outputs": [
    {
     "data": {
      "text/html": [
       "<div>\n",
       "<style scoped>\n",
       "    .dataframe tbody tr th:only-of-type {\n",
       "        vertical-align: middle;\n",
       "    }\n",
       "\n",
       "    .dataframe tbody tr th {\n",
       "        vertical-align: top;\n",
       "    }\n",
       "\n",
       "    .dataframe thead th {\n",
       "        text-align: right;\n",
       "    }\n",
       "</style>\n",
       "<table border=\"1\" class=\"dataframe\">\n",
       "  <thead>\n",
       "    <tr style=\"text-align: right;\">\n",
       "      <th></th>\n",
       "      <th>Properity ID</th>\n",
       "      <th>Street number</th>\n",
       "      <th>Street name</th>\n",
       "      <th>Occupied</th>\n",
       "      <th>Bedrooms</th>\n",
       "      <th>Bathrooms</th>\n",
       "      <th>Sqaure feet</th>\n",
       "    </tr>\n",
       "  </thead>\n",
       "  <tbody>\n",
       "    <tr>\n",
       "      <th>0</th>\n",
       "      <td>100001000</td>\n",
       "      <td>104</td>\n",
       "      <td>PUTNAM</td>\n",
       "      <td>Y</td>\n",
       "      <td>3</td>\n",
       "      <td>1</td>\n",
       "      <td>1000</td>\n",
       "    </tr>\n",
       "    <tr>\n",
       "      <th>1</th>\n",
       "      <td>100002000</td>\n",
       "      <td>197</td>\n",
       "      <td>LEXINGTON</td>\n",
       "      <td>N</td>\n",
       "      <td>3</td>\n",
       "      <td>1</td>\n",
       "      <td>1200</td>\n",
       "    </tr>\n",
       "    <tr>\n",
       "      <th>4</th>\n",
       "      <td>100005000</td>\n",
       "      <td>203</td>\n",
       "      <td>BERKELEY</td>\n",
       "      <td>Y</td>\n",
       "      <td>3</td>\n",
       "      <td>2</td>\n",
       "      <td>1600</td>\n",
       "    </tr>\n",
       "    <tr>\n",
       "      <th>8</th>\n",
       "      <td>100009000</td>\n",
       "      <td>215</td>\n",
       "      <td>TREMONT</td>\n",
       "      <td>Y</td>\n",
       "      <td>2</td>\n",
       "      <td>2</td>\n",
       "      <td>1800</td>\n",
       "    </tr>\n",
       "  </tbody>\n",
       "</table>\n",
       "</div>"
      ],
      "text/plain": [
       "   Properity ID  Street number Street name Occupied  Bedrooms  Bathrooms  \\\n",
       "0     100001000            104      PUTNAM        Y         3          1   \n",
       "1     100002000            197   LEXINGTON        N         3          1   \n",
       "4     100005000            203    BERKELEY        Y         3          2   \n",
       "8     100009000            215     TREMONT        Y         2          2   \n",
       "\n",
       "   Sqaure feet  \n",
       "0         1000  \n",
       "1         1200  \n",
       "4         1600  \n",
       "8         1800  "
      ]
     },
     "execution_count": 86,
     "metadata": {},
     "output_type": "execute_result"
    }
   ],
   "source": [
    "# & means AND\n",
    "df_missing[(df_missing['Bedrooms'] >= 2) & (df_missing['Sqaure feet'] >= 1000)]"
   ]
  },
  {
   "cell_type": "markdown",
   "id": "586e91d2-8a69-4cdb-9b38-b893d7890023",
   "metadata": {},
   "source": [
    "### Save dataframe as a file"
   ]
  },
  {
   "cell_type": "code",
   "execution_count": 87,
   "id": "7f683771-ef88-468f-899e-fb9ca6186721",
   "metadata": {},
   "outputs": [],
   "source": [
    "df_missing.to_csv('properity_data_cleaned.csv', index=False)"
   ]
  },
  {
   "cell_type": "markdown",
   "id": "92393e14-6466-4430-82ab-547c5376542d",
   "metadata": {},
   "source": [
    "# Data Visualization with matplotlib\n",
    "* matplotlib is a fundemental and powerful plotting library\n",
    "* **See all examples:** https://matplotlib.org/stable/gallery/index.html\n",
    "* See other plotting libraries also: \n",
    "    * **seaborn:** usually better for statistical visualizations\n",
    "        * https://seaborn.pydata.org/\n",
    "    * **bokeh:** usually better for interactive visualizations\n",
    "        * https://bokeh.org/ \n",
    "        \n",
    "* If you're comfortable with Javascript:\n",
    "    * D3.js\n",
    "        * https://d3js.org/\n",
    "    * vis.js\n",
    "        * https://visjs.org/"
   ]
  },
  {
   "cell_type": "code",
   "execution_count": 88,
   "id": "cef23229-1c55-44a4-b976-e075195415f6",
   "metadata": {},
   "outputs": [],
   "source": [
    "# Uncomment below to install matplotlib\n",
    "#!pip install matplotlib"
   ]
  },
  {
   "cell_type": "code",
   "execution_count": 89,
   "id": "8452a63b-54ae-4779-9dc6-e93756fd3849",
   "metadata": {},
   "outputs": [],
   "source": [
    "import matplotlib.pyplot as plt"
   ]
  },
  {
   "cell_type": "code",
   "execution_count": 90,
   "id": "4d461551-b6e1-4ba5-9df6-b189599ddc5c",
   "metadata": {},
   "outputs": [
    {
     "data": {
      "text/plain": [
       "[<matplotlib.lines.Line2D at 0x7f46ce9d2c50>]"
      ]
     },
     "execution_count": 90,
     "metadata": {},
     "output_type": "execute_result"
    },
    {
     "data": {
      "image/png": "[encoded data removed]",
      "text/plain": [
       "<Figure size 600x400 with 1 Axes>"
      ]
     },
     "metadata": {},
     "output_type": "display_data"
    }
   ],
   "source": [
    "# Generate 1000 numbers from 0 to 10\n",
    "x = np.linspace(0, 10, 1000)\n",
    "y = np.sin(x)\n",
    "\n",
    "# Size of the plot\n",
    "plt.figure(figsize=(6, 4))\n",
    "# Main title\n",
    "plt.title('Sine plot')\n",
    "# Title of the x axis\n",
    "plt.xlabel('Time')\n",
    "# Title of the y axis\n",
    "plt.ylabel('Amplitude')\n",
    "# Show grid lines\n",
    "plt.grid('on')\n",
    "# Plot the data\n",
    "plt.plot(x, y)"
   ]
  },
  {
   "cell_type": "markdown",
   "id": "06418c49-6705-4c0e-9f0a-006151eeeda5",
   "metadata": {},
   "source": [
    "### Two plots on top of each other"
   ]
  },
  {
   "cell_type": "code",
   "execution_count": 91,
   "id": "ee9fa3d9-e0ed-47f9-9900-a162ec0ce62e",
   "metadata": {},
   "outputs": [
    {
     "data": {
      "text/plain": [
       "Text(0, 0.5, 'Amplitude')"
      ]
     },
     "execution_count": 91,
     "metadata": {},
     "output_type": "execute_result"
    },
    {
     "data": {
      "image/png": "[encoded data removed]",
      "text/plain": [
       "<Figure size 640x480 with 1 Axes>"
      ]
     },
     "metadata": {},
     "output_type": "display_data"
    }
   ],
   "source": [
    "plt.plot(x, y, color='b') # blue\n",
    "plt.plot(x, np.cos(x), color='g') # green\n",
    "plt.title('Two Plots on Top')\n",
    "plt.xlabel('Time')\n",
    "plt.ylabel('Amplitude')"
   ]
  },
  {
   "cell_type": "markdown",
   "id": "8717c229-4738-40c2-9c73-c6080247bce3",
   "metadata": {},
   "source": [
    "### Different ploting styles"
   ]
  },
  {
   "cell_type": "code",
   "execution_count": 92,
   "id": "8de34fcf-dea3-495c-a226-b4a0d2356249",
   "metadata": {},
   "outputs": [
    {
     "data": {
      "text/plain": [
       "Text(0, 0.5, 'Amplitude')"
      ]
     },
     "execution_count": 92,
     "metadata": {},
     "output_type": "execute_result"
    },
    {
     "data": {
      "image/png": "[encoded data removed]",
      "text/plain": [
       "<Figure size 640x480 with 1 Axes>"
      ]
     },
     "metadata": {},
     "output_type": "display_data"
    }
   ],
   "source": [
    "# Generate 50 numbers from 0 to 10\n",
    "x = np.linspace(0, 10, 50)\n",
    "y = np.sin(x)\n",
    "\n",
    "# Plot as dots\n",
    "plt.scatter(x, y)\n",
    "plt.title('Scatter Plot')\n",
    "plt.xlabel('Time')\n",
    "plt.ylabel('Amplitude')"
   ]
  },
  {
   "cell_type": "markdown",
   "id": "e90cdb82-f54a-4ff7-b700-3abe1a95adf3",
   "metadata": {},
   "source": [
    "## Sine wave with frequency\n",
    "#### Note: In markdown mode, you can write latex equations\n",
    "\n",
    "$ y =sin(2*\\pi*f*t) $"
   ]
  },
  {
   "cell_type": "code",
   "execution_count": 93,
   "id": "534d7c0d-41d0-4afd-a080-8b62e236b045",
   "metadata": {},
   "outputs": [
    {
     "data": {
      "text/plain": [
       "[<matplotlib.lines.Line2D at 0x7f46cc427010>]"
      ]
     },
     "execution_count": 93,
     "metadata": {},
     "output_type": "execute_result"
    },
    {
     "data": {
      "image/png": "[encoded data removed]",
      "text/plain": [
       "<Figure size 640x480 with 1 Axes>"
      ]
     },
     "metadata": {},
     "output_type": "display_data"
    }
   ],
   "source": [
    "x = np.linspace(0, 10, 500)\n",
    "frequency = 1\n",
    "\n",
    "# 2*pi*f*t\n",
    "y = np.sin(2 * np.pi * frequency * x)\n",
    "\n",
    "# Completes 9 cycles (remember 10 is not included)\n",
    "plt.plot(x, y)"
   ]
  },
  {
   "cell_type": "markdown",
   "id": "025db4b4-cd19-4497-bd32-833a148a0457",
   "metadata": {},
   "source": [
    "### Change Figure Size"
   ]
  },
  {
   "cell_type": "code",
   "execution_count": 94,
   "id": "384d9fde-e589-419d-adf2-a31766f1ba07",
   "metadata": {},
   "outputs": [
    {
     "data": {
      "text/plain": [
       "[<matplotlib.lines.Line2D at 0x7f46cc2bcd10>]"
      ]
     },
     "execution_count": 94,
     "metadata": {},
     "output_type": "execute_result"
    },
    {
     "data": {
      "image/png": "[encoded data removed]",
      "text/plain": [
       "<Figure size 1000x600 with 1 Axes>"
      ]
     },
     "metadata": {},
     "output_type": "display_data"
    }
   ],
   "source": [
    "# (plot size of x, plot size of y)\n",
    "# NOTE: call figure() before calling plot()\n",
    "plt.figure(figsize=(10, 6))\n",
    "plt.plot(x, y)"
   ]
  },
  {
   "cell_type": "markdown",
   "id": "67815ce7-9c55-4cef-89c7-dc2e2b1e9bb9",
   "metadata": {},
   "source": [
    "## Plotting with pandas"
   ]
  },
  {
   "cell_type": "code",
   "execution_count": 95,
   "id": "682c3920-2878-4a4b-af4a-db26310f5d79",
   "metadata": {},
   "outputs": [
    {
     "data": {
      "text/plain": [
       "['fixed acidity',\n",
       " 'volatile acidity',\n",
       " 'citric acid',\n",
       " 'residual sugar',\n",
       " 'chlorides',\n",
       " 'free sulfur dioxide',\n",
       " 'total sulfur dioxide',\n",
       " 'density',\n",
       " 'pH',\n",
       " 'sulphates',\n",
       " 'alcohol',\n",
       " 'quality']"
      ]
     },
     "execution_count": 95,
     "metadata": {},
     "output_type": "execute_result"
    }
   ],
   "source": [
    "df = pd.read_csv('winequality-red.csv', delimiter=';')\n",
    "list(df.columns)"
   ]
  },
  {
   "cell_type": "code",
   "execution_count": 96,
   "id": "1ce7d4b9-2ad2-49ca-85ae-3288bef629c3",
   "metadata": {},
   "outputs": [
    {
     "data": {
      "text/plain": [
       "<Axes: >"
      ]
     },
     "execution_count": 96,
     "metadata": {},
     "output_type": "execute_result"
    },
    {
     "data": {
      "image/png": "[encoded data removed]",
      "text/plain": [
       "<Figure size 700x500 with 1 Axes>"
      ]
     },
     "metadata": {},
     "output_type": "display_data"
    }
   ],
   "source": [
    "df['fixed acidity'].hist(figsize=(7, 5), bins=50)"
   ]
  },
  {
   "cell_type": "code",
   "execution_count": 97,
   "id": "11e8932f-9463-40d0-870d-73f83903e341",
   "metadata": {},
   "outputs": [
    {
     "data": {
      "text/plain": [
       "<Axes: xlabel='fixed acidity', ylabel='volatile acidity'>"
      ]
     },
     "execution_count": 97,
     "metadata": {},
     "output_type": "execute_result"
    },
    {
     "data": {
      "image/png": "[encoded data removed]",
      "text/plain": [
       "<Figure size 700x500 with 1 Axes>"
      ]
     },
     "metadata": {},
     "output_type": "display_data"
    }
   ],
   "source": [
    "# Note that xlabel and ylabel is automatic\n",
    "df.plot.scatter(x='fixed acidity', y='volatile acidity', figsize=(7, 5), grid='on')"
   ]
  },
  {
   "cell_type": "markdown",
   "id": "8ffae78f-33fb-4770-a24e-06a31be3df24",
   "metadata": {},
   "source": [
    "#### The same above with matplotlib"
   ]
  },
  {
   "cell_type": "code",
   "execution_count": 98,
   "id": "7e18d84d-e035-40a3-888e-bd22c155b394",
   "metadata": {},
   "outputs": [
    {
     "data": {
      "image/png": "[encoded data removed]",
      "text/plain": [
       "<Figure size 700x500 with 1 Axes>"
      ]
     },
     "metadata": {},
     "output_type": "display_data"
    }
   ],
   "source": [
    "plt.figure(figsize=(7, 5))\n",
    "# select x, y from columns from df\n",
    "plt.scatter(df['fixed acidity'], df['volatile acidity'])\n",
    "plt.xlabel('fixed acidity')\n",
    "plt.ylabel('volatile acidity')\n",
    "plt.grid('on')"
   ]
  },
  {
   "cell_type": "markdown",
   "id": "fb2cd7d0-1009-4ae3-83fa-d8c9f3c94bf8",
   "metadata": {},
   "source": [
    "## Plotting with different styles"
   ]
  },
  {
   "cell_type": "code",
   "execution_count": 99,
   "id": "bf578bdc-70c4-44a7-ab6c-eaed7cb8e27e",
   "metadata": {},
   "outputs": [
    {
     "name": "stdout",
     "output_type": "stream",
     "text": [
      "['Solarize_Light2', '_classic_test_patch', '_mpl-gallery', '_mpl-gallery-nogrid', 'bmh', 'classic', 'dark_background', 'fast', 'fivethirtyeight', 'ggplot', 'grayscale', 'seaborn-v0_8', 'seaborn-v0_8-bright', 'seaborn-v0_8-colorblind', 'seaborn-v0_8-dark', 'seaborn-v0_8-dark-palette', 'seaborn-v0_8-darkgrid', 'seaborn-v0_8-deep', 'seaborn-v0_8-muted', 'seaborn-v0_8-notebook', 'seaborn-v0_8-paper', 'seaborn-v0_8-pastel', 'seaborn-v0_8-poster', 'seaborn-v0_8-talk', 'seaborn-v0_8-ticks', 'seaborn-v0_8-white', 'seaborn-v0_8-whitegrid', 'tableau-colorblind10']\n"
     ]
    }
   ],
   "source": [
    "print(plt.style.available)"
   ]
  },
  {
   "cell_type": "markdown",
   "id": "4a3f53bf-9bd9-4fb5-816b-bf3e43832e6c",
   "metadata": {},
   "source": [
    "#### Same plot with **ggplot** style"
   ]
  },
  {
   "cell_type": "code",
   "execution_count": 100,
   "id": "182e4dd4-36b9-4714-b89e-0b346c6ffd17",
   "metadata": {},
   "outputs": [
    {
     "data": {
      "image/png": "[encoded data removed]",
      "text/plain": [
       "<Figure size 700x500 with 1 Axes>"
      ]
     },
     "metadata": {},
     "output_type": "display_data"
    }
   ],
   "source": [
    "# NOTE: this style may not be available in your environment, check available styles\n",
    "plt.style.use('ggplot')\n",
    "\n",
    "plt.figure(figsize=(7, 5))\n",
    "# select x, y from columns from df\n",
    "plt.scatter(df['fixed acidity'], df['volatile acidity'])\n",
    "plt.xlabel('fixed acidity')\n",
    "plt.ylabel('volatile acidity')\n",
    "plt.grid('on')"
   ]
  },
  {
   "cell_type": "markdown",
   "id": "e96887d5-00b8-434e-b8d5-47a1313e0307",
   "metadata": {},
   "source": [
    "#### Same plot with **seaborn-white** style"
   ]
  },
  {
   "cell_type": "code",
   "execution_count": 101,
   "id": "2f9d1333-520a-4536-a311-c8ef01e43237",
   "metadata": {},
   "outputs": [
    {
     "data": {
      "image/png": "[encoded data removed]",
      "text/plain": [
       "<Figure size 700x500 with 1 Axes>"
      ]
     },
     "metadata": {},
     "output_type": "display_data"
    }
   ],
   "source": [
    "# NOTE: this style may not be available in your environment, check available styles\n",
    "plt.style.use('dark_background')\n",
    "\n",
    "plt.figure(figsize=(7, 5))\n",
    "# select x, y from columns from df\n",
    "plt.scatter(df['fixed acidity'], df['volatile acidity'])\n",
    "plt.xlabel('fixed acidity')\n",
    "plt.ylabel('volatile acidity')\n",
    "plt.grid('on')"
   ]
  },
  {
   "cell_type": "code",
   "execution_count": null,
   "id": "a229e831-5fec-4cbf-b83e-b300897e450f",
   "metadata": {},
   "outputs": [],
   "source": []
  }
 ],
 "metadata": {
  "kernelspec": {
   "display_name": "Python [conda env:pytorch] *",
   "language": "python",
   "name": "conda-env-pytorch-py"
  },
  "language_info": {
   "codemirror_mode": {
    "name": "ipython",
    "version": 3
   },
   "file_extension": ".py",
   "mimetype": "text/x-python",
   "name": "python",
   "nbconvert_exporter": "python",
   "pygments_lexer": "ipython3",
   "version": "3.11.5"
  }
 },
 "nbformat": 4,
 "nbformat_minor": 5
}
