{
 "cells": [
  {
   "cell_type": "markdown",
   "id": "05383669-5060-4026-a09c-ca6258d34c1e",
   "metadata": {},
   "source": [
    "# Artificial Intelligence I: Introduction to Data Science and Machine Learning\n",
    "# Chapter 1: Python Fundementals"
   ]
  },
  {
   "cell_type": "markdown",
   "id": "13645a0a-d9c8-48a0-9ffd-4a3903e80f2a",
   "metadata": {
    "editable": true,
    "slideshow": {
     "slide_type": ""
    },
    "tags": []
   },
   "source": [
    "### This is a notebook, contains three types of cells: code, markdown, raw\n",
    "* Code cell: Python code\n",
    "* Markdown cell: explainations and taking notes\n",
    "    * https://github.com/adam-p/markdown-here/wiki/Markdown-Cheatsheet\n",
    "* Raw cell: not evaluated by the notebook\n",
    "    * can be used to disable a cell\n",
    "    * sometimes can be useful for HTML and LaTeX output\n",
    "#### Press shift + enter to execute a cell"
   ]
  },
  {
   "cell_type": "code",
   "execution_count": 1,
   "id": "9e318bcd-11bc-489e-a945-6274b454fb70",
   "metadata": {},
   "outputs": [
    {
     "data": {
      "text/plain": [
       "35"
      ]
     },
     "execution_count": 1,
     "metadata": {},
     "output_type": "execute_result"
    }
   ],
   "source": [
    "25 + 10"
   ]
  },
  {
   "cell_type": "code",
   "execution_count": 2,
   "id": "b8a998c0-0e64-4cdf-a00a-ce5315c9ca5b",
   "metadata": {},
   "outputs": [
    {
     "data": {
      "text/plain": [
       "-5"
      ]
     },
     "execution_count": 2,
     "metadata": {},
     "output_type": "execute_result"
    }
   ],
   "source": [
    "5 - 10"
   ]
  },
  {
   "cell_type": "code",
   "execution_count": 3,
   "id": "ff122fc8-2231-4dd3-842d-852b41496376",
   "metadata": {},
   "outputs": [
    {
     "data": {
      "text/plain": [
       "10"
      ]
     },
     "execution_count": 3,
     "metadata": {},
     "output_type": "execute_result"
    }
   ],
   "source": [
    "5 * 2"
   ]
  },
  {
   "cell_type": "code",
   "execution_count": 4,
   "id": "a9717e0d-b279-448f-8c99-2519c38607ec",
   "metadata": {},
   "outputs": [
    {
     "data": {
      "text/plain": [
       "2.5"
      ]
     },
     "execution_count": 4,
     "metadata": {},
     "output_type": "execute_result"
    }
   ],
   "source": [
    "5 / 2"
   ]
  },
  {
   "cell_type": "markdown",
   "id": "372c217a-e03d-4feb-a160-a77e94602eda",
   "metadata": {},
   "source": [
    "Modulus"
   ]
  },
  {
   "cell_type": "code",
   "execution_count": 5,
   "id": "e4d4d156-3518-4e57-82a5-cb486043f307",
   "metadata": {},
   "outputs": [
    {
     "data": {
      "text/plain": [
       "1"
      ]
     },
     "execution_count": 5,
     "metadata": {},
     "output_type": "execute_result"
    }
   ],
   "source": [
    "5 % 2"
   ]
  },
  {
   "cell_type": "markdown",
   "id": "3355c833-a797-4256-985e-c52f4c46fb0a",
   "metadata": {},
   "source": [
    "Power"
   ]
  },
  {
   "cell_type": "code",
   "execution_count": 6,
   "id": "cb0f8e9e-647f-4909-b35b-421e76ca0d35",
   "metadata": {},
   "outputs": [
    {
     "data": {
      "text/plain": [
       "25"
      ]
     },
     "execution_count": 6,
     "metadata": {},
     "output_type": "execute_result"
    }
   ],
   "source": [
    "5 ** 2"
   ]
  },
  {
   "cell_type": "markdown",
   "id": "dea3afc4-5d1d-4525-8b11-5346718e8f16",
   "metadata": {},
   "source": [
    "Floor division"
   ]
  },
  {
   "cell_type": "code",
   "execution_count": 7,
   "id": "f3a27571-5019-44d6-a865-ae8a6dc5aea7",
   "metadata": {},
   "outputs": [
    {
     "data": {
      "text/plain": [
       "2"
      ]
     },
     "execution_count": 7,
     "metadata": {},
     "output_type": "execute_result"
    }
   ],
   "source": [
    "5 // 2"
   ]
  },
  {
   "cell_type": "markdown",
   "id": "da06d60f-3263-4925-8b93-af3ecb5eb2b5",
   "metadata": {},
   "source": [
    "Some built-in functions"
   ]
  },
  {
   "cell_type": "code",
   "execution_count": 8,
   "id": "26ed735f-8d16-4cd3-8c71-1e521815c5c2",
   "metadata": {},
   "outputs": [
    {
     "data": {
      "text/plain": [
       "1"
      ]
     },
     "execution_count": 8,
     "metadata": {},
     "output_type": "execute_result"
    }
   ],
   "source": [
    "abs(-1)"
   ]
  },
  {
   "cell_type": "code",
   "execution_count": 9,
   "id": "42d2c8c9-d305-4bb8-9038-c9796dfbbb6a",
   "metadata": {},
   "outputs": [
    {
     "data": {
      "text/plain": [
       "5"
      ]
     },
     "execution_count": 9,
     "metadata": {},
     "output_type": "execute_result"
    }
   ],
   "source": [
    "max(5, 4)"
   ]
  },
  {
   "cell_type": "code",
   "execution_count": 10,
   "id": "f38c8a0c-ac58-4e02-91b7-3d276b1b5f5d",
   "metadata": {},
   "outputs": [
    {
     "data": {
      "text/plain": [
       "4"
      ]
     },
     "execution_count": 10,
     "metadata": {},
     "output_type": "execute_result"
    }
   ],
   "source": [
    "min(5, 4)"
   ]
  },
  {
   "cell_type": "markdown",
   "id": "ed640766-3082-4aa7-9d4e-d4c6afdfbdc7",
   "metadata": {},
   "source": [
    "##### Closest integer"
   ]
  },
  {
   "cell_type": "code",
   "execution_count": 11,
   "id": "7cfb521d-3b2d-4754-bfcc-4cb7b994533e",
   "metadata": {},
   "outputs": [
    {
     "data": {
      "text/plain": [
       "4"
      ]
     },
     "execution_count": 11,
     "metadata": {},
     "output_type": "execute_result"
    }
   ],
   "source": [
    "round(3.7)"
   ]
  },
  {
   "cell_type": "code",
   "execution_count": 12,
   "id": "9bcdec41-3c31-4e16-be0a-f32e4f4afa45",
   "metadata": {},
   "outputs": [
    {
     "data": {
      "text/plain": [
       "3"
      ]
     },
     "execution_count": 12,
     "metadata": {},
     "output_type": "execute_result"
    }
   ],
   "source": [
    "round(3.2)"
   ]
  },
  {
   "cell_type": "markdown",
   "id": "b5ad17db-0d33-4acd-8b0b-5fb2175bb779",
   "metadata": {},
   "source": [
    "#### Getting documentataion and help\n",
    "#### When parantesis of the function is highlighted, press shift + tab to see documentation"
   ]
  },
  {
   "cell_type": "code",
   "execution_count": 13,
   "id": "2843fcfd-62b0-46fd-adee-de31de256e0d",
   "metadata": {},
   "outputs": [],
   "source": [
    "#max()\n",
    "#abs()"
   ]
  },
  {
   "cell_type": "code",
   "execution_count": 14,
   "id": "1bfeb578-3016-4e30-ab31-dc9e6f62317b",
   "metadata": {},
   "outputs": [
    {
     "data": {
      "text/plain": [
       "\u001b[0;31mDocstring:\u001b[0m\n",
       "max(iterable, *[, default=obj, key=func]) -> value\n",
       "max(arg1, arg2, *args, *[, key=func]) -> value\n",
       "\n",
       "With a single iterable argument, return its biggest item. The\n",
       "default keyword-only argument specifies an object to return if\n",
       "the provided iterable is empty.\n",
       "With two or more arguments, return the largest argument.\n",
       "\u001b[0;31mType:\u001b[0m      builtin_function_or_method"
      ]
     },
     "metadata": {},
     "output_type": "display_data"
    }
   ],
   "source": [
    "max?"
   ]
  },
  {
   "cell_type": "code",
   "execution_count": 15,
   "id": "2cf3ea3b-50bc-4825-838f-fac2cc761299",
   "metadata": {},
   "outputs": [
    {
     "name": "stdout",
     "output_type": "stream",
     "text": [
      "Help on built-in function max in module builtins:\n",
      "\n",
      "max(...)\n",
      "    max(iterable, *[, default=obj, key=func]) -> value\n",
      "    max(arg1, arg2, *args, *[, key=func]) -> value\n",
      "    \n",
      "    With a single iterable argument, return its biggest item. The\n",
      "    default keyword-only argument specifies an object to return if\n",
      "    the provided iterable is empty.\n",
      "    With two or more arguments, return the largest argument.\n",
      "\n"
     ]
    }
   ],
   "source": [
    "help(max)"
   ]
  },
  {
   "cell_type": "markdown",
   "id": "918b6318-27e8-4c63-a103-a73a0bd02f67",
   "metadata": {},
   "source": [
    "Comments"
   ]
  },
  {
   "cell_type": "code",
   "execution_count": 16,
   "id": "50b7097e-f976-433d-89a0-56f460a397a5",
   "metadata": {},
   "outputs": [
    {
     "data": {
      "text/plain": [
       "'\\nAnother multiline comment\\n'"
      ]
     },
     "execution_count": 16,
     "metadata": {},
     "output_type": "execute_result"
    }
   ],
   "source": [
    "# Single line comment\n",
    "# Another single line comment\n",
    "\n",
    "\"\"\"\n",
    "Multiline comment\n",
    "anoher comment\n",
    "...\n",
    "\"\"\"\n",
    "\n",
    "'''\n",
    "Another multiline comment\n",
    "'''"
   ]
  },
  {
   "cell_type": "markdown",
   "id": "33ba1cd9-ce32-400f-8182-71a3e87d4931",
   "metadata": {},
   "source": [
    "#### Variables and assignment\n",
    "* variables are the most basic memory in programming"
   ]
  },
  {
   "cell_type": "code",
   "execution_count": 17,
   "id": "2f80c26e-b9aa-42b9-944f-23e8d8676e23",
   "metadata": {},
   "outputs": [
    {
     "data": {
      "text/plain": [
       "22"
      ]
     },
     "execution_count": 17,
     "metadata": {},
     "output_type": "execute_result"
    }
   ],
   "source": [
    "num = 22\n",
    "num"
   ]
  },
  {
   "cell_type": "code",
   "execution_count": 18,
   "id": "5fee288d-bc6b-417c-ba2f-670305a78a55",
   "metadata": {},
   "outputs": [
    {
     "data": {
      "text/plain": [
       "23"
      ]
     },
     "execution_count": 18,
     "metadata": {},
     "output_type": "execute_result"
    }
   ],
   "source": [
    "# Increment num variable by 1\n",
    "num = num + 1\n",
    "num"
   ]
  },
  {
   "cell_type": "code",
   "execution_count": 19,
   "id": "e71248ce-286f-4ac3-8bae-c49a7a95c576",
   "metadata": {},
   "outputs": [
    {
     "name": "stdout",
     "output_type": "stream",
     "text": [
      "24\n"
     ]
    }
   ],
   "source": [
    "# Short \n",
    "num += 1\n",
    "print(num)"
   ]
  },
  {
   "cell_type": "code",
   "execution_count": 20,
   "id": "3f95cc89-9fee-4085-91cf-95ca817fdd22",
   "metadata": {},
   "outputs": [
    {
     "data": {
      "text/plain": [
       "-23.3"
      ]
     },
     "execution_count": 20,
     "metadata": {},
     "output_type": "execute_result"
    }
   ],
   "source": [
    "num_a = 15.9\n",
    "num_b = -23.3\n",
    "\n",
    "num_a\n",
    "num_b"
   ]
  },
  {
   "cell_type": "markdown",
   "id": "172d0833-192e-4adc-a9c7-b22fc54cd245",
   "metadata": {},
   "source": [
    "### Important Note: Order matters for assignment"
   ]
  },
  {
   "cell_type": "code",
   "execution_count": 21,
   "id": "dda79cfd-4222-40e1-95d6-71eff4d87d9c",
   "metadata": {},
   "outputs": [],
   "source": [
    "# code below is not correct\n",
    "# -3 = num_a"
   ]
  },
  {
   "cell_type": "markdown",
   "id": "d0e22dd8-ea06-4cb9-9dbe-5306f4ddb17d",
   "metadata": {},
   "source": [
    "#### Multiple assignments"
   ]
  },
  {
   "cell_type": "code",
   "execution_count": 22,
   "id": "d6073c19-7d07-4664-881c-51b30653cba6",
   "metadata": {},
   "outputs": [],
   "source": [
    "num_c = num_d = 54.7"
   ]
  },
  {
   "cell_type": "markdown",
   "id": "6f871e99-281f-4df7-9fe5-e06f5ebf8a5e",
   "metadata": {},
   "source": [
    "#### By default notebook prints the last statement\n",
    "##### print() function is required for printing each variable"
   ]
  },
  {
   "cell_type": "code",
   "execution_count": 23,
   "id": "e32dd0a4-592e-43f1-8f24-8dce7cd020b1",
   "metadata": {},
   "outputs": [
    {
     "name": "stdout",
     "output_type": "stream",
     "text": [
      "15.9\n",
      "-23.3\n",
      "54.7\n",
      "54.7\n"
     ]
    }
   ],
   "source": [
    "print(num_a)\n",
    "print(num_b)\n",
    "print(num_c)\n",
    "print(num_d)"
   ]
  },
  {
   "cell_type": "markdown",
   "id": "f01f886d-84fe-4ad0-b446-3ec1aec2ed2b",
   "metadata": {},
   "source": [
    "### Strings"
   ]
  },
  {
   "cell_type": "code",
   "execution_count": 24,
   "id": "dd4b6a56-4d67-4875-85b5-ad5a0f7fbada",
   "metadata": {},
   "outputs": [
    {
     "data": {
      "text/plain": [
       "'Hello world'"
      ]
     },
     "execution_count": 24,
     "metadata": {},
     "output_type": "execute_result"
    }
   ],
   "source": [
    "string_ex = 'Hello world'\n",
    "string_ex"
   ]
  },
  {
   "cell_type": "markdown",
   "id": "c7653451-1bd7-47ef-8779-c182d55b1f24",
   "metadata": {},
   "source": [
    "#### In Python you can use both double quotes or single quotes to create a string"
   ]
  },
  {
   "cell_type": "code",
   "execution_count": 25,
   "id": "b956e023-6369-4fb6-b0a0-d3c01d8caf7a",
   "metadata": {},
   "outputs": [],
   "source": [
    "name = 'John'\n",
    "surname = \"Doe\""
   ]
  },
  {
   "cell_type": "code",
   "execution_count": 26,
   "id": "e83d5eaa-29af-4a6f-a17f-8cbf3b6aab4a",
   "metadata": {},
   "outputs": [],
   "source": [
    "sentence = 'The car doesn\\'t work'\n",
    "# Both double and single quotes can be used in a string\n",
    "sentence = \"The car doesn't work\""
   ]
  },
  {
   "cell_type": "markdown",
   "id": "594c76d8-e2ae-4717-aa4a-4fffbb6a61f8",
   "metadata": {},
   "source": [
    "#### String concat"
   ]
  },
  {
   "cell_type": "code",
   "execution_count": 27,
   "id": "789a7eb1-f8fb-4751-be15-4a1ac98f0cb7",
   "metadata": {},
   "outputs": [
    {
     "data": {
      "text/plain": [
       "'John Doe'"
      ]
     },
     "execution_count": 27,
     "metadata": {},
     "output_type": "execute_result"
    }
   ],
   "source": [
    "full_name = name + ' ' + surname\n",
    "full_name"
   ]
  },
  {
   "cell_type": "markdown",
   "id": "71337063-0213-4a80-9ca8-995ac3d025c7",
   "metadata": {},
   "source": [
    "#### Note: Mind the spaces while working on strings\n",
    "* space is also a character"
   ]
  },
  {
   "cell_type": "code",
   "execution_count": 28,
   "id": "f32c3b2f-a8be-4ceb-b3ce-edcb05af7657",
   "metadata": {},
   "outputs": [
    {
     "data": {
      "text/plain": [
       "'John      Doe'"
      ]
     },
     "execution_count": 28,
     "metadata": {},
     "output_type": "execute_result"
    }
   ],
   "source": [
    "full_name = name + '      ' + surname\n",
    "full_name"
   ]
  },
  {
   "cell_type": "markdown",
   "id": "436e17f8-c1e8-4dbe-874e-e55b4a67e0f9",
   "metadata": {},
   "source": [
    "#### Formatted string (f-string)\n",
    "* You need Python 3.6+ (version 3.6 or higher)"
   ]
  },
  {
   "cell_type": "code",
   "execution_count": 29,
   "id": "a96a2e4e-1541-42c8-a5ad-2926ba34ab06",
   "metadata": {},
   "outputs": [
    {
     "data": {
      "text/plain": [
       "'John Doe'"
      ]
     },
     "execution_count": 29,
     "metadata": {},
     "output_type": "execute_result"
    }
   ],
   "source": [
    "full_name = f'{name} {surname}'\n",
    "full_name"
   ]
  },
  {
   "cell_type": "code",
   "execution_count": 30,
   "id": "473dc99b-5159-4df7-b0f3-5f8853222ab1",
   "metadata": {
    "tags": []
   },
   "outputs": [
    {
     "data": {
      "text/plain": [
       "'John Doe is 35 years old'"
      ]
     },
     "execution_count": 30,
     "metadata": {},
     "output_type": "execute_result"
    }
   ],
   "source": [
    "age = 35\n",
    "f'{name} {surname} is {age} years old'"
   ]
  },
  {
   "cell_type": "code",
   "execution_count": 31,
   "id": "d009f69e-1bf3-4436-af8d-d4f4e4c9503c",
   "metadata": {},
   "outputs": [
    {
     "name": "stdout",
     "output_type": "stream",
     "text": [
      "Hi John Doe\n",
      "Hi John Doe\n"
     ]
    }
   ],
   "source": [
    "# Default \n",
    "print('Hi', full_name)\n",
    "# f-string\n",
    "print(f'Hi {full_name}')"
   ]
  },
  {
   "cell_type": "markdown",
   "id": "536737dc-ae97-4394-9881-59f2d72b064e",
   "metadata": {},
   "source": [
    "#### Floating point numbers with formatted string"
   ]
  },
  {
   "cell_type": "code",
   "execution_count": 32,
   "id": "454e7d98-79cd-4ee3-a8bf-11d3df623231",
   "metadata": {},
   "outputs": [
    {
     "data": {
      "text/plain": [
       "0.3582109977133674"
      ]
     },
     "execution_count": 32,
     "metadata": {},
     "output_type": "execute_result"
    }
   ],
   "source": [
    "floating_point_num = 0.3582109977133674\n",
    "floating_point_num"
   ]
  },
  {
   "cell_type": "code",
   "execution_count": 33,
   "id": "285c17cf-29e6-4f16-8ee7-b74315773ee9",
   "metadata": {},
   "outputs": [
    {
     "name": "stdout",
     "output_type": "stream",
     "text": [
      "Formatted: 0.3582\n"
     ]
    }
   ],
   "source": [
    "# Show only last 4 digits after decimal\n",
    "print(f'Formatted: {floating_point_num:.4f}')"
   ]
  },
  {
   "cell_type": "markdown",
   "id": "123fc768-2c86-4154-aff8-76cf6d9dd3a5",
   "metadata": {},
   "source": [
    "#### Splitting the string"
   ]
  },
  {
   "cell_type": "code",
   "execution_count": 34,
   "id": "ecd27de3-8445-4653-8cca-94370e1b98e6",
   "metadata": {},
   "outputs": [
    {
     "data": {
      "text/plain": [
       "['Walking', 'in', 'the', 'streets', 'of', 'New', 'York']"
      ]
     },
     "execution_count": 34,
     "metadata": {},
     "output_type": "execute_result"
    }
   ],
   "source": [
    "# By default splits by spaces\n",
    "'Walking in the streets of New York'.split()"
   ]
  },
  {
   "cell_type": "code",
   "execution_count": 35,
   "id": "15587aa7-2768-4ea4-97a2-8fd0bb541f98",
   "metadata": {},
   "outputs": [
    {
     "data": {
      "text/plain": [
       "['Walking', 'in', 'the', 'streets', 'of', 'New', 'York']"
      ]
     },
     "execution_count": 35,
     "metadata": {},
     "output_type": "execute_result"
    }
   ],
   "source": [
    "# Split by -\n",
    "'Walking-in-the-streets-of-New-York'.split('-')"
   ]
  },
  {
   "cell_type": "markdown",
   "id": "02937710-1db0-474b-a39f-1e7f9dbd0af5",
   "metadata": {},
   "source": [
    "#### Replace"
   ]
  },
  {
   "cell_type": "code",
   "execution_count": 36,
   "id": "ccf99c57-411c-478b-b7b2-a3079dff6034",
   "metadata": {},
   "outputs": [
    {
     "data": {
      "text/plain": [
       "'Walking in the streets of New York'"
      ]
     },
     "execution_count": 36,
     "metadata": {},
     "output_type": "execute_result"
    }
   ],
   "source": [
    "# Replace - with a space\n",
    "'Walking-in-the-streets-of-New-York'.replace('-', ' ')"
   ]
  },
  {
   "cell_type": "markdown",
   "id": "2e13ca7e-9bf4-4441-a6ed-dace25933a15",
   "metadata": {},
   "source": [
    "#### Repeating a string"
   ]
  },
  {
   "cell_type": "code",
   "execution_count": 37,
   "id": "362209a0-710b-40e3-9185-e963c449c6dd",
   "metadata": {},
   "outputs": [
    {
     "data": {
      "text/plain": [
       "'Walking Walking Walking Walking Walking '"
      ]
     },
     "execution_count": 37,
     "metadata": {},
     "output_type": "execute_result"
    }
   ],
   "source": [
    "'Walking ' * 5"
   ]
  },
  {
   "cell_type": "markdown",
   "id": "e69e022d-537e-41fd-8f3a-c60bb3743284",
   "metadata": {},
   "source": [
    "### Data types\n",
    "* Integer\n",
    "* Floating-Point\n",
    "* String\n",
    "* Complex\n",
    "* Boolean"
   ]
  },
  {
   "cell_type": "code",
   "execution_count": 38,
   "id": "76458d7d-e1f1-45c1-9130-caef9be1bb0e",
   "metadata": {},
   "outputs": [
    {
     "data": {
      "text/plain": [
       "float"
      ]
     },
     "execution_count": 38,
     "metadata": {},
     "output_type": "execute_result"
    }
   ],
   "source": [
    "type(43.553)"
   ]
  },
  {
   "cell_type": "code",
   "execution_count": 39,
   "id": "db7930fe-bd3f-4e5e-8b07-588b9ae72400",
   "metadata": {},
   "outputs": [
    {
     "name": "stdout",
     "output_type": "stream",
     "text": [
      "<class 'int'>\n",
      "<class 'float'>\n",
      "<class 'str'>\n",
      "<class 'complex'>\n",
      "<class 'bool'>\n"
     ]
    }
   ],
   "source": [
    "print(type(10))\n",
    "print(type(10.423))\n",
    "print(type('this is a string'))\n",
    "print(type(10 + 4j))\n",
    "print(type(True))"
   ]
  },
  {
   "cell_type": "markdown",
   "id": "04f1006a-3048-4272-8a9a-f60cfda6238a",
   "metadata": {},
   "source": [
    "Type Conversion"
   ]
  },
  {
   "cell_type": "code",
   "execution_count": 40,
   "id": "46cac119-bd5e-4e8b-ad8e-5519cae14073",
   "metadata": {},
   "outputs": [
    {
     "name": "stdout",
     "output_type": "stream",
     "text": [
      "<class 'int'>\n",
      "<class 'str'>\n"
     ]
    }
   ],
   "source": [
    "print(type(int('34')))\n",
    "print(type(str(5532.22)))"
   ]
  },
  {
   "cell_type": "markdown",
   "id": "d8cfe5d4-c2b4-420c-ad8f-508e3057e8b9",
   "metadata": {},
   "source": [
    "#### Jupyter magic commands start with %\n",
    "##### see more: https://ipython.readthedocs.io/en/stable/interactive/magics.html"
   ]
  },
  {
   "cell_type": "code",
   "execution_count": 41,
   "id": "b610b9f2-d740-464c-9ea9-213acd6fbe85",
   "metadata": {},
   "outputs": [
    {
     "name": "stdout",
     "output_type": "stream",
     "text": [
      "Variable             Type     Data/Info\n",
      "---------------------------------------\n",
      "age                  int      35\n",
      "floating_point_num   float    0.3582109977133674\n",
      "full_name            str      John Doe\n",
      "name                 str      John\n",
      "num                  int      24\n",
      "num_a                float    15.9\n",
      "num_b                float    -23.3\n",
      "num_c                float    54.7\n",
      "num_d                float    54.7\n",
      "sentence             str      The car doesn't work\n",
      "string_ex            str      Hello world\n",
      "surname              str      Doe\n"
     ]
    }
   ],
   "source": [
    "%whos"
   ]
  },
  {
   "cell_type": "markdown",
   "id": "02399ff5-37fc-4a26-8c4b-f1eed64d1f09",
   "metadata": {},
   "source": [
    "## Operator Precedence\n",
    "\n",
    "1. Parentheses ( )\n",
    "2. Exponent **\n",
    "3. Multiplication, Division, Floor division, Modulus *, /, //, %\n",
    "4. Addition, Subtraction +, -"
   ]
  },
  {
   "cell_type": "code",
   "execution_count": 42,
   "id": "6a79776e-e26a-4f4d-b34a-2e27724c8aa0",
   "metadata": {},
   "outputs": [
    {
     "data": {
      "text/plain": [
       "9.0"
      ]
     },
     "execution_count": 42,
     "metadata": {},
     "output_type": "execute_result"
    }
   ],
   "source": [
    "number1 = 4\n",
    "number2 = 2\n",
    "result = ((number1+number2)**2)/4\n",
    "result"
   ]
  },
  {
   "cell_type": "markdown",
   "id": "24860466-0678-4dbe-aba4-2319de5e5ee1",
   "metadata": {},
   "source": [
    "### Booleans and Logic Operations\n",
    "* In Python, booleans either in True or False (with capital T and F)\n",
    "* So true and false are invalid"
   ]
  },
  {
   "cell_type": "code",
   "execution_count": 43,
   "id": "cd0db7a6-be67-4617-80f6-b533e152eb74",
   "metadata": {},
   "outputs": [],
   "source": [
    "a = True\n",
    "b = True\n",
    "c = False\n",
    "d = False"
   ]
  },
  {
   "cell_type": "markdown",
   "id": "a20c81e8-e802-47ef-9422-3e19648b762b",
   "metadata": {},
   "source": [
    "#### AND truth table\n",
    "* True and True -> True\n",
    "* True and False -> False\n",
    "* False and True -> False\n",
    "* False and False -> False"
   ]
  },
  {
   "cell_type": "code",
   "execution_count": 44,
   "id": "b7fd026e-7225-4efd-ad68-57610a1b5a3f",
   "metadata": {},
   "outputs": [
    {
     "name": "stdout",
     "output_type": "stream",
     "text": [
      "True\n",
      "False\n",
      "False\n",
      "False\n"
     ]
    }
   ],
   "source": [
    "# AND\n",
    "print(a and b)\n",
    "print(a and c)\n",
    "print(c and a)\n",
    "print(c and d)"
   ]
  },
  {
   "cell_type": "markdown",
   "id": "7f3ea86d-b1be-4d73-a08b-6e3d8a1fe15b",
   "metadata": {},
   "source": [
    "#### OR truth table\n",
    "* True or True -> True\n",
    "* True or False -> True\n",
    "* False or True -> True\n",
    "* False or False -> False"
   ]
  },
  {
   "cell_type": "code",
   "execution_count": 45,
   "id": "2a26d678-e31d-4a91-8a37-8a127294ab1b",
   "metadata": {},
   "outputs": [
    {
     "name": "stdout",
     "output_type": "stream",
     "text": [
      "True\n",
      "True\n",
      "True\n",
      "False\n"
     ]
    }
   ],
   "source": [
    "# OR\n",
    "print(a or b)\n",
    "print(a or c)\n",
    "print(c or a)\n",
    "print(c or d)"
   ]
  },
  {
   "cell_type": "markdown",
   "id": "1043ebc1-b9de-4276-8f14-1e7693f128bd",
   "metadata": {},
   "source": [
    "#### NOT truth table\n",
    "##### Note that NOT requires only one operand\n",
    "* True -> False\n",
    "* False -> True"
   ]
  },
  {
   "cell_type": "code",
   "execution_count": 46,
   "id": "c8457345-b99a-4c10-a646-193153e934b1",
   "metadata": {},
   "outputs": [
    {
     "data": {
      "text/plain": [
       "False"
      ]
     },
     "execution_count": 46,
     "metadata": {},
     "output_type": "execute_result"
    }
   ],
   "source": [
    "not a"
   ]
  },
  {
   "cell_type": "code",
   "execution_count": 47,
   "id": "90153696-9685-4757-9145-049769fe8dbe",
   "metadata": {},
   "outputs": [
    {
     "data": {
      "text/plain": [
       "False"
      ]
     },
     "execution_count": 47,
     "metadata": {},
     "output_type": "execute_result"
    }
   ],
   "source": [
    "not b"
   ]
  },
  {
   "cell_type": "code",
   "execution_count": 48,
   "id": "ce8883c7-14ac-422c-a4c2-dd9b6edfacba",
   "metadata": {},
   "outputs": [
    {
     "data": {
      "text/plain": [
       "False"
      ]
     },
     "execution_count": 48,
     "metadata": {},
     "output_type": "execute_result"
    }
   ],
   "source": [
    "not((a and b) or (c or d))"
   ]
  },
  {
   "cell_type": "markdown",
   "id": "2498e3f2-8daa-4e89-abd8-bfddceae3378",
   "metadata": {},
   "source": [
    "## Conditionals"
   ]
  },
  {
   "cell_type": "markdown",
   "id": "cf2acefd-4801-4fab-aea0-1981292fa6e2",
   "metadata": {},
   "source": [
    "* Code in block is run if a certain condition is met\n",
    "* Python uses indentation to seperate different code blocks\n",
    "* By default 4 spaces (or tab) is used"
   ]
  },
  {
   "cell_type": "code",
   "execution_count": 49,
   "id": "4f06f4f5-22cc-4f5f-95f3-0a521cda8f74",
   "metadata": {},
   "outputs": [
    {
     "name": "stdout",
     "output_type": "stream",
     "text": [
      "It's not raining.\n"
     ]
    }
   ],
   "source": [
    "its_raining = False\n",
    "\n",
    "if its_raining:\n",
    "    # A block of code\n",
    "    print(\"It's raining!\")\n",
    "else:\n",
    "    # Another block\n",
    "    print(\"It's not raining.\")"
   ]
  },
  {
   "cell_type": "code",
   "execution_count": 50,
   "id": "8957168a-b4de-4374-b038-7b88b2e7304a",
   "metadata": {},
   "outputs": [
    {
     "name": "stdout",
     "output_type": "stream",
     "text": [
      "hello world is a string\n"
     ]
    }
   ],
   "source": [
    "#variable = 355\n",
    "#variable = 543.22222\n",
    "variable = 'hello world'\n",
    "#variable = 55 + 49j\n",
    "#variable = False\n",
    "\n",
    "if isinstance(variable, bool):\n",
    "    print(variable, 'is an bool')\n",
    "elif isinstance(variable, int):\n",
    "    print(variable, 'is a integer')\n",
    "elif isinstance(variable, float):\n",
    "    print(variable, 'is a float')\n",
    "elif isinstance(variable, str):\n",
    "    print(variable, 'is a string')\n",
    "elif isinstance(variable, complex):\n",
    "    print(variable, 'is a complex number')\n",
    "else:\n",
    "    print(variable, 'is unknown type')"
   ]
  },
  {
   "cell_type": "markdown",
   "id": "edec78fa-d172-4dc2-b714-cdc22afa979f",
   "metadata": {},
   "source": [
    "* A == B (A equal to B)\n",
    "* A != B (A not equal to B)\n",
    "* A > B  (A is greater than B)\n",
    "* A < B (A is less than B)\n",
    "* A >= B (A is greater than or equal to B)\n",
    "* A <= B (A is less than or equal to B)"
   ]
  },
  {
   "cell_type": "code",
   "execution_count": 51,
   "id": "c43a1bc5-c523-4a73-9da3-613fa18e6239",
   "metadata": {},
   "outputs": [
    {
     "name": "stdout",
     "output_type": "stream",
     "text": [
      "AA Grade\n"
     ]
    }
   ],
   "source": [
    "a = 85\n",
    "\n",
    "if a >= 85:\n",
    "    print('AA Grade')\n",
    "elif a >= 80 and a < 85:\n",
    "    print('BA Grade')\n",
    "elif a >= 75 and a < 80:\n",
    "    print('BB Grade')\n",
    "elif a >= 70 and a < 75:\n",
    "    print('CB Grade')\n",
    "else:\n",
    "    # Less than 70\n",
    "    print('Below Average')"
   ]
  },
  {
   "cell_type": "markdown",
   "id": "f820c580-1164-4bcb-b62c-2c4c2678ef6f",
   "metadata": {},
   "source": [
    "## Loops"
   ]
  },
  {
   "cell_type": "code",
   "execution_count": 52,
   "id": "a9b324c3-68da-4eab-a63e-5be6eaec5013",
   "metadata": {},
   "outputs": [
    {
     "name": "stdout",
     "output_type": "stream",
     "text": [
      "Look index is at: 0\n",
      "Look index is at: 1\n",
      "Look index is at: 2\n",
      "Look index is at: 3\n",
      "Look index is at: 4\n",
      "Look index is at: 5\n",
      "Look index is at: 6\n",
      "Look index is at: 7\n",
      "Look index is at: 8\n",
      "Look index is at: 9\n"
     ]
    }
   ],
   "source": [
    "loop_index = 0\n",
    "\n",
    "while loop_index < 10:\n",
    "    print('Look index is at:', loop_index)\n",
    "    loop_index += 1"
   ]
  },
  {
   "cell_type": "markdown",
   "id": "14f2e3ef-8e8a-4c00-b574-c663013f70fa",
   "metadata": {},
   "source": [
    "### Loops with range() function\n",
    "* range() is what we call a *generator* in Python\n",
    "* each time loop starts, range() will return a new number"
   ]
  },
  {
   "cell_type": "code",
   "execution_count": 53,
   "id": "41d6f8ac-a7dd-452f-a36d-93549db3def6",
   "metadata": {},
   "outputs": [
    {
     "name": "stdout",
     "output_type": "stream",
     "text": [
      "Look index is at: 0\n",
      "Look index is at: 1\n",
      "Look index is at: 2\n",
      "Look index is at: 3\n",
      "Look index is at: 4\n",
      "Look index is at: 5\n",
      "Look index is at: 6\n",
      "Look index is at: 7\n",
      "Look index is at: 8\n",
      "Look index is at: 9\n"
     ]
    }
   ],
   "source": [
    "# idx starts from 0 goes until 10\n",
    "# Note that 10 is not included\n",
    "for idx in range(10):\n",
    "    print('Look index is at:', idx)"
   ]
  },
  {
   "cell_type": "code",
   "execution_count": 54,
   "id": "0290e531-17ba-45ee-a0ee-f4e275ec7896",
   "metadata": {},
   "outputs": [
    {
     "name": "stdout",
     "output_type": "stream",
     "text": [
      "Look index is at: 1\n",
      "Look index is at: 3\n",
      "Look index is at: 5\n",
      "Look index is at: 7\n",
      "Look index is at: 9\n"
     ]
    }
   ],
   "source": [
    "# Start from 1 (instead of 0)\n",
    "# Increment by 2\n",
    "for idx in range(1, 10, 2):\n",
    "    print('Look index is at:', idx)"
   ]
  },
  {
   "cell_type": "code",
   "execution_count": 55,
   "id": "674fc97c-e3c0-4659-9536-3fb996f5e542",
   "metadata": {},
   "outputs": [
    {
     "name": "stdout",
     "output_type": "stream",
     "text": [
      "Look index is at: 1\n",
      "Look index is at: 3\n",
      "Look index is at: 5\n",
      "Look index is at: 7\n",
      "Look index is at: 9\n"
     ]
    }
   ],
   "source": [
    "for idx in range(10):\n",
    "    if idx % 2 == 0: # Even number\n",
    "        continue # skips the loop iteration\n",
    "    print('Look index is at:', idx)"
   ]
  },
  {
   "cell_type": "code",
   "execution_count": 56,
   "id": "51a5916e-0897-4061-9b3b-e55300ee986b",
   "metadata": {},
   "outputs": [
    {
     "name": "stdout",
     "output_type": "stream",
     "text": [
      "Look index is at: 0\n",
      "Look index is at: 1\n",
      "Look index is at: 2\n",
      "Look index is at: 3\n",
      "Look index is at: 4\n",
      "Breaking the loop\n"
     ]
    }
   ],
   "source": [
    "for idx in range(20):\n",
    "    if idx >= 5:\n",
    "        print('Breaking the loop')\n",
    "        break\n",
    "        \n",
    "    print('Look index is at:', idx)"
   ]
  },
  {
   "cell_type": "markdown",
   "id": "2d67e809-adce-465b-ae15-a1fa0ff187e3",
   "metadata": {},
   "source": [
    "#### Example: Sum of number from 0 to 100 that is divisible by 7"
   ]
  },
  {
   "cell_type": "code",
   "execution_count": 57,
   "id": "66d7f608-fae8-4ca9-856d-c0e04eb43ab1",
   "metadata": {},
   "outputs": [
    {
     "data": {
      "text/plain": [
       "735"
      ]
     },
     "execution_count": 57,
     "metadata": {},
     "output_type": "execute_result"
    }
   ],
   "source": [
    "num_sum = 0\n",
    "\n",
    "for number in range(100):\n",
    "    if number % 7 == 0:\n",
    "        num_sum += number\n",
    "        \n",
    "num_sum"
   ]
  },
  {
   "cell_type": "markdown",
   "id": "fc8349a3-aa04-4b05-bfee-65c42ed1679e",
   "metadata": {},
   "source": [
    "## Functions\n",
    "Code blocks that provide code reuse and organization"
   ]
  },
  {
   "cell_type": "code",
   "execution_count": 58,
   "id": "fb61a2f7-9195-4be9-b27f-03de806a8d76",
   "metadata": {},
   "outputs": [
    {
     "name": "stdout",
     "output_type": "stream",
     "text": [
      "hello world\n"
     ]
    }
   ],
   "source": [
    "def print_hello_world():\n",
    "    print('hello world')\n",
    "    \n",
    "print_hello_world()"
   ]
  },
  {
   "cell_type": "code",
   "execution_count": 59,
   "id": "1f1902c2-29f1-460a-bd09-68666f651e95",
   "metadata": {},
   "outputs": [
    {
     "data": {
      "text/plain": [
       "16"
      ]
     },
     "execution_count": 59,
     "metadata": {},
     "output_type": "execute_result"
    }
   ],
   "source": [
    "def raise_to_power(number, power):\n",
    "    return number ** power\n",
    "    \n",
    "# By default order of parameters is important\n",
    "raise_to_power(4, 2)"
   ]
  },
  {
   "cell_type": "code",
   "execution_count": 60,
   "id": "54101b80-4a1e-41b4-b38a-3d68d9e3f0e2",
   "metadata": {},
   "outputs": [
    {
     "data": {
      "text/plain": [
       "16"
      ]
     },
     "execution_count": 60,
     "metadata": {},
     "output_type": "execute_result"
    }
   ],
   "source": [
    "# Keyword arguments\n",
    "# Order can be changed\n",
    "raise_to_power(power=2, number=4)"
   ]
  },
  {
   "cell_type": "code",
   "execution_count": 61,
   "id": "4859ad58-7643-4228-9499-6132433494c1",
   "metadata": {},
   "outputs": [
    {
     "name": "stdout",
     "output_type": "stream",
     "text": [
      "Hello, guest!\n",
      "Hello, Tom!\n"
     ]
    }
   ],
   "source": [
    "# parameters with default value\n",
    "def say_hello(name='guest'):\n",
    "    print(f'Hello, {name}!')\n",
    "    \n",
    "say_hello()\n",
    "say_hello('Tom')"
   ]
  },
  {
   "cell_type": "markdown",
   "id": "d6cf7d82-29dd-4df6-a189-e9c0ef86b0ee",
   "metadata": {},
   "source": [
    "## Python Data Structures\n",
    "### List\n",
    "* Container for different data types\n",
    "* Mutable\n",
    "* Duplicates allowed\n",
    "* Preserves order of elements"
   ]
  },
  {
   "cell_type": "code",
   "execution_count": 62,
   "id": "2ed0b266-f483-4d2b-869d-daf919e5dbb8",
   "metadata": {},
   "outputs": [
    {
     "data": {
      "text/plain": [
       "[1, 2, 3, 4, 5, 6, 7, 8, 9, 10]"
      ]
     },
     "execution_count": 62,
     "metadata": {},
     "output_type": "execute_result"
    }
   ],
   "source": [
    "l1 = [1, 2, 3, 4, 5, 6, 7, 8, 9, 10]\n",
    "l1"
   ]
  },
  {
   "cell_type": "code",
   "execution_count": 63,
   "id": "d3f46b8f-3bc9-4d8c-8198-c4341ca9d080",
   "metadata": {
    "tags": []
   },
   "outputs": [
    {
     "data": {
      "text/plain": [
       "[1, 2, 3, 4, 5, 6, 7, 8, 9, 10]"
      ]
     },
     "execution_count": 63,
     "metadata": {},
     "output_type": "execute_result"
    }
   ],
   "source": [
    "l1"
   ]
  },
  {
   "cell_type": "code",
   "execution_count": 64,
   "id": "ecd98710-015c-45c0-9e5c-47f72270bd49",
   "metadata": {},
   "outputs": [
    {
     "data": {
      "text/plain": [
       "['Linear', 'Quadtratic', 'Cubic', 'Poly']"
      ]
     },
     "execution_count": 64,
     "metadata": {},
     "output_type": "execute_result"
    }
   ],
   "source": [
    "l2 = ['Linear', 'Quadtratic', 'Cubic', 'Poly']\n",
    "l2"
   ]
  },
  {
   "cell_type": "code",
   "execution_count": 65,
   "id": "db139067-784d-4df7-8a54-641556a69cc3",
   "metadata": {},
   "outputs": [
    {
     "data": {
      "text/plain": [
       "[1, 3.14, 'SVM', True, (3+4j)]"
      ]
     },
     "execution_count": 65,
     "metadata": {},
     "output_type": "execute_result"
    }
   ],
   "source": [
    "# List with different data types: int, float, str, bool, complex\n",
    "l3 = [1, 3.14, 'SVM', True, 3 + 4j]\n",
    "l3"
   ]
  },
  {
   "cell_type": "markdown",
   "id": "396943e9-144f-4010-8bee-668d3ac0017f",
   "metadata": {},
   "source": [
    "#### Length of the list"
   ]
  },
  {
   "cell_type": "code",
   "execution_count": 66,
   "id": "49e4daf1-c9b0-4e0b-8d12-ef3a21ec0fab",
   "metadata": {},
   "outputs": [
    {
     "data": {
      "text/plain": [
       "5"
      ]
     },
     "execution_count": 66,
     "metadata": {},
     "output_type": "execute_result"
    }
   ],
   "source": [
    "len(l3)"
   ]
  },
  {
   "cell_type": "markdown",
   "id": "49623c86-ba2f-495d-998b-6f5beb3f2d62",
   "metadata": {},
   "source": [
    "#### Access the elements (data) inside lists by indexing\n",
    "* In Python, indexes start from 0"
   ]
  },
  {
   "cell_type": "code",
   "execution_count": 67,
   "id": "b287bf4d-3956-48a5-a62d-7f248cb907b4",
   "metadata": {
    "tags": []
   },
   "outputs": [],
   "source": [
    "l_ex = [1, 'hello', 3.14]"
   ]
  },
  {
   "cell_type": "code",
   "execution_count": 68,
   "id": "fcd004ba-c143-427f-8a48-a09e54a49602",
   "metadata": {},
   "outputs": [
    {
     "data": {
      "text/plain": [
       "1"
      ]
     },
     "execution_count": 68,
     "metadata": {},
     "output_type": "execute_result"
    }
   ],
   "source": [
    "l1[0]"
   ]
  },
  {
   "cell_type": "code",
   "execution_count": 69,
   "id": "865c65fb-db29-4969-9044-4066b357ebf4",
   "metadata": {},
   "outputs": [
    {
     "name": "stdout",
     "output_type": "stream",
     "text": [
      "2, 3\n"
     ]
    }
   ],
   "source": [
    "print(f'{l1[1]}, {l1[2]}')"
   ]
  },
  {
   "cell_type": "code",
   "execution_count": 70,
   "id": "7fc54501-1ca7-46f4-8d35-578c9c78b006",
   "metadata": {
    "tags": []
   },
   "outputs": [
    {
     "data": {
      "text/plain": [
       "[1, 2, 3, 4, 5, 6, 7, 8, 9, 10]"
      ]
     },
     "execution_count": 70,
     "metadata": {},
     "output_type": "execute_result"
    }
   ],
   "source": [
    "l1"
   ]
  },
  {
   "cell_type": "markdown",
   "id": "b49f3362-b7c5-453a-8efb-5a8d2aed0c22",
   "metadata": {},
   "source": [
    "#### Update elements"
   ]
  },
  {
   "cell_type": "code",
   "execution_count": 71,
   "id": "a02d78da-f92c-439b-9e9f-b155b55076a8",
   "metadata": {},
   "outputs": [
    {
     "data": {
      "text/plain": [
       "[-99, 2, 3, 4, 5, 55.22, 7, 8, 9, 10]"
      ]
     },
     "execution_count": 71,
     "metadata": {},
     "output_type": "execute_result"
    }
   ],
   "source": [
    "l1[0] = -99\n",
    "l1[5] = 55.22\n",
    "l1"
   ]
  },
  {
   "cell_type": "markdown",
   "id": "e7887582-6750-480b-839b-b9e433364051",
   "metadata": {},
   "source": [
    "#### Negative indexes goes from end to start"
   ]
  },
  {
   "cell_type": "code",
   "execution_count": 72,
   "id": "c4b9e592-3a0f-4388-87de-a923143bdbc9",
   "metadata": {},
   "outputs": [
    {
     "name": "stdout",
     "output_type": "stream",
     "text": [
      "10, 9\n"
     ]
    }
   ],
   "source": [
    "print(f'{l1[-1]}, {l1[-2]}')"
   ]
  },
  {
   "cell_type": "code",
   "execution_count": 73,
   "id": "6660132b-f94a-4be7-b81c-9713e8733a5d",
   "metadata": {},
   "outputs": [
    {
     "data": {
      "text/plain": [
       "[100, 255, 20.22]"
      ]
     },
     "execution_count": 73,
     "metadata": {},
     "output_type": "execute_result"
    }
   ],
   "source": [
    "l4 = []\n",
    "l4.append(100)\n",
    "l4.append(255)\n",
    "l4.append(20.22)\n",
    "l4"
   ]
  },
  {
   "cell_type": "code",
   "execution_count": 74,
   "id": "d3a4ed79-20ec-46d3-8daf-ed269d9bbe82",
   "metadata": {},
   "outputs": [
    {
     "name": "stdout",
     "output_type": "stream",
     "text": [
      "popped value: 100\n"
     ]
    },
    {
     "data": {
      "text/plain": [
       "[255, 20.22]"
      ]
     },
     "execution_count": 74,
     "metadata": {},
     "output_type": "execute_result"
    }
   ],
   "source": [
    "popped_value = l4.pop(0)\n",
    "print(f'popped value: {popped_value}')\n",
    "l4"
   ]
  },
  {
   "cell_type": "markdown",
   "id": "2997637e-fcac-4c30-ad8e-89c1c3980ebe",
   "metadata": {},
   "source": [
    "#### List of lists"
   ]
  },
  {
   "cell_type": "code",
   "execution_count": 75,
   "id": "033c79b3-1a59-423f-a222-48393a8b596c",
   "metadata": {},
   "outputs": [
    {
     "data": {
      "text/plain": [
       "[[1, 2, 3], [4, 5, 6], [7, 8, 9]]"
      ]
     },
     "execution_count": 75,
     "metadata": {},
     "output_type": "execute_result"
    }
   ],
   "source": [
    "# list_2d = [[1, 2, 3], [4, 5, 6], [7, 8, 9]]\n",
    "# For readability, we can write like this\n",
    "list_2d = [\n",
    "    [1, 2, 3],\n",
    "    [4, 5, 6],\n",
    "    [7, 8, 9]\n",
    "]\n",
    "\n",
    "list_2d"
   ]
  },
  {
   "cell_type": "markdown",
   "id": "dae8382d-38c4-4169-a32a-2c0968a2c637",
   "metadata": {},
   "source": [
    "### Cycle through a list\n",
    "This is equvalent to for each loop"
   ]
  },
  {
   "cell_type": "code",
   "execution_count": 76,
   "id": "5404afa4-64f6-4197-bdf6-ba1a355cffd3",
   "metadata": {},
   "outputs": [
    {
     "name": "stdout",
     "output_type": "stream",
     "text": [
      "-99\n",
      "2\n",
      "3\n",
      "4\n",
      "5\n",
      "55.22\n",
      "7\n",
      "8\n",
      "9\n",
      "10\n"
     ]
    }
   ],
   "source": [
    "for element in l1:\n",
    "    print(element)"
   ]
  },
  {
   "cell_type": "markdown",
   "id": "17ff7ea6-8072-4ea6-a125-ac449d93b32b",
   "metadata": {},
   "source": [
    "#### Loop two lists together with zip() \n",
    "* NOTE: zip() is not limited to lists, can be used with any other iterable"
   ]
  },
  {
   "cell_type": "code",
   "execution_count": 77,
   "id": "267e5d96-4e30-4041-83e6-7fbefa9f7be7",
   "metadata": {},
   "outputs": [
    {
     "name": "stdout",
     "output_type": "stream",
     "text": [
      "Kolby Vico is 51 years old\n",
      "Jenna Hayden is 40 years old\n",
      "Navy Keighley is 35 years old\n",
      "Jane Derrick is 18 years old\n"
     ]
    }
   ],
   "source": [
    "names_list = ['Kolby Vico', 'Jenna Hayden', 'Navy Keighley', 'Jane Derrick']\n",
    "ages_list = [51, 40, 35, 18]\n",
    "\n",
    "for name, age in zip(names_list, ages_list):\n",
    "    print(f'{name} is {age} years old')"
   ]
  },
  {
   "cell_type": "markdown",
   "id": "b040bb50-1fcf-42ed-8f6d-350620b4ed87",
   "metadata": {},
   "source": [
    "#### Indexing with enemeration\n",
    "* Starts from zero to length of the iterable\n",
    "* Last is not included so range is from 0 to len(names_list)-1\n",
    "* NOTE: enumerate() is not limited to lists, can be used with any other iterable"
   ]
  },
  {
   "cell_type": "code",
   "execution_count": 78,
   "id": "88c41002-37ea-468d-aa99-fb4bcaed1563",
   "metadata": {},
   "outputs": [
    {
     "name": "stdout",
     "output_type": "stream",
     "text": [
      "index: 0, name: Kolby Vico\n",
      "index: 1, name: Jenna Hayden\n",
      "index: 2, name: Navy Keighley\n",
      "index: 3, name: Jane Derrick\n"
     ]
    }
   ],
   "source": [
    "for idx, name in enumerate(names_list):\n",
    "    print(f'index: {idx}, name: {name}')"
   ]
  },
  {
   "cell_type": "markdown",
   "id": "76bc8b8d-eb18-41dd-badb-b15cef246d09",
   "metadata": {},
   "source": [
    "#### Enumeration is equivalent to this"
   ]
  },
  {
   "cell_type": "code",
   "execution_count": 79,
   "id": "0464da89-a60d-4a8a-97ff-c5ca6aeaa9b6",
   "metadata": {},
   "outputs": [
    {
     "name": "stdout",
     "output_type": "stream",
     "text": [
      "index: 0, name: Kolby Vico\n",
      "index: 1, name: Jenna Hayden\n",
      "index: 2, name: Navy Keighley\n",
      "index: 3, name: Jane Derrick\n"
     ]
    }
   ],
   "source": [
    "for idx, name in zip(range(len(names_list)), names_list):\n",
    "    print(f'index: {idx}, name: {name}')"
   ]
  },
  {
   "cell_type": "markdown",
   "id": "cd2647d3-5ef6-4ee1-9166-7648ab0cd032",
   "metadata": {},
   "source": [
    "#### Check if an element is in the list"
   ]
  },
  {
   "cell_type": "code",
   "execution_count": 80,
   "id": "b586faf6-339a-4326-89a7-c6f4ece75532",
   "metadata": {},
   "outputs": [
    {
     "data": {
      "text/plain": [
       "True"
      ]
     },
     "execution_count": 80,
     "metadata": {},
     "output_type": "execute_result"
    }
   ],
   "source": [
    "# Note that it returns a bool value\n",
    "2 in l1"
   ]
  },
  {
   "cell_type": "markdown",
   "id": "1a36653b-9b51-49c6-b46d-5c7110603248",
   "metadata": {},
   "source": [
    "### List comphrehension"
   ]
  },
  {
   "cell_type": "code",
   "execution_count": 81,
   "id": "6183bdae-db47-41e1-bf64-505fc0d56326",
   "metadata": {},
   "outputs": [
    {
     "data": {
      "text/plain": [
       "[0, 1, 4, 9, 16, 25, 36, 49, 64, 81]"
      ]
     },
     "execution_count": 81,
     "metadata": {},
     "output_type": "execute_result"
    }
   ],
   "source": [
    "[x**2 for x in range(10)]"
   ]
  },
  {
   "cell_type": "code",
   "execution_count": 82,
   "id": "0c90d1b4-c402-4862-83f1-3f72fb4fe03c",
   "metadata": {
    "tags": []
   },
   "outputs": [
    {
     "name": "stdout",
     "output_type": "stream",
     "text": [
      "0\n",
      "1\n",
      "4\n",
      "9\n",
      "16\n",
      "25\n",
      "36\n",
      "49\n",
      "64\n",
      "81\n"
     ]
    }
   ],
   "source": [
    "l1 = []\n",
    "\n",
    "for x in range(10):\n",
    "    print(x**2)\n",
    "    l1.append(x**2)"
   ]
  },
  {
   "cell_type": "code",
   "execution_count": 83,
   "id": "4aab6a66-97ed-4361-b012-97bb7da7b5ec",
   "metadata": {
    "tags": []
   },
   "outputs": [
    {
     "data": {
      "text/plain": [
       "[0, 1, 4, 9, 16, 25, 36, 49, 64, 81]"
      ]
     },
     "execution_count": 83,
     "metadata": {},
     "output_type": "execute_result"
    }
   ],
   "source": [
    "l1"
   ]
  },
  {
   "cell_type": "markdown",
   "id": "039feb7e-df45-4dea-aa08-e034e8a76253",
   "metadata": {},
   "source": [
    "### Tuple\n",
    "* Similar to lists but immutable (unchangeable after initiazation)\n",
    "* Allows duplicates\n",
    "* Preserves order of elements"
   ]
  },
  {
   "cell_type": "code",
   "execution_count": 84,
   "id": "96f53da8-0da1-482e-b7e9-3a3c9f79f889",
   "metadata": {},
   "outputs": [
    {
     "data": {
      "text/plain": [
       "(1, 2, 3, 4, 5)"
      ]
     },
     "execution_count": 84,
     "metadata": {},
     "output_type": "execute_result"
    }
   ],
   "source": [
    "t1 = (1, 2, 3, 4, 5)\n",
    "t1"
   ]
  },
  {
   "cell_type": "code",
   "execution_count": 85,
   "id": "bc39fa5f-cce4-4fb1-b1f3-7e82db7dbe2c",
   "metadata": {},
   "outputs": [
    {
     "data": {
      "text/plain": [
       "('Istanbul', 'Ankara', 'Izmir', 'Canakkale')"
      ]
     },
     "execution_count": 85,
     "metadata": {},
     "output_type": "execute_result"
    }
   ],
   "source": [
    "t2 = ('Istanbul', 'Ankara', 'Izmir', 'Canakkale')\n",
    "t2"
   ]
  },
  {
   "cell_type": "code",
   "execution_count": 86,
   "id": "4ad78b0a-f327-411d-a7a8-c6a68b6b0ae4",
   "metadata": {},
   "outputs": [
    {
     "data": {
      "text/plain": [
       "(6700, 'John', False, -22.44, 1)"
      ]
     },
     "execution_count": 86,
     "metadata": {},
     "output_type": "execute_result"
    }
   ],
   "source": [
    "t3 = (6700, 'John', False, -22.44, 1)\n",
    "t3"
   ]
  },
  {
   "cell_type": "markdown",
   "id": "97d41218-cba4-4f17-9ee2-a5e724296f4c",
   "metadata": {},
   "source": [
    "#### Important note on single element tuple initialization"
   ]
  },
  {
   "cell_type": "code",
   "execution_count": 87,
   "id": "0a96a411-cfd1-4e79-8752-139db3566003",
   "metadata": {},
   "outputs": [
    {
     "name": "stdout",
     "output_type": "stream",
     "text": [
      "<class 'int'>\n"
     ]
    }
   ],
   "source": [
    "# Not a tuple\n",
    "t4 = (122) \n",
    "print(type(t4))"
   ]
  },
  {
   "cell_type": "code",
   "execution_count": 88,
   "id": "86ace9db-2c36-4f16-b9a6-c65200a65213",
   "metadata": {},
   "outputs": [
    {
     "name": "stdout",
     "output_type": "stream",
     "text": [
      "<class 'tuple'>\n"
     ]
    }
   ],
   "source": [
    "# Tuple with one element\n",
    "t4 = (122,)\n",
    "print(type(t4))"
   ]
  },
  {
   "cell_type": "markdown",
   "id": "71184271-9045-402f-b4da-ea439faa95e2",
   "metadata": {},
   "source": [
    "### Convert tuple to list"
   ]
  },
  {
   "cell_type": "code",
   "execution_count": 89,
   "id": "aebdae07-9742-46c3-bbf5-52a1f0e1f4f8",
   "metadata": {},
   "outputs": [
    {
     "data": {
      "text/plain": [
       "[1, 2, 5, 10]"
      ]
     },
     "execution_count": 89,
     "metadata": {},
     "output_type": "execute_result"
    }
   ],
   "source": [
    "list_from_tuple = list((1, 2, 5, 10))\n",
    "list_from_tuple"
   ]
  },
  {
   "cell_type": "markdown",
   "id": "c8c05422-33d8-4f28-9ee8-c232f9f30085",
   "metadata": {},
   "source": [
    "### Convert list to tuple"
   ]
  },
  {
   "cell_type": "code",
   "execution_count": 90,
   "id": "66b211ca-4484-4f25-b27c-2bb62c741fef",
   "metadata": {},
   "outputs": [
    {
     "data": {
      "text/plain": [
       "(6700, 'John', False, -22.44, 1)"
      ]
     },
     "execution_count": 90,
     "metadata": {},
     "output_type": "execute_result"
    }
   ],
   "source": [
    "tuple_from_list = tuple([6700, 'John', False, -22.44, 1])\n",
    "tuple_from_list"
   ]
  },
  {
   "cell_type": "markdown",
   "id": "8d343bb1-6688-4b86-958f-55dfdfcaf1a4",
   "metadata": {},
   "source": [
    "### Slicing"
   ]
  },
  {
   "cell_type": "raw",
   "id": "6e5bd621-d37e-4b70-9654-6b3280899b5c",
   "metadata": {},
   "source": [
    "l1[start:]          --> elements start through the rest of the list\n",
    "l1[:stop]           --> elements from the beginning through stop-1\n",
    "l1[start:stop]      --> elements start through stop-1\n",
    "l1[:]               --> all of the elements\n",
    "l1[start:stop:step] --> start through not past stop, by step (stop is not included)"
   ]
  },
  {
   "cell_type": "code",
   "execution_count": 91,
   "id": "0bbf1fc0-e652-4796-aee4-843d04c482e7",
   "metadata": {},
   "outputs": [
    {
     "name": "stdout",
     "output_type": "stream",
     "text": [
      "From first until fourth:\n",
      "['s', 't', 'r']\n",
      "['s', 't', 'r']\n",
      "Elements from second to fifth\n",
      "['t', 'r', 'a', 'w']\n",
      "Last element in the list\n",
      "y\n",
      "Lastest first in the list\n",
      "s\n",
      "From beginning to end but steps with 2\n",
      "['s', 'r', 'w', 'e', 'r']\n"
     ]
    }
   ],
   "source": [
    "#      0    1    2    3    4    5    6    7    8    9\n",
    "#    -10   -9   -8   -7   -6   -5   -4   -3   -2   -1\n",
    "l1 = ['s', 't', 'r', 'a', 'w', 'b', 'e', 'r', 'r', 'y']\n",
    "#l1 = [ 0,   1,   2,   3,   4,   5,   6,   7,   8,   9 ]\n",
    "\n",
    "# From first until fourth\n",
    "# (remember first one is at 0)\n",
    "print('From first until fourth:')\n",
    "print(l1[0:3])\n",
    "# Or you can write\n",
    "print(l1[:3])\n",
    "\n",
    "# Elements from second to fifth\n",
    "# (remember last one is not included)\n",
    "print('Elements from second to fifth')\n",
    "print(l1[1:5])\n",
    "\n",
    "# Last element in the list\n",
    "print('Last element in the list')\n",
    "print(l1[-1])\n",
    "\n",
    "# Lastest in the list\n",
    "print('Lastest first in the list')\n",
    "print(l1[-10])\n",
    "\n",
    "# From beginning to end but steps with 2\n",
    "print('From beginning to end but steps with 2')\n",
    "print(l1[::2])"
   ]
  },
  {
   "cell_type": "markdown",
   "id": "e454d896-ffb5-4718-b789-9788e474c8d5",
   "metadata": {},
   "source": [
    "#### When step is negative, direction is reversed"
   ]
  },
  {
   "cell_type": "code",
   "execution_count": 92,
   "id": "bbb0cd76-6b61-4ff5-a3e8-e69cabe6139a",
   "metadata": {},
   "outputs": [
    {
     "name": "stdout",
     "output_type": "stream",
     "text": [
      "Reverse a list\n",
      "['y', 'r', 'r', 'e', 'b', 'w', 'a', 'r', 't', 's']\n",
      "Step by 2 but reversed\n",
      "['y', 'r', 'b', 'a', 't']\n"
     ]
    }
   ],
   "source": [
    "# Reverse a list\n",
    "print('Reverse a list')\n",
    "print(l1[::-1])\n",
    "\n",
    "# Step by 2 but reversed\n",
    "print('Step by 2 but reversed')\n",
    "print(l1[::-2])"
   ]
  },
  {
   "cell_type": "markdown",
   "id": "199737e9-13e6-4ca5-a1c0-3a6cda73f6d5",
   "metadata": {},
   "source": [
    "#### Dictionary\n",
    "* Dictionaries are lists of key / value pairs\n",
    "* Keys and values can use any data type\n",
    "* Duplicate keys aren't allowed, duplice values are allowed"
   ]
  },
  {
   "cell_type": "code",
   "execution_count": 93,
   "id": "5d4c96ad-7f2a-4e26-829b-60cc289d8e0f",
   "metadata": {},
   "outputs": [
    {
     "data": {
      "text/plain": [
       "{'name': 'James', 'age': 55, 'occupation': 'data scientist'}"
      ]
     },
     "execution_count": 93,
     "metadata": {},
     "output_type": "execute_result"
    }
   ],
   "source": [
    "d1 = {\n",
    "    'name': 'James',\n",
    "    'age': 55,\n",
    "    'occupation': 'data scientist',\n",
    "}\n",
    "\n",
    "d1"
   ]
  },
  {
   "cell_type": "markdown",
   "id": "8b1bdbc6-b047-4639-9950-df2b06f7beaf",
   "metadata": {},
   "source": [
    "#### Initialize dictionary from scratch"
   ]
  },
  {
   "cell_type": "code",
   "execution_count": 94,
   "id": "9a0cb3a5-b413-401e-a2fa-8fc4f70a0b6b",
   "metadata": {},
   "outputs": [
    {
     "data": {
      "text/plain": [
       "{'name': 'Sarah', 'age': 34, 'occupation': 'software engineer'}"
      ]
     },
     "execution_count": 94,
     "metadata": {},
     "output_type": "execute_result"
    }
   ],
   "source": [
    "d2 = {}\n",
    "d2['name'] = 'Sarah'\n",
    "d2['age'] = 34\n",
    "d2['occupation'] = 'software engineer'\n",
    "d2"
   ]
  },
  {
   "cell_type": "code",
   "execution_count": 95,
   "id": "6a817b1d-bd24-4c72-b3c9-c59794671a32",
   "metadata": {},
   "outputs": [
    {
     "data": {
      "text/plain": [
       "{'name': 'Allison', 'age': 34, 'occupation': 'software engineer'}"
      ]
     },
     "execution_count": 95,
     "metadata": {},
     "output_type": "execute_result"
    }
   ],
   "source": [
    "# Note that key 'name' already exists, so it is overwritten\n",
    "d2['name'] = 'Allison'\n",
    "d2 "
   ]
  },
  {
   "cell_type": "markdown",
   "id": "c7502042-f64d-4add-9673-5b5abecc7a54",
   "metadata": {},
   "source": [
    "#### Another way to initialize dictionaries"
   ]
  },
  {
   "cell_type": "code",
   "execution_count": 96,
   "id": "4b183e07-083a-412f-99b9-255610610ba7",
   "metadata": {},
   "outputs": [
    {
     "data": {
      "text/plain": [
       "{'name': 'Tiffany', 'age': 22, 'occupation': 'database administrator'}"
      ]
     },
     "execution_count": 96,
     "metadata": {},
     "output_type": "execute_result"
    }
   ],
   "source": [
    "d3 = dict(name='Tiffany', age=22, occupation='database administrator')\n",
    "d3"
   ]
  },
  {
   "cell_type": "code",
   "execution_count": 97,
   "id": "4b32cdee-733b-4036-835a-07df057ca5e9",
   "metadata": {},
   "outputs": [
    {
     "name": "stdout",
     "output_type": "stream",
     "text": [
      "All keys: dict_keys(['name', 'age', 'occupation'])\n",
      "All values: dict_values(['Tiffany', 22, 'database administrator'])\n"
     ]
    }
   ],
   "source": [
    "print(f'All keys: {d3.keys()}')\n",
    "print(f'All values: {d3.values()}')"
   ]
  },
  {
   "cell_type": "code",
   "execution_count": 98,
   "id": "0d636b8c-10b9-4875-8c84-4855db78f331",
   "metadata": {},
   "outputs": [
    {
     "name": "stdout",
     "output_type": "stream",
     "text": [
      "All keys: ['name', 'age', 'occupation']\n",
      "All values: ['Tiffany', 22, 'database administrator']\n"
     ]
    }
   ],
   "source": [
    "# Convert to lists \n",
    "print(f'All keys: {list(d3.keys())}')\n",
    "print(f'All values: {list(d3.values())}')"
   ]
  },
  {
   "cell_type": "markdown",
   "id": "d88a5e90-f602-48ea-b8f1-9040cde52846",
   "metadata": {},
   "source": [
    "#### By default keys are looped through"
   ]
  },
  {
   "cell_type": "code",
   "execution_count": 99,
   "id": "2382772e-4b4f-48ac-9a0c-bf1e30c75fc3",
   "metadata": {},
   "outputs": [
    {
     "name": "stdout",
     "output_type": "stream",
     "text": [
      "name\n",
      "age\n",
      "occupation\n"
     ]
    }
   ],
   "source": [
    "for k in d3:\n",
    "    print(k)"
   ]
  },
  {
   "cell_type": "markdown",
   "id": "e2acb6a0-2042-44d6-a3da-4c5425dad38d",
   "metadata": {},
   "source": [
    "#### Looping through values"
   ]
  },
  {
   "cell_type": "code",
   "execution_count": 100,
   "id": "87e1dc6a-ea5b-4baa-a842-7c51a0eae739",
   "metadata": {},
   "outputs": [
    {
     "name": "stdout",
     "output_type": "stream",
     "text": [
      "Tiffany\n",
      "22\n",
      "database administrator\n"
     ]
    }
   ],
   "source": [
    "for v in d3.values():\n",
    "    print(v)"
   ]
  },
  {
   "cell_type": "markdown",
   "id": "0c139a3b-88b5-4bb7-aca4-bf3a6263737b",
   "metadata": {},
   "source": [
    "#### Looping through both keys and values"
   ]
  },
  {
   "cell_type": "code",
   "execution_count": 101,
   "id": "69ac9779-4669-4fd6-a480-65ba5be3ecfc",
   "metadata": {},
   "outputs": [
    {
     "name": "stdout",
     "output_type": "stream",
     "text": [
      "Key: name\n",
      "Value: Tiffany\n",
      "******************************\n",
      "Key: age\n",
      "Value: 22\n",
      "******************************\n",
      "Key: occupation\n",
      "Value: database administrator\n",
      "******************************\n"
     ]
    }
   ],
   "source": [
    "for k, v in d3.items():\n",
    "    print(f'Key: {k}')\n",
    "    print(f'Value: {v}')\n",
    "    print('*'*30)"
   ]
  },
  {
   "cell_type": "markdown",
   "id": "fc398faa-4e1d-4071-b6ab-2315a83e59f8",
   "metadata": {},
   "source": [
    "### Example: Basic Database with Dictionaries"
   ]
  },
  {
   "cell_type": "code",
   "execution_count": 102,
   "id": "6fbffa24-0722-4937-bfb9-4152e794f4fe",
   "metadata": {},
   "outputs": [
    {
     "data": {
      "text/plain": [
       "[{'name': 'James', 'age': 55, 'occupation': 'data scientist'},\n",
       " {'name': 'Tiffany', 'age': 42, 'occupation': 'database administrator'},\n",
       " {'name': 'Sarah', 'age': 23, 'occupation': 'data analyst'}]"
      ]
     },
     "execution_count": 102,
     "metadata": {},
     "output_type": "execute_result"
    }
   ],
   "source": [
    "database = [\n",
    "    {\n",
    "        'name': 'James',\n",
    "        'age': 55,\n",
    "        'occupation': 'data scientist',\n",
    "    },\n",
    "    {\n",
    "        'name': 'Tiffany',\n",
    "        'age': 42,\n",
    "        'occupation': 'database administrator',\n",
    "    },\n",
    "    {\n",
    "        'name': 'Sarah',\n",
    "        'age': 23,\n",
    "        'occupation': 'data analyst',\n",
    "    }\n",
    "]\n",
    "\n",
    "database"
   ]
  },
  {
   "cell_type": "code",
   "execution_count": 103,
   "id": "fea31c4a-4874-484b-90cf-6ec39c421402",
   "metadata": {},
   "outputs": [],
   "source": [
    "# change age if name is Tiffany\n",
    "for database_item in database:\n",
    "    if database_item['name'] == 'Tiffany':\n",
    "        database_item['age'] = 30"
   ]
  },
  {
   "cell_type": "code",
   "execution_count": 104,
   "id": "08c20317-b77c-42c8-af17-d53988c6515c",
   "metadata": {},
   "outputs": [
    {
     "data": {
      "text/plain": [
       "[{'name': 'James', 'age': 55, 'occupation': 'data scientist'},\n",
       " {'name': 'Tiffany', 'age': 30, 'occupation': 'database administrator'},\n",
       " {'name': 'Sarah', 'age': 23, 'occupation': 'data analyst'}]"
      ]
     },
     "execution_count": 104,
     "metadata": {},
     "output_type": "execute_result"
    }
   ],
   "source": [
    "database"
   ]
  },
  {
   "cell_type": "markdown",
   "id": "a208fe51-3f05-4997-bd08-3c587fa97919",
   "metadata": {},
   "source": [
    "### Set\n",
    "* Lists that are unordered\n",
    "* Duplicates are not allowed (unique)\n",
    "* Immutable\n",
    "* Often useful for set theory (mathematics)"
   ]
  },
  {
   "cell_type": "code",
   "execution_count": 105,
   "id": "b7b3a929-2552-4a82-aa73-b5c9675851e4",
   "metadata": {},
   "outputs": [
    {
     "data": {
      "text/plain": [
       "{-2, 3, 5, 33}"
      ]
     },
     "execution_count": 105,
     "metadata": {},
     "output_type": "execute_result"
    }
   ],
   "source": [
    "# Syntax is similar to dictionary but no key-value pairs\n",
    "s1 = {3, 5, -2, 33, 5, 3}\n",
    "s1"
   ]
  },
  {
   "cell_type": "markdown",
   "id": "385df793-fcf3-46a7-a1b8-f9f1e25b6f99",
   "metadata": {},
   "source": [
    "#### Removing duplicates in lists with sets"
   ]
  },
  {
   "cell_type": "code",
   "execution_count": 106,
   "id": "bffbc3c3-3ee7-406c-907b-28d9ebd4fff0",
   "metadata": {},
   "outputs": [
    {
     "name": "stdout",
     "output_type": "stream",
     "text": [
      "Original list: [200, 200, 512, 232, -123, 33, 55, 512]\n",
      "List without duplicates: [512, 33, -123, 200, 232, 55]\n"
     ]
    }
   ],
   "source": [
    "list_with_duplicates = [200, 200, 512, 232, -123, 33, 55, 512]\n",
    "set_from_list = set(list_with_duplicates)\n",
    "list_without_duplicates = list(set_from_list)\n",
    "\n",
    "print(f'Original list: {list_with_duplicates}')\n",
    "# Note that sets does not keep the order of the elements\n",
    "print(f'List without duplicates: {list_without_duplicates}')"
   ]
  },
  {
   "cell_type": "code",
   "execution_count": 107,
   "id": "45334b4b-16c7-4945-9c05-e4dbd8414ab9",
   "metadata": {},
   "outputs": [
    {
     "data": {
      "text/plain": [
       "{'elma', 'limon', 'portakal'}"
      ]
     },
     "execution_count": 107,
     "metadata": {},
     "output_type": "execute_result"
    }
   ],
   "source": [
    "l_temp = ['portakal', 'portakal', 'portakal', 'limon', 'elma']\n",
    "set(l_temp) # unique"
   ]
  },
  {
   "cell_type": "markdown",
   "id": "b86e0387-d903-45e0-b528-eeefbc037c8a",
   "metadata": {},
   "source": [
    "## Example: Running program that executes commands from user"
   ]
  },
  {
   "cell_type": "code",
   "execution_count": 108,
   "id": "e4f51c95-3b83-4e44-a83b-39f4a349061a",
   "metadata": {},
   "outputs": [],
   "source": [
    "def execute_command(command):\n",
    "    print(f'Executing command: {command}')\n",
    "\n",
    "valid_commands = ('read data', 'train', 'test')\n",
    "    \n",
    "def run_application():\n",
    "    # Infinite loop (running program)\n",
    "    while True:\n",
    "        # Read input (as string)\n",
    "        # Blocks the program until enter is pressed\n",
    "        input_command = input('>>> ')\n",
    "        # Check if user wants to stop the program\n",
    "        if input_command == 'quit':\n",
    "            print('Exiting loop')\n",
    "            break\n",
    "\n",
    "        # Check if input command is incorrect\n",
    "        if input_command not in valid_commands:\n",
    "            print(f'Input command {input_command} is not valid!')\n",
    "            continue\n",
    "\n",
    "        # If everything is normal, execute the command\n",
    "        execute_command(input_command)"
   ]
  },
  {
   "cell_type": "markdown",
   "id": "bf0a2e63-4f28-4e80-8f27-efd0c97f18c6",
   "metadata": {},
   "source": [
    "### NOTE: The example above contains an infinite loop that can block the execution of the whole notebook. Therefore, it is commented out. \n",
    "#### Uncomment below to run the example"
   ]
  },
  {
   "cell_type": "code",
   "execution_count": 109,
   "id": "4c7119bd-6e42-4d5d-87bd-871763720cc5",
   "metadata": {},
   "outputs": [],
   "source": [
    "#run_application()"
   ]
  },
  {
   "cell_type": "markdown",
   "id": "d317c569-e36c-4e9d-8fc6-f518b22e2536",
   "metadata": {},
   "source": [
    "## Another Example: Ordinal Encoder\n",
    "* Map string classnames into integers\n",
    "* Each classname should only map to single integer (unique)"
   ]
  },
  {
   "cell_type": "code",
   "execution_count": 110,
   "id": "ea8b4c75-cb2d-4184-9550-0a6b3ecc38e3",
   "metadata": {},
   "outputs": [
    {
     "data": {
      "text/plain": [
       "{'setosa': 0, 'versicolor': 1, 'virginica': 2}"
      ]
     },
     "execution_count": 110,
     "metadata": {},
     "output_type": "execute_result"
    }
   ],
   "source": [
    "# Classnames are from Iris dataset\n",
    "class_names = ('setosa', 'versicolor', 'virginica')\n",
    "\n",
    "class_to_int = {}\n",
    "mapping_int = 0\n",
    "\n",
    "# Loop trough the classnames\n",
    "for class_name in class_names:\n",
    "    # If class already exits, skip it\n",
    "    if class_name not in class_to_int.keys():\n",
    "        # If not, create a new key-value pair\n",
    "        class_to_int[class_name] = mapping_int\n",
    "        # Increase mapping integer by one to map the next one\n",
    "        mapping_int += 1\n",
    "        \n",
    "class_to_int"
   ]
  },
  {
   "cell_type": "markdown",
   "id": "7e7ab265-1b90-4c32-8c3b-38f69534aa08",
   "metadata": {},
   "source": [
    "### Example with duplicates\n",
    "* Duplicates should be avoided in ordinal encoding"
   ]
  },
  {
   "cell_type": "code",
   "execution_count": 111,
   "id": "39592f78-4232-4f3c-b381-1278a3370de1",
   "metadata": {},
   "outputs": [
    {
     "data": {
      "text/plain": [
       "{'car': 0, 'truck': 1, 'ship': 2, 'bicycle': 3}"
      ]
     },
     "execution_count": 111,
     "metadata": {},
     "output_type": "execute_result"
    }
   ],
   "source": [
    "# Assume there are duplicates in the classnames\n",
    "class_names = ('car', 'car', 'truck', 'ship', 'bicycle', 'car', 'bicycle')\n",
    "\n",
    "class_to_int = {}\n",
    "mapping_int = 0\n",
    "\n",
    "# Loop trough the classnames\n",
    "for class_name in class_names:\n",
    "    # If class already exits, skip it\n",
    "    if class_name not in class_to_int.keys():\n",
    "        # If not, create a new key-value pair\n",
    "        class_to_int[class_name] = mapping_int\n",
    "        # Increase mapping integer by one to map the next one\n",
    "        mapping_int += 1\n",
    "        \n",
    "class_to_int"
   ]
  },
  {
   "cell_type": "markdown",
   "id": "9b87a2c3-01c9-4774-ad62-5c7286e8b704",
   "metadata": {},
   "source": [
    "## File I/O"
   ]
  },
  {
   "cell_type": "code",
   "execution_count": 112,
   "id": "4ce1dbb4-8b27-47f2-aa92-86841bb096db",
   "metadata": {},
   "outputs": [
    {
     "name": "stdout",
     "output_type": "stream",
     "text": [
      "this is the first line\n",
      "\n",
      "this is the second line\n",
      "\n"
     ]
    }
   ],
   "source": [
    "file = open('example_text_file.txt', 'r')\n",
    "\n",
    "# Loop through each line in file\n",
    "for line in file:\n",
    "    print(line)\n",
    "\n",
    "file.close()"
   ]
  },
  {
   "cell_type": "code",
   "execution_count": 113,
   "id": "5005b787-c75b-484d-b5b6-b525c4ff9097",
   "metadata": {},
   "outputs": [
    {
     "name": "stdout",
     "output_type": "stream",
     "text": [
      "this is the first line\n",
      "this is the second line\n",
      "\n"
     ]
    }
   ],
   "source": [
    "with open('example_text_file.txt', 'r') as file:\n",
    "    print(file.read())"
   ]
  },
  {
   "cell_type": "code",
   "execution_count": 114,
   "id": "9ab07126-a294-4a8e-a9c7-ea82b6981fa6",
   "metadata": {},
   "outputs": [],
   "source": [
    "# Note that this overwrites any previous data in the file\n",
    "with open('example_text_file2.txt', 'w') as file:\n",
    "    # \\n is for addig a newline\n",
    "    file.write('first line is written \\n')\n",
    "    file.write('second line is written \\n')"
   ]
  },
  {
   "cell_type": "code",
   "execution_count": 115,
   "id": "b3a6a8fb-b017-4e40-ac57-c6c95ffc8c7c",
   "metadata": {},
   "outputs": [],
   "source": [
    "# Append to the end of the file\n",
    "with open('example_text_file2.txt', 'a') as file:\n",
    "    file.write('third line is written \\n')"
   ]
  },
  {
   "cell_type": "markdown",
   "id": "01df93fa-ea0d-4e3e-8ccf-c022f47d06e4",
   "metadata": {},
   "source": [
    "# Object Oriented Programming (OOP)\n",
    "* OOP is a programming paradigm that encapsulate data and behavior\n",
    "* In Python, everything is an object, and you can create your own objects with classes\n",
    "* A class is a blueprint for creating objects. \n",
    "* Objects are instances of classes. \n",
    "* Think of a class as a template and an object as an instance of that template.\n",
    "* In OOP, class functions are called \"methods\" and variables are called \"attributes\" (or \"fields\")"
   ]
  },
  {
   "cell_type": "code",
   "execution_count": 116,
   "id": "629d0225-69f1-460f-bbf0-f423e6617587",
   "metadata": {
    "tags": []
   },
   "outputs": [],
   "source": [
    "class Car:\n",
    "    # __init__ method, which is a special method that gets called when an object is created\n",
    "    # This method initializes the attributes of the object (make, model, and year)\n",
    "    def __init__(self, make, model, year):\n",
    "        # Attributes\n",
    "        self.make = make\n",
    "        self.model = model\n",
    "        self.year = year\n",
    "        \n",
    "    def get_model(self):\n",
    "        return self.model\n",
    "\n",
    "    def set_model(self, yeni_deger):\n",
    "        self.model = yeni_deger\n",
    "    \n",
    "    # Methods\n",
    "    def display_info(self):\n",
    "        print(f'{self.year} {self.make} {self.model}')"
   ]
  },
  {
   "cell_type": "markdown",
   "id": "036e549a-9327-4c70-baa5-85508d538c3c",
   "metadata": {},
   "source": [
    "### Creating Instances (Objects)"
   ]
  },
  {
   "cell_type": "code",
   "execution_count": 117,
   "id": "5b2ae65d-f380-445e-8ab7-64548feba650",
   "metadata": {
    "tags": []
   },
   "outputs": [
    {
     "name": "stdout",
     "output_type": "stream",
     "text": [
      "2022 Fiat Doblo\n",
      "2021 Honda Accord\n"
     ]
    }
   ],
   "source": [
    "car1 = Car('Fiat', 'Doblo', 2022)\n",
    "car2 = Car('Honda', 'Accord', 2021)\n",
    "\n",
    "car1.display_info()\n",
    "car2.display_info()"
   ]
  },
  {
   "cell_type": "markdown",
   "id": "c82ad35e-7419-4bc8-8ba8-7913252b8c51",
   "metadata": {},
   "source": [
    "## Inheritance"
   ]
  },
  {
   "cell_type": "code",
   "execution_count": 118,
   "id": "ac43e217-47eb-46bd-8162-7a1c22588149",
   "metadata": {
    "tags": []
   },
   "outputs": [],
   "source": [
    "class ElectricCar(Car):\n",
    "    def __init__(self, make, model, year, battery_capacity):\n",
    "        # Call the constructor of the parent class (Car)\n",
    "        super().__init__(make, model, year)\n",
    "        self.battery_capacity = battery_capacity"
   ]
  },
  {
   "cell_type": "code",
   "execution_count": 119,
   "id": "d5fa902e-fd6f-4c13-90e5-d819603da0a3",
   "metadata": {
    "tags": []
   },
   "outputs": [
    {
     "name": "stdout",
     "output_type": "stream",
     "text": [
      "2023 Tesla Model S\n"
     ]
    }
   ],
   "source": [
    "electric_car = ElectricCar('Tesla', 'Model S', 2023, 100)\n",
    "\n",
    "electric_car.display_info()"
   ]
  },
  {
   "cell_type": "markdown",
   "id": "ee4acdd7-7dfc-4c0c-97d3-79014a16c9cb",
   "metadata": {},
   "source": [
    "### with Override\n",
    "* Redefine (override) the previously defined functions in parent class"
   ]
  },
  {
   "cell_type": "code",
   "execution_count": 120,
   "id": "25afc60b-1d40-4a52-ac7f-579536410487",
   "metadata": {
    "tags": []
   },
   "outputs": [],
   "source": [
    "class ElectricCar(Car):\n",
    "    def __init__(self, make, model, year, battery_capacity):\n",
    "        # Call the constructor of the parent class (Car)\n",
    "        super().__init__(make, model, year)\n",
    "        self.battery_capacity = battery_capacity\n",
    "\n",
    "    \n",
    "    def display_info(self):\n",
    "        # Override the display_info method to include battery capacity\n",
    "        print(f'{self.year} {self.make} {self.model} (Electric), Battery Capacity: {self.battery_capacity} kWh')"
   ]
  },
  {
   "cell_type": "code",
   "execution_count": 121,
   "id": "2785d75c-ddd0-4830-bd9e-b896033c550d",
   "metadata": {
    "tags": []
   },
   "outputs": [
    {
     "name": "stdout",
     "output_type": "stream",
     "text": [
      "2023 Tesla Model S (Electric), Battery Capacity: 100 kWh\n"
     ]
    }
   ],
   "source": [
    "electric_car = ElectricCar('Tesla', 'Model S', 2023, 100)\n",
    "\n",
    "electric_car.display_info()"
   ]
  },
  {
   "cell_type": "code",
   "execution_count": null,
   "id": "ae232d9a-6630-4341-9b2a-33f0b0c88a1f",
   "metadata": {},
   "outputs": [],
   "source": []
  }
 ],
 "metadata": {
  "kernelspec": {
   "display_name": "Python 3 (ipykernel)",
   "language": "python",
   "name": "python3"
  },
  "language_info": {
   "codemirror_mode": {
    "name": "ipython",
    "version": 3
   },
   "file_extension": ".py",
   "mimetype": "text/x-python",
   "name": "python",
   "nbconvert_exporter": "python",
   "pygments_lexer": "ipython3",
   "version": "3.11.5"
  }
 },
 "nbformat": 4,
 "nbformat_minor": 5
}
